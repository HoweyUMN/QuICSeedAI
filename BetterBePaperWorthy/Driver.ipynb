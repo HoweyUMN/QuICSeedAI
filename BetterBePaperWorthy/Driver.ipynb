{
 "cells": [
  {
   "cell_type": "markdown",
   "metadata": {},
   "source": [
    "# ML-QuIC Demonstration Notebook"
   ]
  },
  {
   "cell_type": "markdown",
   "metadata": {},
   "source": [
    "### Metrics Quick Reference\n",
    "Accuracy = % correct\n",
    "Precision = % identified positive which actually were\n",
    "Recall = % of positive samples identified"
   ]
  },
  {
   "cell_type": "markdown",
   "metadata": {},
   "source": [
    "## Universal Import of Data and Packages"
   ]
  },
  {
   "cell_type": "code",
   "execution_count": 11,
   "metadata": {},
   "outputs": [],
   "source": [
    "### Import Packages\n",
    "import imp\n",
    "import ML_QuIC\n",
    "imp.reload(ML_QuIC)\n",
    "import copy\n",
    "import numpy as np"
   ]
  },
  {
   "cell_type": "code",
   "execution_count": 12,
   "metadata": {},
   "outputs": [
    {
     "name": "stdout",
     "output_type": "stream",
     "text": [
      "Loading Data from ./Data/\n"
     ]
    },
    {
     "data": {
      "text/plain": [
       "[         content_replicate   X0  X0.75  X1.5  X2.25   X3  X3.75  X4.5  X5.25  \\\n",
       " 0     blank_1-20230920_M10  626    331   347    357  368    381   396    384   \n",
       " 1                    43G_1  484    282   289    297  294    292   289    289   \n",
       " 2                 43Gx01_1  613    318   318    346  360    364   371    367   \n",
       " 3                    44G_1  558    308   300    309  302    307   308    303   \n",
       " 4                 44Gx01_1  585    317   336    356  360    377   377    390   \n",
       " ...                    ...  ...    ...   ...    ...  ...    ...   ...    ...   \n",
       " 9259             104Px03_4  851    573   591    596  601    602   605    600   \n",
       " 9260             105Px02_4  852    591   606    611  623    618   626    618   \n",
       " 9261             106Px01_4  453    365   357    361  353    358   356    355   \n",
       " 9262             106Px03_4  445    358   348    350  354    347   346    355   \n",
       " 9263             108Px02_4  435    347   341    342  341    343   347    337   \n",
       " \n",
       "        X6  ...  X41.25  X42  X42.75  X43.5  X44.25   X45  X45.75  X46.5  \\\n",
       " 0     394  ...     410  432     431    427     427   441     422    420   \n",
       " 1     299  ...     345  356     351    350     358   359     355    362   \n",
       " 2     379  ...     385  393     395    400     406   397     400    402   \n",
       " 3     310  ...     373  367     377    377     369   377     367    376   \n",
       " 4     391  ...     398  400     393    389     405   385     418    408   \n",
       " ...   ...  ...     ...  ...     ...    ...     ...   ...     ...    ...   \n",
       " 9259  616  ...     660  657     653    636     625   632     630    646   \n",
       " 9260  629  ...     635  623     628    628     622   624     633    626   \n",
       " 9261  354  ...     335  340     334    332     342   338     365    383   \n",
       " 9262  349  ...     333  326     334    331     333   327     326    324   \n",
       " 9263  332  ...     737  811     888    951    1075  1070    1240   1282   \n",
       " \n",
       "       X47.25   X48  \n",
       " 0        433   442  \n",
       " 1        364   368  \n",
       " 2        405   404  \n",
       " 3        368   399  \n",
       " 4        408   402  \n",
       " ...      ...   ...  \n",
       " 9259     633   621  \n",
       " 9260     614   608  \n",
       " 9261     410   429  \n",
       " 9262     329   327  \n",
       " 9263    1372  1429  \n",
       " \n",
       " [9264 rows x 66 columns],\n",
       "      well  content  replicate     content_replicate  format      plate_ID  \\\n",
       " 0     A01    blank          1  blank_1-20230920_M10      96  20230920_M10   \n",
       " 1     A03      43G          1                 43G_1      96  20230920_M10   \n",
       " 2     A04   43Gx01          1              43Gx01_1      96  20230920_M10   \n",
       " 3     A05      44G          1                 44G_1      96  20230920_M10   \n",
       " 4     A06   44Gx01          1              44Gx01_1      96  20230920_M10   \n",
       " ...   ...      ...        ...                   ...     ...           ...   \n",
       " 9259  H06  104Px03          4             104Px03_4      96   20221209_M4   \n",
       " 9260  H07  105Px02          4             105Px02_4      96   20221209_M4   \n",
       " 9261  H08  106Px01          4             106Px01_4      96   20221209_M4   \n",
       " 9262  H09  106Px03          4             106Px03_4      96   20221209_M4   \n",
       " 9263  H10  108Px02          4             108Px02_4      96   20221209_M4   \n",
       " \n",
       "      instrument phase  final  \n",
       " 0           M10     G      0  \n",
       " 1           M10     G      0  \n",
       " 2           M10     G      0  \n",
       " 3           M10     G      0  \n",
       " 4           M10     G      0  \n",
       " ...         ...   ...    ...  \n",
       " 9259         M4     P      0  \n",
       " 9260         M4     P      0  \n",
       " 9261         M4     P      0  \n",
       " 9262         M4     P      0  \n",
       " 9263         M4     P      1  \n",
       " \n",
       " [9264 rows x 9 columns],\n",
       "          content_replicate  TimeToThreshold       RAF       MPR     MS\n",
       " 0     blank_1-20230920_M10              0.0  0.000000  1.701087  13.50\n",
       " 1                    43G_1              0.0  0.000000  1.646259   5.50\n",
       " 2                 43Gx01_1              0.0  0.000000  1.702778  13.25\n",
       " 3                    44G_1              0.0  0.000000  1.847682   5.75\n",
       " 4                 44Gx01_1              0.0  0.000000  1.625000  15.00\n",
       " ...                    ...              ...       ...       ...    ...\n",
       " 9259             104Px03_4              0.0  0.000000  1.415973   7.75\n",
       " 9260             105Px02_4              0.0  0.000000  1.367576   6.75\n",
       " 9261             106Px01_4              0.0  0.000000  1.283286  22.75\n",
       " 9262             106Px03_4              0.0  0.000000  1.257062   3.25\n",
       " 9263             108Px02_4             48.0  0.020833  4.190616  89.75\n",
       " \n",
       " [9264 rows x 5 columns]]"
      ]
     },
     "execution_count": 12,
     "metadata": {},
     "output_type": "execute_result"
    }
   ],
   "source": [
    "### Import Data and Create Objects to Analyze\n",
    "DATA_DIR = './Data/'\n",
    "RANDOM_SEED = 7\n",
    "\n",
    "# Load data\n",
    "ml_quic = ML_QuIC.ML_QuIC()\n",
    "ml_quic.import_dataset(data_dir=DATA_DIR)"
   ]
  },
  {
   "cell_type": "markdown",
   "metadata": {},
   "source": [
    "## Train Unsupervised Models"
   ]
  },
  {
   "cell_type": "markdown",
   "metadata": {},
   "source": [
    "### KMeans"
   ]
  },
  {
   "cell_type": "code",
   "execution_count": 13,
   "metadata": {},
   "outputs": [],
   "source": [
    "### Unsupervised Learning - Raw\n",
    "from Models import KMeansModel\n",
    "\n",
    "# K-Means\n",
    "x = ml_quic.get_numpy_dataset('raw')\n",
    "ml_quic.add_model(KMeansModel.KMeansModel(n_clusters = 2), model_name='KMeans', tag='Unsupervised')"
   ]
  },
  {
   "cell_type": "markdown",
   "metadata": {},
   "source": [
    "### Autoencoder"
   ]
  },
  {
   "cell_type": "code",
   "execution_count": 14,
   "metadata": {},
   "outputs": [],
   "source": [
    "# Autoencoder \n",
    "from sklearn.model_selection import train_test_split\n",
    "from Models import AutoEncoder\n",
    "imp.reload(AutoEncoder)\n",
    "\n",
    "# Load new data\n",
    "y = ml_quic.get_numpy_dataset('labels')\n",
    "\n",
    "# Get positive samples to train on \n",
    "x_train, x_test, y_train, y_test = train_test_split(x[y == 2], y[y == 2], test_size=0.2)\n",
    "x_test = np.concatenate((x_test, x[y != 2]))\n",
    "\n",
    "ml_quic.add_model(AutoEncoder.AutoEncoder(NDIM=x_test.shape[1]), model_name='AE', tag='Unsupervised')"
   ]
  },
  {
   "cell_type": "markdown",
   "metadata": {},
   "source": [
    "### Train and Compare Unsupervised Models"
   ]
  },
  {
   "cell_type": "code",
   "execution_count": null,
   "metadata": {},
   "outputs": [],
   "source": [
    "ml_quic.train_models()"
   ]
  },
  {
   "cell_type": "markdown",
   "metadata": {},
   "source": [
    "## Supervised"
   ]
  },
  {
   "cell_type": "markdown",
   "metadata": {},
   "source": [
    "### Multilayer Perceptron"
   ]
  },
  {
   "cell_type": "code",
   "execution_count": 15,
   "metadata": {},
   "outputs": [],
   "source": [
    "from Models import MLP\n",
    "imp.reload(MLP)\n",
    "\n",
    "# Get positive samples to train on \n",
    "x_train, x_test, y_train, y_test = train_test_split(x, y, test_size=0.2)\n",
    "ml_quic.add_model(MLP.MLP(NDIM = x_test.shape[1]), 'mlp', tag='Supervised')"
   ]
  }
 ],
 "metadata": {
  "kernelspec": {
   "display_name": "tf-keras-gpu",
   "language": "python",
   "name": "python3"
  },
  "language_info": {
   "codemirror_mode": {
    "name": "ipython",
    "version": 3
   },
   "file_extension": ".py",
   "mimetype": "text/x-python",
   "name": "python",
   "nbconvert_exporter": "python",
   "pygments_lexer": "ipython3",
   "version": "3.11.5"
  }
 },
 "nbformat": 4,
 "nbformat_minor": 2
}
