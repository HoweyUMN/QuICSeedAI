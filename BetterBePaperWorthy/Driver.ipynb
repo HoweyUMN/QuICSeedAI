{
 "cells": [
  {
   "cell_type": "markdown",
   "metadata": {},
   "source": [
    "# ML-QuIC Demonstration Notebook"
   ]
  },
  {
   "cell_type": "markdown",
   "metadata": {},
   "source": [
    "## Universal Import of Data and Packages"
   ]
  },
  {
   "cell_type": "code",
   "execution_count": 1,
   "metadata": {},
   "outputs": [
    {
     "name": "stderr",
     "output_type": "stream",
     "text": [
      "c:\\Users\\kyleh\\anaconda3\\envs\\tf-keras-gpu\\lib\\site-packages\\rpy2\\robjects\\packages.py:367: UserWarning: The symbol 'quartz' is not in this R namespace/package.\n",
      "  warnings.warn(\n",
      "c:\\Users\\kyleh\\anaconda3\\envs\\tf-keras-gpu\\lib\\site-packages\\rpy2\\robjects\\lib\\ggplot2.py:70: UserWarning: This was designed againt ggplot2 versions starting with 3.3. but you have 3.4.3\n",
      "  warnings.warn(\n"
     ]
    }
   ],
   "source": [
    "### Import Packages\n",
    "import imp\n",
    "import ML_QuIC\n",
    "imp.reload(ML_QuIC)\n",
    "import copy\n",
    "import numpy as np"
   ]
  },
  {
   "cell_type": "code",
   "execution_count": 2,
   "metadata": {},
   "outputs": [
    {
     "name": "stdout",
     "output_type": "stream",
     "text": [
      "Loading Data from ./Data/\n"
     ]
    }
   ],
   "source": [
    "### Import Data and Create Objects to Analyze\n",
    "DATA_DIR = './Data/'\n",
    "RANDOM_SEED = 7\n",
    "\n",
    "# Load data\n",
    "data_importer = ML_QuIC.ML_QuIC()\n",
    "data_importer.import_dataset(data_dir=DATA_DIR)\n",
    "\n",
    "# Create clones for different model prep\n",
    "supervised = copy.copy(data_importer)\n",
    "unsupervised = copy.copy(data_importer)"
   ]
  },
  {
   "cell_type": "markdown",
   "metadata": {},
   "source": [
    "## Train Unsupervised Models"
   ]
  },
  {
   "cell_type": "markdown",
   "metadata": {},
   "source": [
    "### KMeans"
   ]
  },
  {
   "cell_type": "code",
   "execution_count": 3,
   "metadata": {},
   "outputs": [
    {
     "name": "stdout",
     "output_type": "stream",
     "text": [
      "              precision    recall  f1-score   support\n",
      "\n",
      "         neg       0.92      0.99      0.96      7991\n",
      "         pos       0.93      0.47      0.62      1273\n",
      "\n",
      "    accuracy                           0.92      9264\n",
      "   macro avg       0.93      0.73      0.79      9264\n",
      "weighted avg       0.92      0.92      0.91      9264\n",
      "\n"
     ]
    },
    {
     "data": {
      "text/plain": [
       "'              precision    recall  f1-score   support\\n\\n         neg       0.92      0.99      0.96      7991\\n         pos       0.93      0.47      0.62      1273\\n\\n    accuracy                           0.92      9264\\n   macro avg       0.93      0.73      0.79      9264\\nweighted avg       0.92      0.92      0.91      9264\\n'"
      ]
     },
     "execution_count": 3,
     "metadata": {},
     "output_type": "execute_result"
    }
   ],
   "source": [
    "### Unsupervised Learning - Raw\n",
    "from Models import KMeansModel\n",
    "\n",
    "# K-Means\n",
    "km_struct = copy.copy(unsupervised)\n",
    "x = km_struct.get_numpy_dataset('raw')\n",
    "km_struct.set_model(KMeansModel.KMeansModel(n_clusters = 2))\n",
    "km_struct.train_model(x)\n",
    "km_struct.get_model_scores()"
   ]
  },
  {
   "cell_type": "markdown",
   "metadata": {},
   "source": [
    "### Autoencoder"
   ]
  },
  {
   "cell_type": "code",
   "execution_count": 5,
   "metadata": {},
   "outputs": [
    {
     "name": "stdout",
     "output_type": "stream",
     "text": [
      "              precision    recall  f1-score   support\n",
      "\n",
      "         neg       0.91      1.00      0.95      7991\n",
      "         pos       0.92      0.36      0.51      1273\n",
      "\n",
      "    accuracy                           0.91      9264\n",
      "   macro avg       0.91      0.68      0.73      9264\n",
      "weighted avg       0.91      0.91      0.89      9264\n",
      "\n"
     ]
    },
    {
     "data": {
      "text/plain": [
       "'              precision    recall  f1-score   support\\n\\n         neg       0.91      1.00      0.95      7991\\n         pos       0.92      0.36      0.51      1273\\n\\n    accuracy                           0.91      9264\\n   macro avg       0.91      0.68      0.73      9264\\nweighted avg       0.91      0.91      0.89      9264\\n'"
      ]
     },
     "execution_count": 5,
     "metadata": {},
     "output_type": "execute_result"
    }
   ],
   "source": [
    "# Autoencoder \n",
    "from sklearn.model_selection import train_test_split\n",
    "from Models import AutoEncoder\n",
    "imp.reload(AutoEncoder)\n",
    "\n",
    "ae_struct = copy.copy(unsupervised)\n",
    "x = ae_struct.get_numpy_dataset('raw')\n",
    "y = ae_struct.get_numpy_dataset('labels')\n",
    "\n",
    "# Get positive samples to train on \n",
    "x_train, x_test, y_train, y_test = train_test_split(x[y == 2], y[y == 2], test_size=0.2)\n",
    "x_test = np.concatenate((x_test, x[y != 2]))\n",
    "\n",
    "ae_struct.set_model(AutoEncoder.AutoEncoder(NDIM=x_test.shape[1]))\n",
    "ae_struct.train_model(dataset=x_train, labels = y_train)\n",
    "ae_struct.get_model_scores()\n"
   ]
  },
  {
   "cell_type": "code",
   "execution_count": null,
   "metadata": {},
   "outputs": [],
   "source": []
  }
 ],
 "metadata": {
  "kernelspec": {
   "display_name": "tf-keras-gpu",
   "language": "python",
   "name": "python3"
  },
  "language_info": {
   "codemirror_mode": {
    "name": "ipython",
    "version": 3
   },
   "file_extension": ".py",
   "mimetype": "text/x-python",
   "name": "python",
   "nbconvert_exporter": "python",
   "pygments_lexer": "ipython3",
   "version": "3.9.12"
  }
 },
 "nbformat": 4,
 "nbformat_minor": 2
}
