{
 "cells": [
  {
   "cell_type": "code",
   "execution_count": 1,
   "source": [
    "### Imports\n",
    "# Python Package Imports\n",
    "import os\n",
    "import socket\n",
    "if socket.gethostname() == 'Desktop-CS1TBMI':\n",
    "  os.environ['R_HOME'] = \"C:/PROGRA~1/R/R-43~1.1\"\n",
    "else:\n",
    "  os.environ['R_HOME'] = 'C:/Users/howey024/AppData/Local/Programs/R/R-4.3.2'\n",
    "import glob\n",
    "import rpy2\n",
    "import rpy2.robjects as robjects\n",
    "from rpy2.robjects import pandas2ri\n",
    "from rpy2.ipython.ggplot import image_png\n",
    "from rpy2.robjects.packages import importr, data\n",
    "import numpy as np\n",
    "import pandas as pd\n",
    "import matplotlib.pyplot as plt"
   ],
   "outputs": [
    {
     "output_type": "stream",
     "name": "stderr",
     "text": [
      "c:\\Users\\kyleh\\anaconda3\\envs\\tf-keras-gpu\\lib\\site-packages\\rpy2\\robjects\\packages.py:367: UserWarning: The symbol 'quartz' is not in this R namespace/package.\n",
      "  warnings.warn(\n",
      "c:\\Users\\kyleh\\anaconda3\\envs\\tf-keras-gpu\\lib\\site-packages\\rpy2\\robjects\\lib\\ggplot2.py:70: UserWarning: This was designed againt ggplot2 versions starting with 3.3. but you have 3.4.3\n",
      "  warnings.warn(\n"
     ]
    }
   ],
   "metadata": {}
  },
  {
   "cell_type": "code",
   "execution_count": 2,
   "source": [
    "### R Function Imports\n",
    "base = importr('base')\n",
    "utils = importr('utils')\n",
    "stringr = importr('stringr')\n",
    "readxl = importr('readxl')\n",
    "tidyverse = importr('tidyverse')\n",
    "QuICAnalysis = importr('QuICAnalysis')"
   ],
   "outputs": [],
   "metadata": {}
  },
  {
   "cell_type": "code",
   "execution_count": 3,
   "source": [
    "### Data Import\n",
    "\n",
    "# Get a list of folders to search for data\n",
    "folders = next(os.walk('./data'))[1]\n",
    "folders = ['./data/' + folder for folder in folders]\n",
    "\n",
    "# Search folders for appropriately named excel files and store together in a list of dictionaries\n",
    "dataset = []\n",
    "for i,folder in enumerate(folders):\n",
    "    print(folder)\n",
    "    dataset.append({})\n",
    "\n",
    "    plate_path = glob.glob(folder + '/*plate*.xlsx')[0].replace('\\\\', '/')\n",
    "    raw_path = glob.glob(folder + '/*raw*.xlsx')[0].replace('\\\\', '/')\n",
    "    replicate_path = glob.glob(folder + '/*replicate*.xlsx')[0].replace('\\\\', '/')\n",
    "\n",
    "    plate_data = readxl.read_xlsx(plate_path)\n",
    "    raw_data = readxl.read_xlsx(raw_path)\n",
    "    replicate_data = readxl.read_xlsx(replicate_path)\n",
    "\n",
    "    # List of dictionaries mimics original R script\n",
    "    dataset[i]['Plate'] = plate_data\n",
    "    dataset[i]['Raw'] = raw_data\n",
    "    dataset[i]['Replicate'] = replicate_data"
   ],
   "outputs": [
    {
     "output_type": "stream",
     "name": "stdout",
     "text": [
      "./data/20230320_P1\n",
      "New names:\n",
      "* `` -> `...1`\n",
      "New names:\n",
      "* `` -> `...2`\n",
      "New names:\n",
      "* `` -> `...1`\n",
      "./data/20230411_P2\n",
      "New names:\n",
      "* `` -> `...1`\n",
      "New names:\n",
      "* `` -> `...2`\n",
      "New names:\n",
      "* `` -> `...1`\n",
      "./data/20230706_M7\n",
      "New names:\n",
      "* `` -> `...1`\n",
      "New names:\n",
      "* `` -> `...2`\n",
      "New names:\n",
      "* `` -> `...1`\n",
      "./data/20230808_M12\n",
      "New names:\n",
      "* `` -> `...1`\n",
      "New names:\n",
      "* `` -> `...2`\n",
      "New names:\n",
      "* `` -> `...1`\n"
     ]
    }
   ],
   "metadata": {}
  },
  {
   "cell_type": "code",
   "execution_count": 4,
   "source": [
    "### Data Analysis and Decomposition\n",
    "\n",
    "# Analyzing dataframes and storing in lists\n",
    "my_norm_analysis = []\n",
    "my_analysis = []\n",
    "for data_dict in dataset:\n",
    "    robjects.globalenv[\"AlternativeTime\"] = QuICAnalysis.GetTime(data_dict['Raw'])\n",
    "\n",
    "    meta = QuICAnalysis.GetCleanMeta(data_dict['Raw'], data_dict['Plate'], data_dict['Replicate'])\n",
    "    clean_raw = QuICAnalysis.GetCleanRaw(meta, data_dict['Raw'])\n",
    "\n",
    "    analysis = QuICAnalysis.GetAnalysis(clean_raw, 10, 10, 4)\n",
    "    meta_analysis = base.cbind(meta,analysis)\n",
    "\n",
    "    analysis_norm = QuICAnalysis.NormAnalysis(metadata = meta, data = meta_analysis, control_name = 'pos')\n",
    "\n",
    "    my_norm_analysis.append(analysis_norm)\n",
    "    my_analysis.append(meta_analysis)"
   ],
   "outputs": [],
   "metadata": {}
  },
  {
   "cell_type": "code",
   "execution_count": 5,
   "source": [
    "### Convert R Dataframes to Pandas Dataframes\n",
    "my_df = pd.DataFrame()\n",
    "for norm_analysis in my_norm_analysis:\n",
    "  with (robjects.default_converter + pandas2ri.converter).context():\n",
    "    dataframe = robjects.conversion.get_conversion().rpy2py(norm_analysis)\n",
    "  my_df = pd.concat((my_df, dataframe), axis=0)\n",
    "dataframe = my_df\n",
    "print(dataframe)"
   ],
   "outputs": [
    {
     "output_type": "stream",
     "name": "stdout",
     "text": [
      "    well content  replicate content_replicate  format  TimeToThreshold  \\\n",
      "1    A01     neg        1.0             neg_1    96.0         0.000000   \n",
      "2    A02     neg        1.0             neg_1    96.0         0.000000   \n",
      "3    A03     pos        1.0             pos_1    96.0         1.121294   \n",
      "4    A04     pos        1.0             pos_1    96.0         0.690027   \n",
      "5    A05     pos        1.0             pos_1    96.0         0.905660   \n",
      "..   ...     ...        ...               ...     ...              ...   \n",
      "340  P15      96        8.0              96_8   384.0         2.707692   \n",
      "341  P16      97        8.0              97_8   384.0         1.517949   \n",
      "342  P17      98        8.0              98_8   384.0         0.000000   \n",
      "343  P18      99        8.0              99_8   384.0         0.000000   \n",
      "344  P19      91        8.0              91_8   384.0         0.000000   \n",
      "\n",
      "          RAF       MPR        MS  \n",
      "1    0.000000  0.094896  0.008785  \n",
      "2    0.000000  0.096728  0.006314  \n",
      "3    0.829226  0.326074  0.366224  \n",
      "4    1.347492  1.112047  1.086456  \n",
      "5    1.026660  0.859711  0.880009  \n",
      "..        ...       ...       ...  \n",
      "340  0.355044  2.823121  2.334327  \n",
      "341  0.633322  0.396889  0.309621  \n",
      "342  0.000000  0.058545  0.008276  \n",
      "343  0.000000  0.062550  0.006329  \n",
      "344  0.000000  0.053705  0.006329  \n",
      "\n",
      "[632 rows x 9 columns]\n"
     ]
    }
   ],
   "metadata": {}
  },
  {
   "cell_type": "code",
   "execution_count": 6,
   "source": [
    "# Separate into classes and create training data\n",
    "positive_samples = dataframe.loc[dataframe['content'] == 'pos']\n",
    "negative_samples = dataframe.loc[dataframe['content'] == 'neg']\n",
    "unlabeled_samples = dataframe.loc[dataframe['content'] != 'neg']\n",
    "unlabeled_samples = unlabeled_samples.loc[unlabeled_samples['content'] != 'pos']\n",
    "\n",
    "# Select out features we want to inspect\n",
    "x_pos = np.asarray(positive_samples[['MPR', 'MS']])\n",
    "x_neg = np.asarray(negative_samples[['MPR', 'MS']])\n",
    "x_unknown = np.asarray(unlabeled_samples[['MPR', 'MS']])\n",
    "\n",
    "# Create labels\n",
    "y_pos = np.ones(len(x_pos))\n",
    "y_neg = np.zeros(len(x_neg))\n",
    "y_unknown = np.full(len(x_unknown), 2)\n",
    "\n",
    "# Combine into unified labeled dataset\n",
    "x = np.concatenate((x_pos, x_neg, x_unknown))\n",
    "y = np.concatenate((y_pos, y_neg, y_unknown))\n",
    "\n",
    "print('Dataset shape: ' + str(x.shape))\n",
    "print('Labels shape: ' + str(y.shape))"
   ],
   "outputs": [
    {
     "output_type": "stream",
     "name": "stdout",
     "text": [
      "Dataset shape: (632, 2)\n",
      "Labels shape: (632,)\n"
     ]
    }
   ],
   "metadata": {}
  },
  {
   "cell_type": "code",
   "execution_count": 7,
   "source": [
    "### Plot the data to show separability\n",
    "fig, ax = plt.subplots()\n",
    "ax.scatter(x_unknown[:,0], x_unknown[:,1], c='b')\n",
    "ax.scatter(x_pos[:,0], x_pos[:,1], c='g')\n",
    "ax.scatter(x_neg[:,0], x_neg[:,1], c='r')\n",
    "ax.legend(['Unknown', 'Positive', 'Negative'])\n",
    "plt.xlabel('MPR')\n",
    "plt.ylabel('MS')\n",
    "plt.show()\n",
    "\n",
    "# fig, ax = plt.subplots()\n",
    "# ax.scatter(x_unknown[:,2], x_unknown[:,3], c='b')\n",
    "# ax.scatter(x_pos[:,2], x_pos[:,3], c='g')\n",
    "# ax.scatter(x_neg[:,2], x_neg[:,3], c='r')\n",
    "# ax.legend(['Unknown', 'Positive', 'Negative'])\n",
    "# plt.xlabel('Max Point Ratio')\n",
    "# plt.ylabel('Max Slope')\n",
    "# plt.show()"
   ],
   "outputs": [
    {
     "output_type": "display_data",
     "data": {
      "image/png": "[encoded data removed]",
      "text/plain": [
       "<Figure size 432x288 with 1 Axes>"
      ]
     },
     "metadata": {
      "needs_background": "light"
     }
    }
   ],
   "metadata": {}
  },
  {
   "cell_type": "code",
   "execution_count": 8,
   "source": [
    "### Run a principle component analysis\n",
    "from sklearn.preprocessing import StandardScaler\n",
    "from sklearn.decomposition import PCA\n",
    "\n",
    "scaler = StandardScaler().fit(x)\n",
    "x_scaled = scaler.transform(x)\n",
    "\n",
    "pca = PCA()\n",
    "pca.fit(x_scaled)\n",
    "\n",
    "plt.plot(np.arange(len(pca.explained_variance_ratio_.cumsum())), pca.explained_variance_ratio_.cumsum())\n",
    "plt.title('Variance for Given Feature Count')\n",
    "plt.xlabel('Number of Features')\n",
    "plt.ylabel('Variance')\n",
    "plt.show()\n",
    "\n",
    "# From this we know that we need to only keep 2 features\n",
    "pca = PCA(n_components = 2)\n",
    "pca.fit(x_scaled)\n",
    "x_pca = pca.transform(x_scaled)\n",
    "x = x_pca"
   ],
   "outputs": [
    {
     "output_type": "display_data",
     "data": {
      "image/png": "[encoded data removed]",
      "text/plain": [
       "<Figure size 432x288 with 1 Axes>"
      ]
     },
     "metadata": {
      "needs_background": "light"
     }
    }
   ],
   "metadata": {}
  },
  {
   "cell_type": "code",
   "execution_count": 9,
   "source": [
    "### Attempt an unsupervised learning approach\n",
    "from sklearn.cluster import KMeans\n",
    "from sklearn.metrics import ConfusionMatrixDisplay\n",
    "\n",
    "kmc = KMeans(n_clusters=2, random_state=7).fit(x)\n",
    "preds = kmc.predict(x)\n",
    "\n",
    "# Can't control which cluster gets which label, so if its exactly wrong, it just flipped the labels\n",
    "if len(preds[preds != y]) > len(y) / 2:\n",
    "  preds = 1-preds\n",
    "\n",
    "centers = kmc.cluster_centers_\n",
    "print(centers)\n",
    "\n",
    "# Separate into positive and negative clusters\n",
    "pred_pos = x[preds == 1]\n",
    "pred_neg = x[preds == 0]\n",
    "\n",
    "# Find data and predictions with known labels\n",
    "indices = np.arange(len(y))\n",
    "index_pos = indices[np.where(y == 1, True, False)]\n",
    "index_neg = indices[np.where(y == 0, True, False)]\n",
    "\n",
    "x_labeled = np.concatenate((x[index_pos], x[index_neg]))\n",
    "y_labeled = np.concatenate((y[index_pos], y[index_neg]))\n",
    "preds_labeled = np.concatenate((preds[index_pos], preds[index_neg]))\n",
    "\n",
    "misclassed = []\n",
    "for i,pred in enumerate(preds_labeled):\n",
    "   if pred != y_labeled[i]:\n",
    "      misclassed.append(x[i])\n",
    "misclassed = np.array(misclassed)\n",
    "\n",
    "# Plot confusion matrix on labeled data - should be perfect\n",
    "ConfusionMatrixDisplay.from_predictions(y_labeled, preds_labeled, normalize='true')\n",
    "\n",
    "# Show how KMeans divided the dataset\n",
    "fig, ax = plt.subplots()\n",
    "ax.scatter(pred_pos[:, 0], pred_pos[:, 1], c='g')\n",
    "ax.scatter(pred_neg[:, 0], pred_neg[:, 1], c='b')\n",
    "ax.scatter(misclassed[:, 0], misclassed[:, 1], c='r', marker='x')\n",
    "ax.legend(['Positive', 'Negative'])\n",
    "plt.xlabel('Time To Threshold')\n",
    "plt.ylabel('Rate of Amyloid Formation')\n",
    "plt.show()\n",
    "\n",
    "# fig, ax = plt.subplots()\n",
    "# ax.scatter(pred_pos[:, 2], pred_pos[:, 3], c='g')\n",
    "# ax.scatter(pred_neg[:, 2], pred_neg[:, 3], c='r')\n",
    "# ax.scatter(misclassed[:, 2], misclassed[:, 3], c='b', marker='x')\n",
    "# ax.legend(['Positive', 'Negative'])\n",
    "# plt.xlabel('Max Point Ratio')\n",
    "# plt.ylabel('Max Slope')\n",
    "# plt.show()\n",
    "\n",
    "print('Misclassified points are represented by a red x')"
   ],
   "outputs": [
    {
     "output_type": "stream",
     "name": "stdout",
     "text": [
      "[[-0.64952554  0.04437849]\n",
      " [ 1.96512505 -0.13426614]]\n"
     ]
    },
    {
     "output_type": "stream",
     "name": "stderr",
     "text": [
      "c:\\Users\\kyleh\\anaconda3\\envs\\tf-keras-gpu\\lib\\site-packages\\sklearn\\cluster\\_kmeans.py:1332: UserWarning: KMeans is known to have a memory leak on Windows with MKL, when there are less chunks than available threads. You can avoid it by setting the environment variable OMP_NUM_THREADS=3.\n",
      "  warnings.warn(\n"
     ]
    },
    {
     "output_type": "display_data",
     "data": {
      "image/png": "[encoded data removed]",
      "text/plain": [
       "<Figure size 432x288 with 2 Axes>"
      ]
     },
     "metadata": {
      "needs_background": "light"
     }
    },
    {
     "output_type": "display_data",
     "data": {
      "image/png": "[encoded data removed]",
      "text/plain": [
       "<Figure size 432x288 with 1 Axes>"
      ]
     },
     "metadata": {
      "needs_background": "light"
     }
    },
    {
     "output_type": "stream",
     "name": "stdout",
     "text": [
      "Misclassified points are represented by a red x\n"
     ]
    }
   ],
   "metadata": {}
  },
  {
   "cell_type": "code",
   "execution_count": 10,
   "source": [
    "### Try a small supervised approach\n",
    "from sklearn.svm import LinearSVC\n",
    "from sklearn.model_selection import train_test_split\n",
    "\n",
    "# Create a training/testing dataset\n",
    "x_train, x_test, y_train, y_test = train_test_split(x_labeled, y_labeled, test_size=0.2)\n",
    "\n",
    "# Train the model\n",
    "svc = LinearSVC()\n",
    "svc = svc.fit(x_train, y_train)\n",
    "preds = svc.predict(x_test)\n",
    "\n",
    "# Plot a confusion matrix on the known data\n",
    "ConfusionMatrixDisplay.from_predictions(preds, y_test, normalize='true')\n",
    "\n",
    "# Plot on the entire dataset\n",
    "preds = svc.predict(x)\n",
    "\n",
    "# Separate into positive and negative clusters\n",
    "pred_pos = x[preds == 1]\n",
    "pred_neg = x[preds == 0]\n",
    "\n",
    "# Checking labeled predictions\n",
    "preds_labeled = np.concatenate((preds[index_pos], preds[index_neg]))\n",
    "misclassed = []\n",
    "for i,pred in enumerate(preds_labeled):\n",
    "   if pred != y_labeled[i]:\n",
    "      misclassed.append(x[i])\n",
    "misclassed = np.array(misclassed)\n",
    "\n",
    "def make_meshgrid(x, y, h=.02):\n",
    "    x_min, x_max = x.min() - 1, x.max() + 1\n",
    "    y_min, y_max = y.min() - 1, y.max() + 1\n",
    "    xx, yy = np.meshgrid(np.arange(x_min, x_max, h), np.arange(y_min, y_max, h))\n",
    "    return xx, yy\n",
    "\n",
    "def plot_contours(ax, clf, xx, yy, **params):\n",
    "    Z = clf.predict(np.c_[xx.ravel(), yy.ravel()])\n",
    "    Z = Z.reshape(xx.shape)\n",
    "    out = ax.contourf(xx, yy, Z, **params)\n",
    "    return out\n",
    "\n",
    "# Set-up grid for plotting.\n",
    "X0, X1 = x[:, 0], x[:, 1]\n",
    "xx, yy = make_meshgrid(X0, X1)\n",
    "\n",
    "# Show how KMeans divided the dataset\n",
    "fig, ax = plt.subplots()\n",
    "plot_contours(ax, svc, xx, yy, cmap=plt.cm.coolwarm, alpha=0.8)\n",
    "ax.scatter(pred_pos[:, 0], pred_pos[:, 1], c='r')\n",
    "ax.scatter(pred_neg[:, 0], pred_neg[:, 1], c='b')\n",
    "if len(misclassed) > 0:\n",
    "  ax.scatter(misclassed[:, 0], misclassed[:, 1], c='g', marker='x')\n",
    "plt.show()\n",
    "\n",
    "# fig, ax = plt.subplots()\n",
    "# ax.scatter(pred_pos[:, 2], pred_pos[:, 3], c='g')\n",
    "# ax.scatter(pred_neg[:, 2], pred_neg[:, 3], c='r')\n",
    "# if(len(misclassed > 0)):\n",
    "#   ax.scatter(misclassed[:, 2], misclassed[:, 3], c='b', marker='x')\n",
    "# ax.legend(['Positive', 'Negative'])\n",
    "# plt.xlabel('Max Point Ratio')\n",
    "# plt.ylabel('Max Slope')\n",
    "# plt.show()"
   ],
   "outputs": [
    {
     "output_type": "display_data",
     "data": {
      "image/png": "[encoded data removed]",
      "text/plain": [
       "<Figure size 432x288 with 2 Axes>"
      ]
     },
     "metadata": {
      "needs_background": "light"
     }
    },
    {
     "output_type": "display_data",
     "data": {
      "image/png": "[encoded data removed]",
      "text/plain": [
       "<Figure size 432x288 with 1 Axes>"
      ]
     },
     "metadata": {
      "needs_background": "light"
     }
    }
   ],
   "metadata": {}
  }
 ],
 "nbformat": 4,
 "nbformat_minor": 2,
 "metadata": {
  "language_info": {
   "codemirror_mode": {
    "name": "ipython",
    "version": 3
   },
   "file_extension": ".py",
   "mimetype": "text/x-python",
   "name": "python",
   "nbconvert_exporter": "python",
   "pygments_lexer": "ipython3",
   "version": 3
  }
 }
}