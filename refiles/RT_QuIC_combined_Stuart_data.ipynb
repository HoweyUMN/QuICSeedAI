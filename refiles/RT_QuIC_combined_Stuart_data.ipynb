{
  "cells": [
    {
      "cell_type": "code",
      "execution_count": 1,
      "metadata": {
        "colab": {
          "base_uri": "https://localhost:8080/"
        },
        "id": "E5fByZ71cL2C",
        "outputId": "e2749673-32af-4110-c54a-124b4b265e1e"
      },
      "outputs": [
        {
          "name": "stdout",
          "output_type": "stream",
          "text": [
            "l:\\Users\\Kyle\\Documents\\University of Minnesota\\PrionAnalysis\\VSCodeWorkspace\\refiles\\wd\n"
          ]
        }
      ],
      "source": [
        "# First create a directory 'wd'\n",
        "#!mkdir wd\n",
        "%cd wd\n"
      ]
    },
    {
      "cell_type": "code",
      "execution_count": 3,
      "metadata": {
        "id": "HubPu7BXcU-l"
      },
      "outputs": [
        {
          "name": "stderr",
          "output_type": "stream",
          "text": [
            "c:\\Users\\kyleh\\anaconda3\\envs\\tf-keras-gpu\\lib\\site-packages\\tensorflow\\python\\framework\\dtypes.py:585: FutureWarning: In the future `np.object` will be defined as the corresponding NumPy scalar.\n",
            "  np.object,\n"
          ]
        },
        {
          "ename": "AttributeError",
          "evalue": "module 'numpy' has no attribute 'object'.\n`np.object` was a deprecated alias for the builtin `object`. To avoid this error in existing code, use `object` by itself. Doing this will not modify any behavior and is safe. \nThe aliases was originally deprecated in NumPy 1.20; for more details and guidance see the original release note at:\n    https://numpy.org/devdocs/release/1.20.0-notes.html#deprecations",
          "output_type": "error",
          "traceback": [
            "\u001b[1;31m---------------------------------------------------------------------------\u001b[0m",
            "\u001b[1;31mAttributeError\u001b[0m                            Traceback (most recent call last)",
            "\u001b[1;32ml:\\Users\\Kyle\\Documents\\University of Minnesota\\PrionAnalysis\\VSCodeWorkspace\\refiles\\RT_QuIC_combined_Stuart_data.ipynb Cell 2\u001b[0m in \u001b[0;36m<cell line: 3>\u001b[1;34m()\u001b[0m\n\u001b[0;32m      <a href='vscode-notebook-cell:/l%3A/Users/Kyle/Documents/University%20of%20Minnesota/PrionAnalysis/VSCodeWorkspace/refiles/RT_QuIC_combined_Stuart_data.ipynb#W1sZmlsZQ%3D%3D?line=0'>1</a>\u001b[0m \u001b[39mimport\u001b[39;00m \u001b[39mpandas\u001b[39;00m \u001b[39mas\u001b[39;00m \u001b[39mpd\u001b[39;00m\n\u001b[0;32m      <a href='vscode-notebook-cell:/l%3A/Users/Kyle/Documents/University%20of%20Minnesota/PrionAnalysis/VSCodeWorkspace/refiles/RT_QuIC_combined_Stuart_data.ipynb#W1sZmlsZQ%3D%3D?line=1'>2</a>\u001b[0m \u001b[39mimport\u001b[39;00m \u001b[39mnumpy\u001b[39;00m \u001b[39mas\u001b[39;00m \u001b[39mnp\u001b[39;00m\n\u001b[1;32m----> <a href='vscode-notebook-cell:/l%3A/Users/Kyle/Documents/University%20of%20Minnesota/PrionAnalysis/VSCodeWorkspace/refiles/RT_QuIC_combined_Stuart_data.ipynb#W1sZmlsZQ%3D%3D?line=2'>3</a>\u001b[0m \u001b[39mimport\u001b[39;00m \u001b[39mtensorflow\u001b[39;00m \u001b[39mas\u001b[39;00m \u001b[39mtf\u001b[39;00m\n\u001b[0;32m      <a href='vscode-notebook-cell:/l%3A/Users/Kyle/Documents/University%20of%20Minnesota/PrionAnalysis/VSCodeWorkspace/refiles/RT_QuIC_combined_Stuart_data.ipynb#W1sZmlsZQ%3D%3D?line=3'>4</a>\u001b[0m \u001b[39mfrom\u001b[39;00m \u001b[39msklearn\u001b[39;00m\u001b[39m.\u001b[39;00m\u001b[39mutils\u001b[39;00m \u001b[39mimport\u001b[39;00m shuffle\n\u001b[0;32m      <a href='vscode-notebook-cell:/l%3A/Users/Kyle/Documents/University%20of%20Minnesota/PrionAnalysis/VSCodeWorkspace/refiles/RT_QuIC_combined_Stuart_data.ipynb#W1sZmlsZQ%3D%3D?line=4'>5</a>\u001b[0m \u001b[39mfrom\u001b[39;00m \u001b[39msklearn\u001b[39;00m\u001b[39m.\u001b[39;00m\u001b[39mmodel_selection\u001b[39;00m \u001b[39mimport\u001b[39;00m train_test_split\n",
            "File \u001b[1;32mc:\\Users\\kyleh\\anaconda3\\envs\\tf-keras-gpu\\lib\\site-packages\\tensorflow\\__init__.py:41\u001b[0m, in \u001b[0;36m<module>\u001b[1;34m\u001b[0m\n\u001b[0;32m     38\u001b[0m \u001b[39mimport\u001b[39;00m \u001b[39msix\u001b[39;00m \u001b[39mas\u001b[39;00m \u001b[39m_six\u001b[39;00m\n\u001b[0;32m     39\u001b[0m \u001b[39mimport\u001b[39;00m \u001b[39msys\u001b[39;00m \u001b[39mas\u001b[39;00m \u001b[39m_sys\u001b[39;00m\n\u001b[1;32m---> 41\u001b[0m \u001b[39mfrom\u001b[39;00m \u001b[39mtensorflow\u001b[39;00m\u001b[39m.\u001b[39;00m\u001b[39mpython\u001b[39;00m\u001b[39m.\u001b[39;00m\u001b[39mtools\u001b[39;00m \u001b[39mimport\u001b[39;00m module_util \u001b[39mas\u001b[39;00m _module_util\n\u001b[0;32m     42\u001b[0m \u001b[39mfrom\u001b[39;00m \u001b[39mtensorflow\u001b[39;00m\u001b[39m.\u001b[39;00m\u001b[39mpython\u001b[39;00m\u001b[39m.\u001b[39;00m\u001b[39mutil\u001b[39;00m\u001b[39m.\u001b[39;00m\u001b[39mlazy_loader\u001b[39;00m \u001b[39mimport\u001b[39;00m LazyLoader \u001b[39mas\u001b[39;00m _LazyLoader\n\u001b[0;32m     44\u001b[0m \u001b[39m# Make sure code inside the TensorFlow codebase can use tf2.enabled() at import.\u001b[39;00m\n",
            "File \u001b[1;32mc:\\Users\\kyleh\\anaconda3\\envs\\tf-keras-gpu\\lib\\site-packages\\tensorflow\\python\\__init__.py:46\u001b[0m, in \u001b[0;36m<module>\u001b[1;34m\u001b[0m\n\u001b[0;32m     41\u001b[0m \u001b[39mfrom\u001b[39;00m \u001b[39mtensorflow\u001b[39;00m\u001b[39m.\u001b[39;00m\u001b[39mpython\u001b[39;00m \u001b[39mimport\u001b[39;00m pywrap_tensorflow \u001b[39mas\u001b[39;00m _pywrap_tensorflow\n\u001b[0;32m     43\u001b[0m \u001b[39m# pylint: enable=wildcard-import\u001b[39;00m\n\u001b[0;32m     44\u001b[0m \n\u001b[0;32m     45\u001b[0m \u001b[39m# Bring in subpackages.\u001b[39;00m\n\u001b[1;32m---> 46\u001b[0m \u001b[39mfrom\u001b[39;00m \u001b[39mtensorflow\u001b[39;00m\u001b[39m.\u001b[39;00m\u001b[39mpython\u001b[39;00m \u001b[39mimport\u001b[39;00m data\n\u001b[0;32m     47\u001b[0m \u001b[39mfrom\u001b[39;00m \u001b[39mtensorflow\u001b[39;00m\u001b[39m.\u001b[39;00m\u001b[39mpython\u001b[39;00m \u001b[39mimport\u001b[39;00m distribute\n\u001b[0;32m     48\u001b[0m \u001b[39m# from tensorflow.python import keras\u001b[39;00m\n",
            "File \u001b[1;32mc:\\Users\\kyleh\\anaconda3\\envs\\tf-keras-gpu\\lib\\site-packages\\tensorflow\\python\\data\\__init__.py:25\u001b[0m, in \u001b[0;36m<module>\u001b[1;34m\u001b[0m\n\u001b[0;32m     22\u001b[0m \u001b[39mfrom\u001b[39;00m \u001b[39m__future__\u001b[39;00m \u001b[39mimport\u001b[39;00m print_function\n\u001b[0;32m     24\u001b[0m \u001b[39m# pylint: disable=unused-import\u001b[39;00m\n\u001b[1;32m---> 25\u001b[0m \u001b[39mfrom\u001b[39;00m \u001b[39mtensorflow\u001b[39;00m\u001b[39m.\u001b[39;00m\u001b[39mpython\u001b[39;00m\u001b[39m.\u001b[39;00m\u001b[39mdata\u001b[39;00m \u001b[39mimport\u001b[39;00m experimental\n\u001b[0;32m     26\u001b[0m \u001b[39mfrom\u001b[39;00m \u001b[39mtensorflow\u001b[39;00m\u001b[39m.\u001b[39;00m\u001b[39mpython\u001b[39;00m\u001b[39m.\u001b[39;00m\u001b[39mdata\u001b[39;00m\u001b[39m.\u001b[39;00m\u001b[39mops\u001b[39;00m\u001b[39m.\u001b[39;00m\u001b[39mdataset_ops\u001b[39;00m \u001b[39mimport\u001b[39;00m AUTOTUNE\n\u001b[0;32m     27\u001b[0m \u001b[39mfrom\u001b[39;00m \u001b[39mtensorflow\u001b[39;00m\u001b[39m.\u001b[39;00m\u001b[39mpython\u001b[39;00m\u001b[39m.\u001b[39;00m\u001b[39mdata\u001b[39;00m\u001b[39m.\u001b[39;00m\u001b[39mops\u001b[39;00m\u001b[39m.\u001b[39;00m\u001b[39mdataset_ops\u001b[39;00m \u001b[39mimport\u001b[39;00m Dataset\n",
            "File \u001b[1;32mc:\\Users\\kyleh\\anaconda3\\envs\\tf-keras-gpu\\lib\\site-packages\\tensorflow\\python\\data\\experimental\\__init__.py:97\u001b[0m, in \u001b[0;36m<module>\u001b[1;34m\u001b[0m\n\u001b[0;32m     94\u001b[0m \u001b[39mfrom\u001b[39;00m \u001b[39m__future__\u001b[39;00m \u001b[39mimport\u001b[39;00m print_function\n\u001b[0;32m     96\u001b[0m \u001b[39m# pylint: disable=unused-import\u001b[39;00m\n\u001b[1;32m---> 97\u001b[0m \u001b[39mfrom\u001b[39;00m \u001b[39mtensorflow\u001b[39;00m\u001b[39m.\u001b[39;00m\u001b[39mpython\u001b[39;00m\u001b[39m.\u001b[39;00m\u001b[39mdata\u001b[39;00m\u001b[39m.\u001b[39;00m\u001b[39mexperimental\u001b[39;00m \u001b[39mimport\u001b[39;00m service\n\u001b[0;32m     98\u001b[0m \u001b[39mfrom\u001b[39;00m \u001b[39mtensorflow\u001b[39;00m\u001b[39m.\u001b[39;00m\u001b[39mpython\u001b[39;00m\u001b[39m.\u001b[39;00m\u001b[39mdata\u001b[39;00m\u001b[39m.\u001b[39;00m\u001b[39mexperimental\u001b[39;00m\u001b[39m.\u001b[39;00m\u001b[39mops\u001b[39;00m\u001b[39m.\u001b[39;00m\u001b[39mbatching\u001b[39;00m \u001b[39mimport\u001b[39;00m dense_to_ragged_batch\n\u001b[0;32m     99\u001b[0m \u001b[39mfrom\u001b[39;00m \u001b[39mtensorflow\u001b[39;00m\u001b[39m.\u001b[39;00m\u001b[39mpython\u001b[39;00m\u001b[39m.\u001b[39;00m\u001b[39mdata\u001b[39;00m\u001b[39m.\u001b[39;00m\u001b[39mexperimental\u001b[39;00m\u001b[39m.\u001b[39;00m\u001b[39mops\u001b[39;00m\u001b[39m.\u001b[39;00m\u001b[39mbatching\u001b[39;00m \u001b[39mimport\u001b[39;00m dense_to_sparse_batch\n",
            "File \u001b[1;32mc:\\Users\\kyleh\\anaconda3\\envs\\tf-keras-gpu\\lib\\site-packages\\tensorflow\\python\\data\\experimental\\service\\__init__.py:353\u001b[0m, in \u001b[0;36m<module>\u001b[1;34m\u001b[0m\n\u001b[0;32m    350\u001b[0m \u001b[39mfrom\u001b[39;00m \u001b[39m__future__\u001b[39;00m \u001b[39mimport\u001b[39;00m division\n\u001b[0;32m    351\u001b[0m \u001b[39mfrom\u001b[39;00m \u001b[39m__future__\u001b[39;00m \u001b[39mimport\u001b[39;00m print_function\n\u001b[1;32m--> 353\u001b[0m \u001b[39mfrom\u001b[39;00m \u001b[39mtensorflow\u001b[39;00m\u001b[39m.\u001b[39;00m\u001b[39mpython\u001b[39;00m\u001b[39m.\u001b[39;00m\u001b[39mdata\u001b[39;00m\u001b[39m.\u001b[39;00m\u001b[39mexperimental\u001b[39;00m\u001b[39m.\u001b[39;00m\u001b[39mops\u001b[39;00m\u001b[39m.\u001b[39;00m\u001b[39mdata_service_ops\u001b[39;00m \u001b[39mimport\u001b[39;00m distribute\n\u001b[0;32m    354\u001b[0m \u001b[39mfrom\u001b[39;00m \u001b[39mtensorflow\u001b[39;00m\u001b[39m.\u001b[39;00m\u001b[39mpython\u001b[39;00m\u001b[39m.\u001b[39;00m\u001b[39mdata\u001b[39;00m\u001b[39m.\u001b[39;00m\u001b[39mexperimental\u001b[39;00m\u001b[39m.\u001b[39;00m\u001b[39mops\u001b[39;00m\u001b[39m.\u001b[39;00m\u001b[39mdata_service_ops\u001b[39;00m \u001b[39mimport\u001b[39;00m from_dataset_id\n\u001b[0;32m    355\u001b[0m \u001b[39mfrom\u001b[39;00m \u001b[39mtensorflow\u001b[39;00m\u001b[39m.\u001b[39;00m\u001b[39mpython\u001b[39;00m\u001b[39m.\u001b[39;00m\u001b[39mdata\u001b[39;00m\u001b[39m.\u001b[39;00m\u001b[39mexperimental\u001b[39;00m\u001b[39m.\u001b[39;00m\u001b[39mops\u001b[39;00m\u001b[39m.\u001b[39;00m\u001b[39mdata_service_ops\u001b[39;00m \u001b[39mimport\u001b[39;00m register_dataset\n",
            "File \u001b[1;32mc:\\Users\\kyleh\\anaconda3\\envs\\tf-keras-gpu\\lib\\site-packages\\tensorflow\\python\\data\\experimental\\ops\\data_service_ops.py:26\u001b[0m, in \u001b[0;36m<module>\u001b[1;34m\u001b[0m\n\u001b[0;32m     24\u001b[0m \u001b[39mfrom\u001b[39;00m \u001b[39mtensorflow\u001b[39;00m\u001b[39m.\u001b[39;00m\u001b[39mpython\u001b[39;00m \u001b[39mimport\u001b[39;00m tf2\n\u001b[0;32m     25\u001b[0m \u001b[39mfrom\u001b[39;00m \u001b[39mtensorflow\u001b[39;00m\u001b[39m.\u001b[39;00m\u001b[39mpython\u001b[39;00m\u001b[39m.\u001b[39;00m\u001b[39mcompat\u001b[39;00m \u001b[39mimport\u001b[39;00m compat\n\u001b[1;32m---> 26\u001b[0m \u001b[39mfrom\u001b[39;00m \u001b[39mtensorflow\u001b[39;00m\u001b[39m.\u001b[39;00m\u001b[39mpython\u001b[39;00m\u001b[39m.\u001b[39;00m\u001b[39mdata\u001b[39;00m\u001b[39m.\u001b[39;00m\u001b[39mexperimental\u001b[39;00m\u001b[39m.\u001b[39;00m\u001b[39mops\u001b[39;00m \u001b[39mimport\u001b[39;00m compression_ops\n\u001b[0;32m     27\u001b[0m \u001b[39mfrom\u001b[39;00m \u001b[39mtensorflow\u001b[39;00m\u001b[39m.\u001b[39;00m\u001b[39mpython\u001b[39;00m\u001b[39m.\u001b[39;00m\u001b[39mdata\u001b[39;00m\u001b[39m.\u001b[39;00m\u001b[39mexperimental\u001b[39;00m\u001b[39m.\u001b[39;00m\u001b[39mops\u001b[39;00m\u001b[39m.\u001b[39;00m\u001b[39mdistribute_options\u001b[39;00m \u001b[39mimport\u001b[39;00m AutoShardPolicy\n\u001b[0;32m     28\u001b[0m \u001b[39mfrom\u001b[39;00m \u001b[39mtensorflow\u001b[39;00m\u001b[39m.\u001b[39;00m\u001b[39mpython\u001b[39;00m\u001b[39m.\u001b[39;00m\u001b[39mdata\u001b[39;00m\u001b[39m.\u001b[39;00m\u001b[39mexperimental\u001b[39;00m\u001b[39m.\u001b[39;00m\u001b[39mops\u001b[39;00m\u001b[39m.\u001b[39;00m\u001b[39mdistribute_options\u001b[39;00m \u001b[39mimport\u001b[39;00m ExternalStatePolicy\n",
            "File \u001b[1;32mc:\\Users\\kyleh\\anaconda3\\envs\\tf-keras-gpu\\lib\\site-packages\\tensorflow\\python\\data\\experimental\\ops\\compression_ops.py:20\u001b[0m, in \u001b[0;36m<module>\u001b[1;34m\u001b[0m\n\u001b[0;32m     17\u001b[0m \u001b[39mfrom\u001b[39;00m \u001b[39m__future__\u001b[39;00m \u001b[39mimport\u001b[39;00m division\n\u001b[0;32m     18\u001b[0m \u001b[39mfrom\u001b[39;00m \u001b[39m__future__\u001b[39;00m \u001b[39mimport\u001b[39;00m print_function\n\u001b[1;32m---> 20\u001b[0m \u001b[39mfrom\u001b[39;00m \u001b[39mtensorflow\u001b[39;00m\u001b[39m.\u001b[39;00m\u001b[39mpython\u001b[39;00m\u001b[39m.\u001b[39;00m\u001b[39mdata\u001b[39;00m\u001b[39m.\u001b[39;00m\u001b[39mutil\u001b[39;00m \u001b[39mimport\u001b[39;00m structure\n\u001b[0;32m     21\u001b[0m \u001b[39mfrom\u001b[39;00m \u001b[39mtensorflow\u001b[39;00m\u001b[39m.\u001b[39;00m\u001b[39mpython\u001b[39;00m\u001b[39m.\u001b[39;00m\u001b[39mops\u001b[39;00m \u001b[39mimport\u001b[39;00m gen_experimental_dataset_ops \u001b[39mas\u001b[39;00m ged_ops\n\u001b[0;32m     24\u001b[0m \u001b[39mdef\u001b[39;00m \u001b[39mcompress\u001b[39m(element):\n",
            "File \u001b[1;32mc:\\Users\\kyleh\\anaconda3\\envs\\tf-keras-gpu\\lib\\site-packages\\tensorflow\\python\\data\\util\\structure.py:26\u001b[0m, in \u001b[0;36m<module>\u001b[1;34m\u001b[0m\n\u001b[0;32m     23\u001b[0m \u001b[39mimport\u001b[39;00m \u001b[39msix\u001b[39;00m\n\u001b[0;32m     24\u001b[0m \u001b[39mimport\u001b[39;00m \u001b[39mwrapt\u001b[39;00m\n\u001b[1;32m---> 26\u001b[0m \u001b[39mfrom\u001b[39;00m \u001b[39mtensorflow\u001b[39;00m\u001b[39m.\u001b[39;00m\u001b[39mpython\u001b[39;00m\u001b[39m.\u001b[39;00m\u001b[39mdata\u001b[39;00m\u001b[39m.\u001b[39;00m\u001b[39mutil\u001b[39;00m \u001b[39mimport\u001b[39;00m nest\n\u001b[0;32m     27\u001b[0m \u001b[39mfrom\u001b[39;00m \u001b[39mtensorflow\u001b[39;00m\u001b[39m.\u001b[39;00m\u001b[39mpython\u001b[39;00m\u001b[39m.\u001b[39;00m\u001b[39mframework\u001b[39;00m \u001b[39mimport\u001b[39;00m composite_tensor\n\u001b[0;32m     28\u001b[0m \u001b[39mfrom\u001b[39;00m \u001b[39mtensorflow\u001b[39;00m\u001b[39m.\u001b[39;00m\u001b[39mpython\u001b[39;00m\u001b[39m.\u001b[39;00m\u001b[39mframework\u001b[39;00m \u001b[39mimport\u001b[39;00m ops\n",
            "File \u001b[1;32mc:\\Users\\kyleh\\anaconda3\\envs\\tf-keras-gpu\\lib\\site-packages\\tensorflow\\python\\data\\util\\nest.py:40\u001b[0m, in \u001b[0;36m<module>\u001b[1;34m\u001b[0m\n\u001b[0;32m     36\u001b[0m \u001b[39mfrom\u001b[39;00m \u001b[39m__future__\u001b[39;00m \u001b[39mimport\u001b[39;00m print_function\n\u001b[0;32m     38\u001b[0m \u001b[39mimport\u001b[39;00m \u001b[39msix\u001b[39;00m \u001b[39mas\u001b[39;00m \u001b[39m_six\u001b[39;00m\n\u001b[1;32m---> 40\u001b[0m \u001b[39mfrom\u001b[39;00m \u001b[39mtensorflow\u001b[39;00m\u001b[39m.\u001b[39;00m\u001b[39mpython\u001b[39;00m\u001b[39m.\u001b[39;00m\u001b[39mframework\u001b[39;00m \u001b[39mimport\u001b[39;00m sparse_tensor \u001b[39mas\u001b[39;00m _sparse_tensor\n\u001b[0;32m     41\u001b[0m \u001b[39mfrom\u001b[39;00m \u001b[39mtensorflow\u001b[39;00m\u001b[39m.\u001b[39;00m\u001b[39mpython\u001b[39;00m\u001b[39m.\u001b[39;00m\u001b[39mutil\u001b[39;00m \u001b[39mimport\u001b[39;00m _pywrap_utils\n\u001b[0;32m     42\u001b[0m \u001b[39mfrom\u001b[39;00m \u001b[39mtensorflow\u001b[39;00m\u001b[39m.\u001b[39;00m\u001b[39mpython\u001b[39;00m\u001b[39m.\u001b[39;00m\u001b[39mutil\u001b[39;00m \u001b[39mimport\u001b[39;00m nest\n",
            "File \u001b[1;32mc:\\Users\\kyleh\\anaconda3\\envs\\tf-keras-gpu\\lib\\site-packages\\tensorflow\\python\\framework\\sparse_tensor.py:28\u001b[0m, in \u001b[0;36m<module>\u001b[1;34m\u001b[0m\n\u001b[0;32m     26\u001b[0m \u001b[39mfrom\u001b[39;00m \u001b[39mtensorflow\u001b[39;00m\u001b[39m.\u001b[39;00m\u001b[39mpython\u001b[39;00m \u001b[39mimport\u001b[39;00m tf2\n\u001b[0;32m     27\u001b[0m \u001b[39mfrom\u001b[39;00m \u001b[39mtensorflow\u001b[39;00m\u001b[39m.\u001b[39;00m\u001b[39mpython\u001b[39;00m\u001b[39m.\u001b[39;00m\u001b[39mframework\u001b[39;00m \u001b[39mimport\u001b[39;00m composite_tensor\n\u001b[1;32m---> 28\u001b[0m \u001b[39mfrom\u001b[39;00m \u001b[39mtensorflow\u001b[39;00m\u001b[39m.\u001b[39;00m\u001b[39mpython\u001b[39;00m\u001b[39m.\u001b[39;00m\u001b[39mframework\u001b[39;00m \u001b[39mimport\u001b[39;00m constant_op\n\u001b[0;32m     29\u001b[0m \u001b[39mfrom\u001b[39;00m \u001b[39mtensorflow\u001b[39;00m\u001b[39m.\u001b[39;00m\u001b[39mpython\u001b[39;00m\u001b[39m.\u001b[39;00m\u001b[39mframework\u001b[39;00m \u001b[39mimport\u001b[39;00m dtypes\n\u001b[0;32m     30\u001b[0m \u001b[39mfrom\u001b[39;00m \u001b[39mtensorflow\u001b[39;00m\u001b[39m.\u001b[39;00m\u001b[39mpython\u001b[39;00m\u001b[39m.\u001b[39;00m\u001b[39mframework\u001b[39;00m \u001b[39mimport\u001b[39;00m ops\n",
            "File \u001b[1;32mc:\\Users\\kyleh\\anaconda3\\envs\\tf-keras-gpu\\lib\\site-packages\\tensorflow\\python\\framework\\constant_op.py:29\u001b[0m, in \u001b[0;36m<module>\u001b[1;34m\u001b[0m\n\u001b[0;32m     27\u001b[0m \u001b[39mfrom\u001b[39;00m \u001b[39mtensorflow\u001b[39;00m\u001b[39m.\u001b[39;00m\u001b[39mcore\u001b[39;00m\u001b[39m.\u001b[39;00m\u001b[39mframework\u001b[39;00m \u001b[39mimport\u001b[39;00m types_pb2\n\u001b[0;32m     28\u001b[0m \u001b[39mfrom\u001b[39;00m \u001b[39mtensorflow\u001b[39;00m\u001b[39m.\u001b[39;00m\u001b[39mpython\u001b[39;00m\u001b[39m.\u001b[39;00m\u001b[39meager\u001b[39;00m \u001b[39mimport\u001b[39;00m context\n\u001b[1;32m---> 29\u001b[0m \u001b[39mfrom\u001b[39;00m \u001b[39mtensorflow\u001b[39;00m\u001b[39m.\u001b[39;00m\u001b[39mpython\u001b[39;00m\u001b[39m.\u001b[39;00m\u001b[39meager\u001b[39;00m \u001b[39mimport\u001b[39;00m execute\n\u001b[0;32m     30\u001b[0m \u001b[39mfrom\u001b[39;00m \u001b[39mtensorflow\u001b[39;00m\u001b[39m.\u001b[39;00m\u001b[39mpython\u001b[39;00m\u001b[39m.\u001b[39;00m\u001b[39mframework\u001b[39;00m \u001b[39mimport\u001b[39;00m dtypes\n\u001b[0;32m     31\u001b[0m \u001b[39mfrom\u001b[39;00m \u001b[39mtensorflow\u001b[39;00m\u001b[39m.\u001b[39;00m\u001b[39mpython\u001b[39;00m\u001b[39m.\u001b[39;00m\u001b[39mframework\u001b[39;00m \u001b[39mimport\u001b[39;00m op_callbacks\n",
            "File \u001b[1;32mc:\\Users\\kyleh\\anaconda3\\envs\\tf-keras-gpu\\lib\\site-packages\\tensorflow\\python\\eager\\execute.py:27\u001b[0m, in \u001b[0;36m<module>\u001b[1;34m\u001b[0m\n\u001b[0;32m     25\u001b[0m \u001b[39mfrom\u001b[39;00m \u001b[39mtensorflow\u001b[39;00m\u001b[39m.\u001b[39;00m\u001b[39mpython\u001b[39;00m \u001b[39mimport\u001b[39;00m pywrap_tfe\n\u001b[0;32m     26\u001b[0m \u001b[39mfrom\u001b[39;00m \u001b[39mtensorflow\u001b[39;00m\u001b[39m.\u001b[39;00m\u001b[39mpython\u001b[39;00m\u001b[39m.\u001b[39;00m\u001b[39meager\u001b[39;00m \u001b[39mimport\u001b[39;00m core\n\u001b[1;32m---> 27\u001b[0m \u001b[39mfrom\u001b[39;00m \u001b[39mtensorflow\u001b[39;00m\u001b[39m.\u001b[39;00m\u001b[39mpython\u001b[39;00m\u001b[39m.\u001b[39;00m\u001b[39mframework\u001b[39;00m \u001b[39mimport\u001b[39;00m dtypes\n\u001b[0;32m     28\u001b[0m \u001b[39mfrom\u001b[39;00m \u001b[39mtensorflow\u001b[39;00m\u001b[39m.\u001b[39;00m\u001b[39mpython\u001b[39;00m\u001b[39m.\u001b[39;00m\u001b[39mframework\u001b[39;00m \u001b[39mimport\u001b[39;00m ops\n\u001b[0;32m     29\u001b[0m \u001b[39mfrom\u001b[39;00m \u001b[39mtensorflow\u001b[39;00m\u001b[39m.\u001b[39;00m\u001b[39mpython\u001b[39;00m\u001b[39m.\u001b[39;00m\u001b[39mframework\u001b[39;00m \u001b[39mimport\u001b[39;00m tensor_shape\n",
            "File \u001b[1;32mc:\\Users\\kyleh\\anaconda3\\envs\\tf-keras-gpu\\lib\\site-packages\\tensorflow\\python\\framework\\dtypes.py:585\u001b[0m, in \u001b[0;36m<module>\u001b[1;34m\u001b[0m\n\u001b[0;32m    556\u001b[0m     _NP_TO_TF[pdt] \u001b[39m=\u001b[39m \u001b[39mnext\u001b[39m(\n\u001b[0;32m    557\u001b[0m         _NP_TO_TF[dt] \u001b[39mfor\u001b[39;00m dt \u001b[39min\u001b[39;00m _NP_TO_TF \u001b[39mif\u001b[39;00m dt \u001b[39m==\u001b[39m pdt()\u001b[39m.\u001b[39mdtype)  \u001b[39m# pylint: disable=no-value-for-parameter\u001b[39;00m\n\u001b[0;32m    559\u001b[0m TF_VALUE_DTYPES \u001b[39m=\u001b[39m \u001b[39mset\u001b[39m(_NP_TO_TF\u001b[39m.\u001b[39mvalues())\n\u001b[0;32m    561\u001b[0m _TF_TO_NP \u001b[39m=\u001b[39m {\n\u001b[0;32m    562\u001b[0m     types_pb2\u001b[39m.\u001b[39mDT_HALF:\n\u001b[0;32m    563\u001b[0m         np\u001b[39m.\u001b[39mfloat16,\n\u001b[0;32m    564\u001b[0m     types_pb2\u001b[39m.\u001b[39mDT_FLOAT:\n\u001b[0;32m    565\u001b[0m         np\u001b[39m.\u001b[39mfloat32,\n\u001b[0;32m    566\u001b[0m     types_pb2\u001b[39m.\u001b[39mDT_DOUBLE:\n\u001b[0;32m    567\u001b[0m         np\u001b[39m.\u001b[39mfloat64,\n\u001b[0;32m    568\u001b[0m     types_pb2\u001b[39m.\u001b[39mDT_INT32:\n\u001b[0;32m    569\u001b[0m         np\u001b[39m.\u001b[39mint32,\n\u001b[0;32m    570\u001b[0m     types_pb2\u001b[39m.\u001b[39mDT_UINT8:\n\u001b[0;32m    571\u001b[0m         np\u001b[39m.\u001b[39muint8,\n\u001b[0;32m    572\u001b[0m     types_pb2\u001b[39m.\u001b[39mDT_UINT16:\n\u001b[0;32m    573\u001b[0m         np\u001b[39m.\u001b[39muint16,\n\u001b[0;32m    574\u001b[0m     types_pb2\u001b[39m.\u001b[39mDT_UINT32:\n\u001b[0;32m    575\u001b[0m         np\u001b[39m.\u001b[39muint32,\n\u001b[0;32m    576\u001b[0m     types_pb2\u001b[39m.\u001b[39mDT_UINT64:\n\u001b[0;32m    577\u001b[0m         np\u001b[39m.\u001b[39muint64,\n\u001b[0;32m    578\u001b[0m     types_pb2\u001b[39m.\u001b[39mDT_INT16:\n\u001b[0;32m    579\u001b[0m         np\u001b[39m.\u001b[39mint16,\n\u001b[0;32m    580\u001b[0m     types_pb2\u001b[39m.\u001b[39mDT_INT8:\n\u001b[0;32m    581\u001b[0m         np\u001b[39m.\u001b[39mint8,\n\u001b[0;32m    582\u001b[0m     \u001b[39m# NOTE(touts): For strings we use np.object as it supports variable length\u001b[39;00m\n\u001b[0;32m    583\u001b[0m     \u001b[39m# strings.\u001b[39;00m\n\u001b[0;32m    584\u001b[0m     types_pb2\u001b[39m.\u001b[39mDT_STRING:\n\u001b[1;32m--> 585\u001b[0m         np\u001b[39m.\u001b[39;49mobject,\n\u001b[0;32m    586\u001b[0m     types_pb2\u001b[39m.\u001b[39mDT_COMPLEX64:\n\u001b[0;32m    587\u001b[0m         np\u001b[39m.\u001b[39mcomplex64,\n\u001b[0;32m    588\u001b[0m     types_pb2\u001b[39m.\u001b[39mDT_COMPLEX128:\n\u001b[0;32m    589\u001b[0m         np\u001b[39m.\u001b[39mcomplex128,\n\u001b[0;32m    590\u001b[0m     types_pb2\u001b[39m.\u001b[39mDT_INT64:\n\u001b[0;32m    591\u001b[0m         np\u001b[39m.\u001b[39mint64,\n\u001b[0;32m    592\u001b[0m     types_pb2\u001b[39m.\u001b[39mDT_BOOL:\n\u001b[0;32m    593\u001b[0m         np\u001b[39m.\u001b[39mbool_,\n\u001b[0;32m    594\u001b[0m     types_pb2\u001b[39m.\u001b[39mDT_QINT8:\n\u001b[0;32m    595\u001b[0m         _np_qint8,\n\u001b[0;32m    596\u001b[0m     types_pb2\u001b[39m.\u001b[39mDT_QUINT8:\n\u001b[0;32m    597\u001b[0m         _np_quint8,\n\u001b[0;32m    598\u001b[0m     types_pb2\u001b[39m.\u001b[39mDT_QINT16:\n\u001b[0;32m    599\u001b[0m         _np_qint16,\n\u001b[0;32m    600\u001b[0m     types_pb2\u001b[39m.\u001b[39mDT_QUINT16:\n\u001b[0;32m    601\u001b[0m         _np_quint16,\n\u001b[0;32m    602\u001b[0m     types_pb2\u001b[39m.\u001b[39mDT_QINT32:\n\u001b[0;32m    603\u001b[0m         _np_qint32,\n\u001b[0;32m    604\u001b[0m     types_pb2\u001b[39m.\u001b[39mDT_BFLOAT16:\n\u001b[0;32m    605\u001b[0m         _np_bfloat16,\n\u001b[0;32m    606\u001b[0m \n\u001b[0;32m    607\u001b[0m     \u001b[39m# Ref types\u001b[39;00m\n\u001b[0;32m    608\u001b[0m     types_pb2\u001b[39m.\u001b[39mDT_HALF_REF:\n\u001b[0;32m    609\u001b[0m         np\u001b[39m.\u001b[39mfloat16,\n\u001b[0;32m    610\u001b[0m     types_pb2\u001b[39m.\u001b[39mDT_FLOAT_REF:\n\u001b[0;32m    611\u001b[0m         np\u001b[39m.\u001b[39mfloat32,\n\u001b[0;32m    612\u001b[0m     types_pb2\u001b[39m.\u001b[39mDT_DOUBLE_REF:\n\u001b[0;32m    613\u001b[0m         np\u001b[39m.\u001b[39mfloat64,\n\u001b[0;32m    614\u001b[0m     types_pb2\u001b[39m.\u001b[39mDT_INT32_REF:\n\u001b[0;32m    615\u001b[0m         np\u001b[39m.\u001b[39mint32,\n\u001b[0;32m    616\u001b[0m     types_pb2\u001b[39m.\u001b[39mDT_UINT32_REF:\n\u001b[0;32m    617\u001b[0m         np\u001b[39m.\u001b[39muint32,\n\u001b[0;32m    618\u001b[0m     types_pb2\u001b[39m.\u001b[39mDT_UINT8_REF:\n\u001b[0;32m    619\u001b[0m         np\u001b[39m.\u001b[39muint8,\n\u001b[0;32m    620\u001b[0m     types_pb2\u001b[39m.\u001b[39mDT_UINT16_REF:\n\u001b[0;32m    621\u001b[0m         np\u001b[39m.\u001b[39muint16,\n\u001b[0;32m    622\u001b[0m     types_pb2\u001b[39m.\u001b[39mDT_INT16_REF:\n\u001b[0;32m    623\u001b[0m         np\u001b[39m.\u001b[39mint16,\n\u001b[0;32m    624\u001b[0m     types_pb2\u001b[39m.\u001b[39mDT_INT8_REF:\n\u001b[0;32m    625\u001b[0m         np\u001b[39m.\u001b[39mint8,\n\u001b[0;32m    626\u001b[0m     types_pb2\u001b[39m.\u001b[39mDT_STRING_REF:\n\u001b[0;32m    627\u001b[0m         np\u001b[39m.\u001b[39mobject,\n\u001b[0;32m    628\u001b[0m     types_pb2\u001b[39m.\u001b[39mDT_COMPLEX64_REF:\n\u001b[0;32m    629\u001b[0m         np\u001b[39m.\u001b[39mcomplex64,\n\u001b[0;32m    630\u001b[0m     types_pb2\u001b[39m.\u001b[39mDT_COMPLEX128_REF:\n\u001b[0;32m    631\u001b[0m         np\u001b[39m.\u001b[39mcomplex128,\n\u001b[0;32m    632\u001b[0m     types_pb2\u001b[39m.\u001b[39mDT_INT64_REF:\n\u001b[0;32m    633\u001b[0m         np\u001b[39m.\u001b[39mint64,\n\u001b[0;32m    634\u001b[0m     types_pb2\u001b[39m.\u001b[39mDT_UINT64_REF:\n\u001b[0;32m    635\u001b[0m         np\u001b[39m.\u001b[39muint64,\n\u001b[0;32m    636\u001b[0m     types_pb2\u001b[39m.\u001b[39mDT_BOOL_REF:\n\u001b[0;32m    637\u001b[0m         np\u001b[39m.\u001b[39mbool,\n\u001b[0;32m    638\u001b[0m     types_pb2\u001b[39m.\u001b[39mDT_QINT8_REF:\n\u001b[0;32m    639\u001b[0m         _np_qint8,\n\u001b[0;32m    640\u001b[0m     types_pb2\u001b[39m.\u001b[39mDT_QUINT8_REF:\n\u001b[0;32m    641\u001b[0m         _np_quint8,\n\u001b[0;32m    642\u001b[0m     types_pb2\u001b[39m.\u001b[39mDT_QINT16_REF:\n\u001b[0;32m    643\u001b[0m         _np_qint16,\n\u001b[0;32m    644\u001b[0m     types_pb2\u001b[39m.\u001b[39mDT_QUINT16_REF:\n\u001b[0;32m    645\u001b[0m         _np_quint16,\n\u001b[0;32m    646\u001b[0m     types_pb2\u001b[39m.\u001b[39mDT_QINT32_REF:\n\u001b[0;32m    647\u001b[0m         _np_qint32,\n\u001b[0;32m    648\u001b[0m     types_pb2\u001b[39m.\u001b[39mDT_BFLOAT16_REF:\n\u001b[0;32m    649\u001b[0m         _np_bfloat16,\n\u001b[0;32m    650\u001b[0m }\n\u001b[0;32m    652\u001b[0m _QUANTIZED_DTYPES_NO_REF \u001b[39m=\u001b[39m \u001b[39mfrozenset\u001b[39m([qint8, quint8, qint16, quint16, qint32])\n\u001b[0;32m    653\u001b[0m _QUANTIZED_DTYPES_REF \u001b[39m=\u001b[39m \u001b[39mfrozenset\u001b[39m(\n\u001b[0;32m    654\u001b[0m     [qint8_ref, quint8_ref, qint16_ref, quint16_ref, qint32_ref])\n",
            "File \u001b[1;32mc:\\Users\\kyleh\\anaconda3\\envs\\tf-keras-gpu\\lib\\site-packages\\numpy\\__init__.py:319\u001b[0m, in \u001b[0;36m__getattr__\u001b[1;34m(attr)\u001b[0m\n\u001b[0;32m    314\u001b[0m     warnings\u001b[39m.\u001b[39mwarn(\n\u001b[0;32m    315\u001b[0m         \u001b[39mf\u001b[39m\u001b[39m\"\u001b[39m\u001b[39mIn the future `np.\u001b[39m\u001b[39m{\u001b[39;00mattr\u001b[39m}\u001b[39;00m\u001b[39m` will be defined as the \u001b[39m\u001b[39m\"\u001b[39m\n\u001b[0;32m    316\u001b[0m         \u001b[39m\"\u001b[39m\u001b[39mcorresponding NumPy scalar.\u001b[39m\u001b[39m\"\u001b[39m, \u001b[39mFutureWarning\u001b[39;00m, stacklevel\u001b[39m=\u001b[39m\u001b[39m2\u001b[39m)\n\u001b[0;32m    318\u001b[0m \u001b[39mif\u001b[39;00m attr \u001b[39min\u001b[39;00m __former_attrs__:\n\u001b[1;32m--> 319\u001b[0m     \u001b[39mraise\u001b[39;00m \u001b[39mAttributeError\u001b[39;00m(__former_attrs__[attr])\n\u001b[0;32m    321\u001b[0m \u001b[39mif\u001b[39;00m attr \u001b[39m==\u001b[39m \u001b[39m'\u001b[39m\u001b[39mtesting\u001b[39m\u001b[39m'\u001b[39m:\n\u001b[0;32m    322\u001b[0m     \u001b[39mimport\u001b[39;00m \u001b[39mnumpy\u001b[39;00m\u001b[39m.\u001b[39;00m\u001b[39mtesting\u001b[39;00m \u001b[39mas\u001b[39;00m \u001b[39mtesting\u001b[39;00m\n",
            "\u001b[1;31mAttributeError\u001b[0m: module 'numpy' has no attribute 'object'.\n`np.object` was a deprecated alias for the builtin `object`. To avoid this error in existing code, use `object` by itself. Doing this will not modify any behavior and is safe. \nThe aliases was originally deprecated in NumPy 1.20; for more details and guidance see the original release note at:\n    https://numpy.org/devdocs/release/1.20.0-notes.html#deprecations"
          ]
        }
      ],
      "source": [
        "import pandas as pd\n",
        "import numpy as np\n",
        "import tensorflow as tf\n",
        "from sklearn.utils import shuffle\n",
        "from sklearn.model_selection import train_test_split\n",
        "from sklearn.model_selection import StratifiedKFold\n",
        "from sklearn.preprocessing import MinMaxScaler\n",
        "from sklearn.metrics import classification_report\n",
        "from sklearn.metrics import PrecisionRecallDisplay\n",
        "from sklearn.metrics import f1_score, average_precision_score\n",
        "import random\n",
        "import string\n",
        "import pickle\n",
        "\n",
        "import matplotlib.pyplot as plt\n",
        "from collections import Counter\n",
        "import seaborn as sns\n",
        "\n",
        "SEED = 2022"
      ]
    },
    {
      "cell_type": "code",
      "execution_count": null,
      "metadata": {
        "colab": {
          "base_uri": "https://localhost:8080/"
        },
        "id": "bIFN5e_EcuBR",
        "outputId": "0698363d-4db5-43ee-e795-2258d7591f3a"
      },
      "outputs": [
        {
          "name": "stdout",
          "output_type": "stream",
          "text": [
            "Requirement already satisfied: matplotlib in c:\\users\\kyleh\\anaconda3\\envs\\tf-keras-gpu\\lib\\site-packages (3.7.2)\n",
            "Requirement already satisfied: pillow>=6.2.0 in c:\\users\\kyleh\\anaconda3\\envs\\tf-keras-gpu\\lib\\site-packages (from matplotlib) (9.1.1)\n",
            "Requirement already satisfied: packaging>=20.0 in c:\\users\\kyleh\\anaconda3\\envs\\tf-keras-gpu\\lib\\site-packages (from matplotlib) (21.3)\n",
            "Requirement already satisfied: pyparsing<3.1,>=2.3.1 in c:\\users\\kyleh\\anaconda3\\envs\\tf-keras-gpu\\lib\\site-packages (from matplotlib) (3.0.4)\n",
            "Requirement already satisfied: importlib-resources>=3.2.0 in c:\\users\\kyleh\\anaconda3\\envs\\tf-keras-gpu\\lib\\site-packages (from matplotlib) (6.0.1)\n",
            "Requirement already satisfied: contourpy>=1.0.1 in c:\\users\\kyleh\\anaconda3\\envs\\tf-keras-gpu\\lib\\site-packages (from matplotlib) (1.1.0)\n",
            "Requirement already satisfied: kiwisolver>=1.0.1 in c:\\users\\kyleh\\anaconda3\\envs\\tf-keras-gpu\\lib\\site-packages (from matplotlib) (1.4.3)\n",
            "Requirement already satisfied: python-dateutil>=2.7 in c:\\users\\kyleh\\anaconda3\\envs\\tf-keras-gpu\\lib\\site-packages (from matplotlib) (2.8.2)\n",
            "Requirement already satisfied: numpy>=1.20 in c:\\users\\kyleh\\anaconda3\\envs\\tf-keras-gpu\\lib\\site-packages (from matplotlib) (1.22.3)\n",
            "Requirement already satisfied: fonttools>=4.22.0 in c:\\users\\kyleh\\anaconda3\\envs\\tf-keras-gpu\\lib\\site-packages (from matplotlib) (4.33.3)\n",
            "Requirement already satisfied: cycler>=0.10 in c:\\users\\kyleh\\anaconda3\\envs\\tf-keras-gpu\\lib\\site-packages (from matplotlib) (0.11.0)\n",
            "Requirement already satisfied: zipp>=3.1.0 in c:\\users\\kyleh\\anaconda3\\envs\\tf-keras-gpu\\lib\\site-packages (from importlib-resources>=3.2.0->matplotlib) (3.8.0)\n",
            "Note: you may need to restart the kernel to use updated packages.\n"
          ]
        },
        {
          "name": "stderr",
          "output_type": "stream",
          "text": [
            "ERROR: Could not install packages due to an OSError: [Errno 2] No such file or directory: 'c:\\\\users\\\\kyleh\\\\anaconda3\\\\envs\\\\tf-keras-gpu\\\\lib\\\\site-packages\\\\numpy-1.22.3.dist-info\\\\METADATA'\n",
            "\n"
          ]
        }
      ],
      "source": [
        "# NEED TO RESTART RUNTIME AFTER THIS\n",
        "%pip install --upgrade matplotlib"
      ]
    },
    {
      "cell_type": "code",
      "execution_count": null,
      "metadata": {
        "id": "X9kfkftJ2WbB"
      },
      "outputs": [],
      "source": [
        "TIME_INCREMENT = 0.25"
      ]
    },
    {
      "cell_type": "markdown",
      "metadata": {
        "id": "aotBt6r6PaOe"
      },
      "source": [
        "# Set up"
      ]
    },
    {
      "cell_type": "markdown",
      "metadata": {
        "id": "RpK6nY4xePOP"
      },
      "source": [
        "## Read in data"
      ]
    },
    {
      "cell_type": "code",
      "execution_count": null,
      "metadata": {
        "id": "PVtTmcoRsW-G"
      },
      "outputs": [],
      "source": [
        "# Set file names\n",
        "files =  [\"Compiled_Data.csv\", \"stuart_TRno307.CSV\", \"stuart_TRno309.CSV\", \"stuart_TRno310.CSV\"]"
      ]
    },
    {
      "cell_type": "code",
      "execution_count": null,
      "metadata": {
        "id": "ER4208OXcZt_"
      },
      "outputs": [
        {
          "ename": "FileNotFoundError",
          "evalue": "[Errno 2] No such file or directory: 'Compiled_Data.csv'",
          "output_type": "error",
          "traceback": [
            "\u001b[1;31m---------------------------------------------------------------------------\u001b[0m",
            "\u001b[1;31mFileNotFoundError\u001b[0m                         Traceback (most recent call last)",
            "\u001b[1;32ml:\\Users\\Kyle\\Documents\\University of Minnesota\\PrionAnalysis\\VSCodeWorkspace\\refiles\\RT_QuIC_combined_Stuart_data.ipynb Cell 8\u001b[0m in \u001b[0;36m<cell line: 3>\u001b[1;34m()\u001b[0m\n\u001b[0;32m      <a href='vscode-notebook-cell:/l%3A/Users/Kyle/Documents/University%20of%20Minnesota/PrionAnalysis/VSCodeWorkspace/refiles/RT_QuIC_combined_Stuart_data.ipynb#X10sZmlsZQ%3D%3D?line=1'>2</a>\u001b[0m data \u001b[39m=\u001b[39m {}\n\u001b[0;32m      <a href='vscode-notebook-cell:/l%3A/Users/Kyle/Documents/University%20of%20Minnesota/PrionAnalysis/VSCodeWorkspace/refiles/RT_QuIC_combined_Stuart_data.ipynb#X10sZmlsZQ%3D%3D?line=2'>3</a>\u001b[0m \u001b[39mfor\u001b[39;00m filename \u001b[39min\u001b[39;00m files:\n\u001b[1;32m----> <a href='vscode-notebook-cell:/l%3A/Users/Kyle/Documents/University%20of%20Minnesota/PrionAnalysis/VSCodeWorkspace/refiles/RT_QuIC_combined_Stuart_data.ipynb#X10sZmlsZQ%3D%3D?line=3'>4</a>\u001b[0m     data[filename] \u001b[39m=\u001b[39m pd\u001b[39m.\u001b[39;49mread_csv(filename, header\u001b[39m=\u001b[39;49m\u001b[39mNone\u001b[39;49;00m)\n",
            "File \u001b[1;32mc:\\Users\\kyleh\\anaconda3\\envs\\tf-keras-gpu\\lib\\site-packages\\pandas\\util\\_decorators.py:311\u001b[0m, in \u001b[0;36mdeprecate_nonkeyword_arguments.<locals>.decorate.<locals>.wrapper\u001b[1;34m(*args, **kwargs)\u001b[0m\n\u001b[0;32m    305\u001b[0m \u001b[39mif\u001b[39;00m \u001b[39mlen\u001b[39m(args) \u001b[39m>\u001b[39m num_allow_args:\n\u001b[0;32m    306\u001b[0m     warnings\u001b[39m.\u001b[39mwarn(\n\u001b[0;32m    307\u001b[0m         msg\u001b[39m.\u001b[39mformat(arguments\u001b[39m=\u001b[39marguments),\n\u001b[0;32m    308\u001b[0m         \u001b[39mFutureWarning\u001b[39;00m,\n\u001b[0;32m    309\u001b[0m         stacklevel\u001b[39m=\u001b[39mstacklevel,\n\u001b[0;32m    310\u001b[0m     )\n\u001b[1;32m--> 311\u001b[0m \u001b[39mreturn\u001b[39;00m func(\u001b[39m*\u001b[39margs, \u001b[39m*\u001b[39m\u001b[39m*\u001b[39mkwargs)\n",
            "File \u001b[1;32mc:\\Users\\kyleh\\anaconda3\\envs\\tf-keras-gpu\\lib\\site-packages\\pandas\\io\\parsers\\readers.py:680\u001b[0m, in \u001b[0;36mread_csv\u001b[1;34m(filepath_or_buffer, sep, delimiter, header, names, index_col, usecols, squeeze, prefix, mangle_dupe_cols, dtype, engine, converters, true_values, false_values, skipinitialspace, skiprows, skipfooter, nrows, na_values, keep_default_na, na_filter, verbose, skip_blank_lines, parse_dates, infer_datetime_format, keep_date_col, date_parser, dayfirst, cache_dates, iterator, chunksize, compression, thousands, decimal, lineterminator, quotechar, quoting, doublequote, escapechar, comment, encoding, encoding_errors, dialect, error_bad_lines, warn_bad_lines, on_bad_lines, delim_whitespace, low_memory, memory_map, float_precision, storage_options)\u001b[0m\n\u001b[0;32m    665\u001b[0m kwds_defaults \u001b[39m=\u001b[39m _refine_defaults_read(\n\u001b[0;32m    666\u001b[0m     dialect,\n\u001b[0;32m    667\u001b[0m     delimiter,\n\u001b[1;32m   (...)\u001b[0m\n\u001b[0;32m    676\u001b[0m     defaults\u001b[39m=\u001b[39m{\u001b[39m\"\u001b[39m\u001b[39mdelimiter\u001b[39m\u001b[39m\"\u001b[39m: \u001b[39m\"\u001b[39m\u001b[39m,\u001b[39m\u001b[39m\"\u001b[39m},\n\u001b[0;32m    677\u001b[0m )\n\u001b[0;32m    678\u001b[0m kwds\u001b[39m.\u001b[39mupdate(kwds_defaults)\n\u001b[1;32m--> 680\u001b[0m \u001b[39mreturn\u001b[39;00m _read(filepath_or_buffer, kwds)\n",
            "File \u001b[1;32mc:\\Users\\kyleh\\anaconda3\\envs\\tf-keras-gpu\\lib\\site-packages\\pandas\\io\\parsers\\readers.py:575\u001b[0m, in \u001b[0;36m_read\u001b[1;34m(filepath_or_buffer, kwds)\u001b[0m\n\u001b[0;32m    572\u001b[0m _validate_names(kwds\u001b[39m.\u001b[39mget(\u001b[39m\"\u001b[39m\u001b[39mnames\u001b[39m\u001b[39m\"\u001b[39m, \u001b[39mNone\u001b[39;00m))\n\u001b[0;32m    574\u001b[0m \u001b[39m# Create the parser.\u001b[39;00m\n\u001b[1;32m--> 575\u001b[0m parser \u001b[39m=\u001b[39m TextFileReader(filepath_or_buffer, \u001b[39m*\u001b[39m\u001b[39m*\u001b[39mkwds)\n\u001b[0;32m    577\u001b[0m \u001b[39mif\u001b[39;00m chunksize \u001b[39mor\u001b[39;00m iterator:\n\u001b[0;32m    578\u001b[0m     \u001b[39mreturn\u001b[39;00m parser\n",
            "File \u001b[1;32mc:\\Users\\kyleh\\anaconda3\\envs\\tf-keras-gpu\\lib\\site-packages\\pandas\\io\\parsers\\readers.py:933\u001b[0m, in \u001b[0;36mTextFileReader.__init__\u001b[1;34m(self, f, engine, **kwds)\u001b[0m\n\u001b[0;32m    930\u001b[0m     \u001b[39mself\u001b[39m\u001b[39m.\u001b[39moptions[\u001b[39m\"\u001b[39m\u001b[39mhas_index_names\u001b[39m\u001b[39m\"\u001b[39m] \u001b[39m=\u001b[39m kwds[\u001b[39m\"\u001b[39m\u001b[39mhas_index_names\u001b[39m\u001b[39m\"\u001b[39m]\n\u001b[0;32m    932\u001b[0m \u001b[39mself\u001b[39m\u001b[39m.\u001b[39mhandles: IOHandles \u001b[39m|\u001b[39m \u001b[39mNone\u001b[39;00m \u001b[39m=\u001b[39m \u001b[39mNone\u001b[39;00m\n\u001b[1;32m--> 933\u001b[0m \u001b[39mself\u001b[39m\u001b[39m.\u001b[39m_engine \u001b[39m=\u001b[39m \u001b[39mself\u001b[39;49m\u001b[39m.\u001b[39;49m_make_engine(f, \u001b[39mself\u001b[39;49m\u001b[39m.\u001b[39;49mengine)\n",
            "File \u001b[1;32mc:\\Users\\kyleh\\anaconda3\\envs\\tf-keras-gpu\\lib\\site-packages\\pandas\\io\\parsers\\readers.py:1217\u001b[0m, in \u001b[0;36mTextFileReader._make_engine\u001b[1;34m(self, f, engine)\u001b[0m\n\u001b[0;32m   1213\u001b[0m     mode \u001b[39m=\u001b[39m \u001b[39m\"\u001b[39m\u001b[39mrb\u001b[39m\u001b[39m\"\u001b[39m\n\u001b[0;32m   1214\u001b[0m \u001b[39m# error: No overload variant of \"get_handle\" matches argument types\u001b[39;00m\n\u001b[0;32m   1215\u001b[0m \u001b[39m# \"Union[str, PathLike[str], ReadCsvBuffer[bytes], ReadCsvBuffer[str]]\"\u001b[39;00m\n\u001b[0;32m   1216\u001b[0m \u001b[39m# , \"str\", \"bool\", \"Any\", \"Any\", \"Any\", \"Any\", \"Any\"\u001b[39;00m\n\u001b[1;32m-> 1217\u001b[0m \u001b[39mself\u001b[39m\u001b[39m.\u001b[39mhandles \u001b[39m=\u001b[39m get_handle(  \u001b[39m# type: ignore[call-overload]\u001b[39;49;00m\n\u001b[0;32m   1218\u001b[0m     f,\n\u001b[0;32m   1219\u001b[0m     mode,\n\u001b[0;32m   1220\u001b[0m     encoding\u001b[39m=\u001b[39;49m\u001b[39mself\u001b[39;49m\u001b[39m.\u001b[39;49moptions\u001b[39m.\u001b[39;49mget(\u001b[39m\"\u001b[39;49m\u001b[39mencoding\u001b[39;49m\u001b[39m\"\u001b[39;49m, \u001b[39mNone\u001b[39;49;00m),\n\u001b[0;32m   1221\u001b[0m     compression\u001b[39m=\u001b[39;49m\u001b[39mself\u001b[39;49m\u001b[39m.\u001b[39;49moptions\u001b[39m.\u001b[39;49mget(\u001b[39m\"\u001b[39;49m\u001b[39mcompression\u001b[39;49m\u001b[39m\"\u001b[39;49m, \u001b[39mNone\u001b[39;49;00m),\n\u001b[0;32m   1222\u001b[0m     memory_map\u001b[39m=\u001b[39;49m\u001b[39mself\u001b[39;49m\u001b[39m.\u001b[39;49moptions\u001b[39m.\u001b[39;49mget(\u001b[39m\"\u001b[39;49m\u001b[39mmemory_map\u001b[39;49m\u001b[39m\"\u001b[39;49m, \u001b[39mFalse\u001b[39;49;00m),\n\u001b[0;32m   1223\u001b[0m     is_text\u001b[39m=\u001b[39;49mis_text,\n\u001b[0;32m   1224\u001b[0m     errors\u001b[39m=\u001b[39;49m\u001b[39mself\u001b[39;49m\u001b[39m.\u001b[39;49moptions\u001b[39m.\u001b[39;49mget(\u001b[39m\"\u001b[39;49m\u001b[39mencoding_errors\u001b[39;49m\u001b[39m\"\u001b[39;49m, \u001b[39m\"\u001b[39;49m\u001b[39mstrict\u001b[39;49m\u001b[39m\"\u001b[39;49m),\n\u001b[0;32m   1225\u001b[0m     storage_options\u001b[39m=\u001b[39;49m\u001b[39mself\u001b[39;49m\u001b[39m.\u001b[39;49moptions\u001b[39m.\u001b[39;49mget(\u001b[39m\"\u001b[39;49m\u001b[39mstorage_options\u001b[39;49m\u001b[39m\"\u001b[39;49m, \u001b[39mNone\u001b[39;49;00m),\n\u001b[0;32m   1226\u001b[0m )\n\u001b[0;32m   1227\u001b[0m \u001b[39massert\u001b[39;00m \u001b[39mself\u001b[39m\u001b[39m.\u001b[39mhandles \u001b[39mis\u001b[39;00m \u001b[39mnot\u001b[39;00m \u001b[39mNone\u001b[39;00m\n\u001b[0;32m   1228\u001b[0m f \u001b[39m=\u001b[39m \u001b[39mself\u001b[39m\u001b[39m.\u001b[39mhandles\u001b[39m.\u001b[39mhandle\n",
            "File \u001b[1;32mc:\\Users\\kyleh\\anaconda3\\envs\\tf-keras-gpu\\lib\\site-packages\\pandas\\io\\common.py:789\u001b[0m, in \u001b[0;36mget_handle\u001b[1;34m(path_or_buf, mode, encoding, compression, memory_map, is_text, errors, storage_options)\u001b[0m\n\u001b[0;32m    784\u001b[0m \u001b[39melif\u001b[39;00m \u001b[39misinstance\u001b[39m(handle, \u001b[39mstr\u001b[39m):\n\u001b[0;32m    785\u001b[0m     \u001b[39m# Check whether the filename is to be opened in binary mode.\u001b[39;00m\n\u001b[0;32m    786\u001b[0m     \u001b[39m# Binary mode does not support 'encoding' and 'newline'.\u001b[39;00m\n\u001b[0;32m    787\u001b[0m     \u001b[39mif\u001b[39;00m ioargs\u001b[39m.\u001b[39mencoding \u001b[39mand\u001b[39;00m \u001b[39m\"\u001b[39m\u001b[39mb\u001b[39m\u001b[39m\"\u001b[39m \u001b[39mnot\u001b[39;00m \u001b[39min\u001b[39;00m ioargs\u001b[39m.\u001b[39mmode:\n\u001b[0;32m    788\u001b[0m         \u001b[39m# Encoding\u001b[39;00m\n\u001b[1;32m--> 789\u001b[0m         handle \u001b[39m=\u001b[39m \u001b[39mopen\u001b[39;49m(\n\u001b[0;32m    790\u001b[0m             handle,\n\u001b[0;32m    791\u001b[0m             ioargs\u001b[39m.\u001b[39;49mmode,\n\u001b[0;32m    792\u001b[0m             encoding\u001b[39m=\u001b[39;49mioargs\u001b[39m.\u001b[39;49mencoding,\n\u001b[0;32m    793\u001b[0m             errors\u001b[39m=\u001b[39;49merrors,\n\u001b[0;32m    794\u001b[0m             newline\u001b[39m=\u001b[39;49m\u001b[39m\"\u001b[39;49m\u001b[39m\"\u001b[39;49m,\n\u001b[0;32m    795\u001b[0m         )\n\u001b[0;32m    796\u001b[0m     \u001b[39melse\u001b[39;00m:\n\u001b[0;32m    797\u001b[0m         \u001b[39m# Binary mode\u001b[39;00m\n\u001b[0;32m    798\u001b[0m         handle \u001b[39m=\u001b[39m \u001b[39mopen\u001b[39m(handle, ioargs\u001b[39m.\u001b[39mmode)\n",
            "\u001b[1;31mFileNotFoundError\u001b[0m: [Errno 2] No such file or directory: 'Compiled_Data.csv'"
          ]
        }
      ],
      "source": [
        "# Read in data\n",
        "data = {}\n",
        "for filename in files:\n",
        "    data[filename] = pd.read_csv(filename, header=None)"
      ]
    },
    {
      "cell_type": "code",
      "execution_count": null,
      "metadata": {
        "colab": {
          "base_uri": "https://localhost:8080/"
        },
        "id": "5v7AEF9Gw3-m",
        "outputId": "607bc3eb-d492-46bf-bcf2-fcfa14819a88"
      },
      "outputs": [
        {
          "name": "stdout",
          "output_type": "stream",
          "text": [
            "Before: [nan, 'A', 'A', 'A', 'A', 'A', 'A', 'A', 'A', 'B']\n",
            "After: [nan, 'A|Compiled_Data', 'A|Compiled_Data', 'A|Compiled_Data', 'A|Compiled_Data', 'A|Compiled_Data', 'A|Compiled_Data', 'A|Compiled_Data', 'A|Compiled_Data', 'B|Compiled_Data']\n",
            "Before: [nan, 'A', 'A', 'A', 'A', 'A', 'A', 'A', 'A', 'B']\n",
            "After: [nan, 'A|stuart_TRno307', 'A|stuart_TRno307', 'A|stuart_TRno307', 'A|stuart_TRno307', 'A|stuart_TRno307', 'A|stuart_TRno307', 'A|stuart_TRno307', 'A|stuart_TRno307', 'B|stuart_TRno307']\n",
            "Before: [nan, 'A', 'A', 'A', 'A', 'A', 'A', 'A', 'A', 'B']\n",
            "After: [nan, 'A|stuart_TRno309', 'A|stuart_TRno309', 'A|stuart_TRno309', 'A|stuart_TRno309', 'A|stuart_TRno309', 'A|stuart_TRno309', 'A|stuart_TRno309', 'A|stuart_TRno309', 'B|stuart_TRno309']\n",
            "Before: [nan, 'A', 'A', 'A', 'A', 'A', 'A', 'A', 'A', 'B']\n",
            "After: [nan, 'A|stuart_TRno310', 'A|stuart_TRno310', 'A|stuart_TRno310', 'A|stuart_TRno310', 'A|stuart_TRno310', 'A|stuart_TRno310', 'A|stuart_TRno310', 'A|stuart_TRno310', 'B|stuart_TRno310']\n"
          ]
        }
      ],
      "source": [
        "# Append filename to replicate ID in each file\n",
        "def append_filename(x, suffix):\n",
        "    if pd.isnull(x):\n",
        "        return x\n",
        "    else:\n",
        "        return x + '|' + suffix\n",
        "\n",
        "for filename,df in data.items():\n",
        "    # Print replicate IDs before\n",
        "    print(\"Before: \", end=\"\")\n",
        "    print(df.iloc[2,:10].tolist())\n",
        "    # Append filename to replicate ID\n",
        "    df.iloc[2,:] = df.iloc[2,:].apply(lambda x: append_filename(x, suffix=filename.split('.')[0]))\n",
        "    # Print replicate IDs after\n",
        "    print(\"After: \", end=\"\")\n",
        "    print(df.iloc[2,:10].tolist())"
      ]
    },
    {
      "cell_type": "code",
      "execution_count": null,
      "metadata": {
        "colab": {
          "base_uri": "https://localhost:8080/",
          "height": 505
        },
        "id": "hJ9iBGCacw0o",
        "outputId": "9ada0966-be82-48f9-a6be-be746d2e6068"
      },
      "outputs": [
        {
          "data": {
            "text/html": [
              "\n",
              "  <div id=\"df-3be465c6-f794-4fe3-a2e9-afad860261c8\">\n",
              "    <div class=\"colab-df-container\">\n",
              "      <div>\n",
              "<style scoped>\n",
              "    .dataframe tbody tr th:only-of-type {\n",
              "        vertical-align: middle;\n",
              "    }\n",
              "\n",
              "    .dataframe tbody tr th {\n",
              "        vertical-align: top;\n",
              "    }\n",
              "\n",
              "    .dataframe thead th {\n",
              "        text-align: right;\n",
              "    }\n",
              "</style>\n",
              "<table border=\"1\" class=\"dataframe\">\n",
              "  <thead>\n",
              "    <tr style=\"text-align: right;\">\n",
              "      <th></th>\n",
              "      <th>0</th>\n",
              "      <th>1</th>\n",
              "      <th>2</th>\n",
              "      <th>3</th>\n",
              "      <th>4</th>\n",
              "      <th>5</th>\n",
              "      <th>6</th>\n",
              "      <th>7</th>\n",
              "      <th>8</th>\n",
              "      <th>9</th>\n",
              "      <th>...</th>\n",
              "      <th>2070</th>\n",
              "      <th>2071</th>\n",
              "      <th>2072</th>\n",
              "      <th>2073</th>\n",
              "      <th>2074</th>\n",
              "      <th>2075</th>\n",
              "      <th>2076</th>\n",
              "      <th>2077</th>\n",
              "      <th>2078</th>\n",
              "      <th>2079</th>\n",
              "    </tr>\n",
              "  </thead>\n",
              "  <tbody>\n",
              "    <tr>\n",
              "      <th>0</th>\n",
              "      <td>Status</td>\n",
              "      <td>Pos</td>\n",
              "      <td>Pos</td>\n",
              "      <td>Pos</td>\n",
              "      <td>Pos</td>\n",
              "      <td>Pos</td>\n",
              "      <td>Pos</td>\n",
              "      <td>Pos</td>\n",
              "      <td>Pos</td>\n",
              "      <td>Pos</td>\n",
              "      <td>...</td>\n",
              "      <td>Neg</td>\n",
              "      <td>Neg</td>\n",
              "      <td>Neg</td>\n",
              "      <td>Neg</td>\n",
              "      <td>Neg</td>\n",
              "      <td>Neg</td>\n",
              "      <td>Neg</td>\n",
              "      <td>Neg</td>\n",
              "      <td>Neg</td>\n",
              "      <td>Neg</td>\n",
              "    </tr>\n",
              "    <tr>\n",
              "      <th>1</th>\n",
              "      <td>Sample</td>\n",
              "      <td>Obex</td>\n",
              "      <td>Obex</td>\n",
              "      <td>Obex</td>\n",
              "      <td>Obex</td>\n",
              "      <td>Obex</td>\n",
              "      <td>Obex</td>\n",
              "      <td>Obex</td>\n",
              "      <td>Obex</td>\n",
              "      <td>Soil</td>\n",
              "      <td>...</td>\n",
              "      <td>RPLN</td>\n",
              "      <td>RPLN</td>\n",
              "      <td>RPLN</td>\n",
              "      <td>RPLN</td>\n",
              "      <td>RPLN</td>\n",
              "      <td>RPLN</td>\n",
              "      <td>RPLN</td>\n",
              "      <td>RPLN</td>\n",
              "      <td>RPLN</td>\n",
              "      <td>Obex</td>\n",
              "    </tr>\n",
              "    <tr>\n",
              "      <th>2</th>\n",
              "      <td>NaN</td>\n",
              "      <td>A|Compiled_Data</td>\n",
              "      <td>A|Compiled_Data</td>\n",
              "      <td>A|Compiled_Data</td>\n",
              "      <td>A|Compiled_Data</td>\n",
              "      <td>A|Compiled_Data</td>\n",
              "      <td>A|Compiled_Data</td>\n",
              "      <td>A|Compiled_Data</td>\n",
              "      <td>A|Compiled_Data</td>\n",
              "      <td>B|Compiled_Data</td>\n",
              "      <td>...</td>\n",
              "      <td>AHR|Compiled_Data</td>\n",
              "      <td>AHS|Compiled_Data</td>\n",
              "      <td>AHT|Compiled_Data</td>\n",
              "      <td>AHU|Compiled_Data</td>\n",
              "      <td>AHV|Compiled_Data</td>\n",
              "      <td>AHW|Compiled_Data</td>\n",
              "      <td>AHX|Compiled_Data</td>\n",
              "      <td>AHY|Compiled_Data</td>\n",
              "      <td>AHZ|Compiled_Data</td>\n",
              "      <td>AIA|Compiled_Data</td>\n",
              "    </tr>\n",
              "    <tr>\n",
              "      <th>3</th>\n",
              "      <td>Time [h]</td>\n",
              "      <td>Sample X1</td>\n",
              "      <td>Sample X13</td>\n",
              "      <td>Sample X25</td>\n",
              "      <td>Sample X37</td>\n",
              "      <td>Sample X49</td>\n",
              "      <td>Sample X61</td>\n",
              "      <td>Sample X73</td>\n",
              "      <td>Sample X85</td>\n",
              "      <td>Sample X4</td>\n",
              "      <td>...</td>\n",
              "      <td>Sample X87</td>\n",
              "      <td>Sample X88</td>\n",
              "      <td>Sample X89</td>\n",
              "      <td>Sample X90</td>\n",
              "      <td>Sample X91</td>\n",
              "      <td>Sample X92</td>\n",
              "      <td>Sample X93</td>\n",
              "      <td>Sample X94</td>\n",
              "      <td>Sample X95</td>\n",
              "      <td>Sample X96</td>\n",
              "    </tr>\n",
              "    <tr>\n",
              "      <th>4</th>\n",
              "      <td>0</td>\n",
              "      <td>26094</td>\n",
              "      <td>23708</td>\n",
              "      <td>23697</td>\n",
              "      <td>21975</td>\n",
              "      <td>22571</td>\n",
              "      <td>23018</td>\n",
              "      <td>21295</td>\n",
              "      <td>20118</td>\n",
              "      <td>24642</td>\n",
              "      <td>...</td>\n",
              "      <td>8351</td>\n",
              "      <td>8538</td>\n",
              "      <td>8577</td>\n",
              "      <td>8310</td>\n",
              "      <td>8409</td>\n",
              "      <td>8398</td>\n",
              "      <td>8925</td>\n",
              "      <td>8649</td>\n",
              "      <td>8739</td>\n",
              "      <td>8604</td>\n",
              "    </tr>\n",
              "    <tr>\n",
              "      <th>...</th>\n",
              "      <td>...</td>\n",
              "      <td>...</td>\n",
              "      <td>...</td>\n",
              "      <td>...</td>\n",
              "      <td>...</td>\n",
              "      <td>...</td>\n",
              "      <td>...</td>\n",
              "      <td>...</td>\n",
              "      <td>...</td>\n",
              "      <td>...</td>\n",
              "      <td>...</td>\n",
              "      <td>...</td>\n",
              "      <td>...</td>\n",
              "      <td>...</td>\n",
              "      <td>...</td>\n",
              "      <td>...</td>\n",
              "      <td>...</td>\n",
              "      <td>...</td>\n",
              "      <td>...</td>\n",
              "      <td>...</td>\n",
              "      <td>...</td>\n",
              "    </tr>\n",
              "    <tr>\n",
              "      <th>192</th>\n",
              "      <td>47</td>\n",
              "      <td>49461</td>\n",
              "      <td>45421</td>\n",
              "      <td>50333</td>\n",
              "      <td>42282</td>\n",
              "      <td>47454</td>\n",
              "      <td>50290</td>\n",
              "      <td>48210</td>\n",
              "      <td>48006</td>\n",
              "      <td>35541</td>\n",
              "      <td>...</td>\n",
              "      <td>NaN</td>\n",
              "      <td>NaN</td>\n",
              "      <td>NaN</td>\n",
              "      <td>NaN</td>\n",
              "      <td>NaN</td>\n",
              "      <td>NaN</td>\n",
              "      <td>NaN</td>\n",
              "      <td>NaN</td>\n",
              "      <td>NaN</td>\n",
              "      <td>NaN</td>\n",
              "    </tr>\n",
              "    <tr>\n",
              "      <th>193</th>\n",
              "      <td>47.25</td>\n",
              "      <td>49929</td>\n",
              "      <td>50124</td>\n",
              "      <td>48830</td>\n",
              "      <td>42325</td>\n",
              "      <td>47514</td>\n",
              "      <td>50953</td>\n",
              "      <td>48838</td>\n",
              "      <td>47907</td>\n",
              "      <td>34918</td>\n",
              "      <td>...</td>\n",
              "      <td>NaN</td>\n",
              "      <td>NaN</td>\n",
              "      <td>NaN</td>\n",
              "      <td>NaN</td>\n",
              "      <td>NaN</td>\n",
              "      <td>NaN</td>\n",
              "      <td>NaN</td>\n",
              "      <td>NaN</td>\n",
              "      <td>NaN</td>\n",
              "      <td>NaN</td>\n",
              "    </tr>\n",
              "    <tr>\n",
              "      <th>194</th>\n",
              "      <td>47.5</td>\n",
              "      <td>49872</td>\n",
              "      <td>47959</td>\n",
              "      <td>45010</td>\n",
              "      <td>42041</td>\n",
              "      <td>47339</td>\n",
              "      <td>50035</td>\n",
              "      <td>48609</td>\n",
              "      <td>48203</td>\n",
              "      <td>33875</td>\n",
              "      <td>...</td>\n",
              "      <td>NaN</td>\n",
              "      <td>NaN</td>\n",
              "      <td>NaN</td>\n",
              "      <td>NaN</td>\n",
              "      <td>NaN</td>\n",
              "      <td>NaN</td>\n",
              "      <td>NaN</td>\n",
              "      <td>NaN</td>\n",
              "      <td>NaN</td>\n",
              "      <td>NaN</td>\n",
              "    </tr>\n",
              "    <tr>\n",
              "      <th>195</th>\n",
              "      <td>47.75</td>\n",
              "      <td>49527</td>\n",
              "      <td>47422</td>\n",
              "      <td>46204</td>\n",
              "      <td>42045</td>\n",
              "      <td>46774</td>\n",
              "      <td>49934</td>\n",
              "      <td>47627</td>\n",
              "      <td>47440</td>\n",
              "      <td>33898</td>\n",
              "      <td>...</td>\n",
              "      <td>NaN</td>\n",
              "      <td>NaN</td>\n",
              "      <td>NaN</td>\n",
              "      <td>NaN</td>\n",
              "      <td>NaN</td>\n",
              "      <td>NaN</td>\n",
              "      <td>NaN</td>\n",
              "      <td>NaN</td>\n",
              "      <td>NaN</td>\n",
              "      <td>NaN</td>\n",
              "    </tr>\n",
              "    <tr>\n",
              "      <th>196</th>\n",
              "      <td>48</td>\n",
              "      <td>49571</td>\n",
              "      <td>48325</td>\n",
              "      <td>48358</td>\n",
              "      <td>42770</td>\n",
              "      <td>47650</td>\n",
              "      <td>51188</td>\n",
              "      <td>48482</td>\n",
              "      <td>47910</td>\n",
              "      <td>33076</td>\n",
              "      <td>...</td>\n",
              "      <td>NaN</td>\n",
              "      <td>NaN</td>\n",
              "      <td>NaN</td>\n",
              "      <td>NaN</td>\n",
              "      <td>NaN</td>\n",
              "      <td>NaN</td>\n",
              "      <td>NaN</td>\n",
              "      <td>NaN</td>\n",
              "      <td>NaN</td>\n",
              "      <td>NaN</td>\n",
              "    </tr>\n",
              "  </tbody>\n",
              "</table>\n",
              "<p>197 rows × 2080 columns</p>\n",
              "</div>\n",
              "      <button class=\"colab-df-convert\" onclick=\"convertToInteractive('df-3be465c6-f794-4fe3-a2e9-afad860261c8')\"\n",
              "              title=\"Convert this dataframe to an interactive table.\"\n",
              "              style=\"display:none;\">\n",
              "        \n",
              "  <svg xmlns=\"http://www.w3.org/2000/svg\" height=\"24px\"viewBox=\"0 0 24 24\"\n",
              "       width=\"24px\">\n",
              "    <path d=\"M0 0h24v24H0V0z\" fill=\"none\"/>\n",
              "    <path d=\"M18.56 5.44l.94 2.06.94-2.06 2.06-.94-2.06-.94-.94-2.06-.94 2.06-2.06.94zm-11 1L8.5 8.5l.94-2.06 2.06-.94-2.06-.94L8.5 2.5l-.94 2.06-2.06.94zm10 10l.94 2.06.94-2.06 2.06-.94-2.06-.94-.94-2.06-.94 2.06-2.06.94z\"/><path d=\"M17.41 7.96l-1.37-1.37c-.4-.4-.92-.59-1.43-.59-.52 0-1.04.2-1.43.59L10.3 9.45l-7.72 7.72c-.78.78-.78 2.05 0 2.83L4 21.41c.39.39.9.59 1.41.59.51 0 1.02-.2 1.41-.59l7.78-7.78 2.81-2.81c.8-.78.8-2.07 0-2.86zM5.41 20L4 18.59l7.72-7.72 1.47 1.35L5.41 20z\"/>\n",
              "  </svg>\n",
              "      </button>\n",
              "      \n",
              "  <style>\n",
              "    .colab-df-container {\n",
              "      display:flex;\n",
              "      flex-wrap:wrap;\n",
              "      gap: 12px;\n",
              "    }\n",
              "\n",
              "    .colab-df-convert {\n",
              "      background-color: #E8F0FE;\n",
              "      border: none;\n",
              "      border-radius: 50%;\n",
              "      cursor: pointer;\n",
              "      display: none;\n",
              "      fill: #1967D2;\n",
              "      height: 32px;\n",
              "      padding: 0 0 0 0;\n",
              "      width: 32px;\n",
              "    }\n",
              "\n",
              "    .colab-df-convert:hover {\n",
              "      background-color: #E2EBFA;\n",
              "      box-shadow: 0px 1px 2px rgba(60, 64, 67, 0.3), 0px 1px 3px 1px rgba(60, 64, 67, 0.15);\n",
              "      fill: #174EA6;\n",
              "    }\n",
              "\n",
              "    [theme=dark] .colab-df-convert {\n",
              "      background-color: #3B4455;\n",
              "      fill: #D2E3FC;\n",
              "    }\n",
              "\n",
              "    [theme=dark] .colab-df-convert:hover {\n",
              "      background-color: #434B5C;\n",
              "      box-shadow: 0px 1px 3px 1px rgba(0, 0, 0, 0.15);\n",
              "      filter: drop-shadow(0px 1px 2px rgba(0, 0, 0, 0.3));\n",
              "      fill: #FFFFFF;\n",
              "    }\n",
              "  </style>\n",
              "\n",
              "      <script>\n",
              "        const buttonEl =\n",
              "          document.querySelector('#df-3be465c6-f794-4fe3-a2e9-afad860261c8 button.colab-df-convert');\n",
              "        buttonEl.style.display =\n",
              "          google.colab.kernel.accessAllowed ? 'block' : 'none';\n",
              "\n",
              "        async function convertToInteractive(key) {\n",
              "          const element = document.querySelector('#df-3be465c6-f794-4fe3-a2e9-afad860261c8');\n",
              "          const dataTable =\n",
              "            await google.colab.kernel.invokeFunction('convertToInteractive',\n",
              "                                                     [key], {});\n",
              "          if (!dataTable) return;\n",
              "\n",
              "          const docLinkHtml = 'Like what you see? Visit the ' +\n",
              "            '<a target=\"_blank\" href=https://colab.research.google.com/notebooks/data_table.ipynb>data table notebook</a>'\n",
              "            + ' to learn more about interactive tables.';\n",
              "          element.innerHTML = '';\n",
              "          dataTable['output_type'] = 'display_data';\n",
              "          await google.colab.output.renderOutput(dataTable, element);\n",
              "          const docLink = document.createElement('div');\n",
              "          docLink.innerHTML = docLinkHtml;\n",
              "          element.appendChild(docLink);\n",
              "        }\n",
              "      </script>\n",
              "    </div>\n",
              "  </div>\n",
              "  "
            ],
            "text/plain": [
              "         0                1                2                3     \\\n",
              "0      Status              Pos              Pos              Pos   \n",
              "1      Sample             Obex             Obex             Obex   \n",
              "2         NaN  A|Compiled_Data  A|Compiled_Data  A|Compiled_Data   \n",
              "3    Time [h]        Sample X1       Sample X13       Sample X25   \n",
              "4           0            26094            23708            23697   \n",
              "..        ...              ...              ...              ...   \n",
              "192        47            49461            45421            50333   \n",
              "193     47.25            49929            50124            48830   \n",
              "194      47.5            49872            47959            45010   \n",
              "195     47.75            49527            47422            46204   \n",
              "196        48            49571            48325            48358   \n",
              "\n",
              "                4                5                6                7     \\\n",
              "0                Pos              Pos              Pos              Pos   \n",
              "1               Obex             Obex             Obex             Obex   \n",
              "2    A|Compiled_Data  A|Compiled_Data  A|Compiled_Data  A|Compiled_Data   \n",
              "3         Sample X37       Sample X49       Sample X61       Sample X73   \n",
              "4              21975            22571            23018            21295   \n",
              "..               ...              ...              ...              ...   \n",
              "192            42282            47454            50290            48210   \n",
              "193            42325            47514            50953            48838   \n",
              "194            42041            47339            50035            48609   \n",
              "195            42045            46774            49934            47627   \n",
              "196            42770            47650            51188            48482   \n",
              "\n",
              "                8                9     ...               2070  \\\n",
              "0                Pos              Pos  ...                Neg   \n",
              "1               Obex             Soil  ...               RPLN   \n",
              "2    A|Compiled_Data  B|Compiled_Data  ...  AHR|Compiled_Data   \n",
              "3         Sample X85        Sample X4  ...         Sample X87   \n",
              "4              20118            24642  ...               8351   \n",
              "..               ...              ...  ...                ...   \n",
              "192            48006            35541  ...                NaN   \n",
              "193            47907            34918  ...                NaN   \n",
              "194            48203            33875  ...                NaN   \n",
              "195            47440            33898  ...                NaN   \n",
              "196            47910            33076  ...                NaN   \n",
              "\n",
              "                  2071               2072               2073  \\\n",
              "0                  Neg                Neg                Neg   \n",
              "1                 RPLN               RPLN               RPLN   \n",
              "2    AHS|Compiled_Data  AHT|Compiled_Data  AHU|Compiled_Data   \n",
              "3           Sample X88         Sample X89         Sample X90   \n",
              "4                 8538               8577               8310   \n",
              "..                 ...                ...                ...   \n",
              "192                NaN                NaN                NaN   \n",
              "193                NaN                NaN                NaN   \n",
              "194                NaN                NaN                NaN   \n",
              "195                NaN                NaN                NaN   \n",
              "196                NaN                NaN                NaN   \n",
              "\n",
              "                  2074               2075               2076  \\\n",
              "0                  Neg                Neg                Neg   \n",
              "1                 RPLN               RPLN               RPLN   \n",
              "2    AHV|Compiled_Data  AHW|Compiled_Data  AHX|Compiled_Data   \n",
              "3           Sample X91         Sample X92         Sample X93   \n",
              "4                 8409               8398               8925   \n",
              "..                 ...                ...                ...   \n",
              "192                NaN                NaN                NaN   \n",
              "193                NaN                NaN                NaN   \n",
              "194                NaN                NaN                NaN   \n",
              "195                NaN                NaN                NaN   \n",
              "196                NaN                NaN                NaN   \n",
              "\n",
              "                  2077               2078               2079  \n",
              "0                  Neg                Neg                Neg  \n",
              "1                 RPLN               RPLN               Obex  \n",
              "2    AHY|Compiled_Data  AHZ|Compiled_Data  AIA|Compiled_Data  \n",
              "3           Sample X94         Sample X95         Sample X96  \n",
              "4                 8649               8739               8604  \n",
              "..                 ...                ...                ...  \n",
              "192                NaN                NaN                NaN  \n",
              "193                NaN                NaN                NaN  \n",
              "194                NaN                NaN                NaN  \n",
              "195                NaN                NaN                NaN  \n",
              "196                NaN                NaN                NaN  \n",
              "\n",
              "[197 rows x 2080 columns]"
            ]
          },
          "execution_count": 8,
          "metadata": {},
          "output_type": "execute_result"
        }
      ],
      "source": [
        "data[\"Compiled_Data.csv\"]  # interactive"
      ]
    },
    {
      "cell_type": "code",
      "execution_count": null,
      "metadata": {
        "colab": {
          "base_uri": "https://localhost:8080/",
          "height": 505
        },
        "id": "zesNZ9UhrDu-",
        "outputId": "7461602b-b25d-4db9-cc52-c8d8f27677a5"
      },
      "outputs": [
        {
          "data": {
            "text/html": [
              "\n",
              "  <div id=\"df-6248374b-2637-460f-abdf-b712cebd6bb3\">\n",
              "    <div class=\"colab-df-container\">\n",
              "      <div>\n",
              "<style scoped>\n",
              "    .dataframe tbody tr th:only-of-type {\n",
              "        vertical-align: middle;\n",
              "    }\n",
              "\n",
              "    .dataframe tbody tr th {\n",
              "        vertical-align: top;\n",
              "    }\n",
              "\n",
              "    .dataframe thead th {\n",
              "        text-align: right;\n",
              "    }\n",
              "</style>\n",
              "<table border=\"1\" class=\"dataframe\">\n",
              "  <thead>\n",
              "    <tr style=\"text-align: right;\">\n",
              "      <th></th>\n",
              "      <th>0</th>\n",
              "      <th>1</th>\n",
              "      <th>2</th>\n",
              "      <th>3</th>\n",
              "      <th>4</th>\n",
              "      <th>5</th>\n",
              "      <th>6</th>\n",
              "      <th>7</th>\n",
              "      <th>8</th>\n",
              "      <th>9</th>\n",
              "      <th>...</th>\n",
              "      <th>375</th>\n",
              "      <th>376</th>\n",
              "      <th>377</th>\n",
              "      <th>378</th>\n",
              "      <th>379</th>\n",
              "      <th>380</th>\n",
              "      <th>381</th>\n",
              "      <th>382</th>\n",
              "      <th>383</th>\n",
              "      <th>384</th>\n",
              "    </tr>\n",
              "  </thead>\n",
              "  <tbody>\n",
              "    <tr>\n",
              "      <th>0</th>\n",
              "      <td>Status</td>\n",
              "      <td>Pos</td>\n",
              "      <td>Pos</td>\n",
              "      <td>Pos</td>\n",
              "      <td>Pos</td>\n",
              "      <td>Pos</td>\n",
              "      <td>Pos</td>\n",
              "      <td>Pos</td>\n",
              "      <td>Pos</td>\n",
              "      <td>Neg</td>\n",
              "      <td>...</td>\n",
              "      <td>Neg</td>\n",
              "      <td>Neg</td>\n",
              "      <td>Neg</td>\n",
              "      <td>Neg</td>\n",
              "      <td>Neg</td>\n",
              "      <td>Neg</td>\n",
              "      <td>Neg</td>\n",
              "      <td>Neg</td>\n",
              "      <td>Neg</td>\n",
              "      <td>Neg</td>\n",
              "    </tr>\n",
              "    <tr>\n",
              "      <th>1</th>\n",
              "      <td>Sample</td>\n",
              "      <td>Obex</td>\n",
              "      <td>Obex</td>\n",
              "      <td>Obex</td>\n",
              "      <td>Obex</td>\n",
              "      <td>Obex</td>\n",
              "      <td>Obex</td>\n",
              "      <td>Obex</td>\n",
              "      <td>Obex</td>\n",
              "      <td>Soil</td>\n",
              "      <td>...</td>\n",
              "      <td>Soil</td>\n",
              "      <td>Soil</td>\n",
              "      <td>Obex</td>\n",
              "      <td>Obex</td>\n",
              "      <td>Obex</td>\n",
              "      <td>Obex</td>\n",
              "      <td>Obex</td>\n",
              "      <td>Obex</td>\n",
              "      <td>Obex</td>\n",
              "      <td>Obex</td>\n",
              "    </tr>\n",
              "    <tr>\n",
              "      <th>2</th>\n",
              "      <td>NaN</td>\n",
              "      <td>A|stuart_TRno307</td>\n",
              "      <td>A|stuart_TRno307</td>\n",
              "      <td>A|stuart_TRno307</td>\n",
              "      <td>A|stuart_TRno307</td>\n",
              "      <td>A|stuart_TRno307</td>\n",
              "      <td>A|stuart_TRno307</td>\n",
              "      <td>A|stuart_TRno307</td>\n",
              "      <td>A|stuart_TRno307</td>\n",
              "      <td>B|stuart_TRno307</td>\n",
              "      <td>...</td>\n",
              "      <td>AU|stuart_TRno307</td>\n",
              "      <td>AU|stuart_TRno307</td>\n",
              "      <td>AV|stuart_TRno307</td>\n",
              "      <td>AV|stuart_TRno307</td>\n",
              "      <td>AV|stuart_TRno307</td>\n",
              "      <td>AV|stuart_TRno307</td>\n",
              "      <td>AV|stuart_TRno307</td>\n",
              "      <td>AV|stuart_TRno307</td>\n",
              "      <td>AV|stuart_TRno307</td>\n",
              "      <td>AV|stuart_TRno307</td>\n",
              "    </tr>\n",
              "    <tr>\n",
              "      <th>3</th>\n",
              "      <td>Time [h]</td>\n",
              "      <td>Sample X1</td>\n",
              "      <td>Sample X2</td>\n",
              "      <td>Sample X3</td>\n",
              "      <td>Sample X4</td>\n",
              "      <td>Sample X5</td>\n",
              "      <td>Sample X6</td>\n",
              "      <td>Sample X7</td>\n",
              "      <td>Sample X8</td>\n",
              "      <td>Sample X9</td>\n",
              "      <td>...</td>\n",
              "      <td>Sample X375</td>\n",
              "      <td>Sample X376</td>\n",
              "      <td>Sample X377</td>\n",
              "      <td>Sample X378</td>\n",
              "      <td>Sample X379</td>\n",
              "      <td>Sample X380</td>\n",
              "      <td>Sample X381</td>\n",
              "      <td>Sample X382</td>\n",
              "      <td>Sample X383</td>\n",
              "      <td>Sample X384</td>\n",
              "    </tr>\n",
              "    <tr>\n",
              "      <th>4</th>\n",
              "      <td>0</td>\n",
              "      <td>7742</td>\n",
              "      <td>9358</td>\n",
              "      <td>6732</td>\n",
              "      <td>9292</td>\n",
              "      <td>8693</td>\n",
              "      <td>9115</td>\n",
              "      <td>9361</td>\n",
              "      <td>8328</td>\n",
              "      <td>6369</td>\n",
              "      <td>...</td>\n",
              "      <td>5875</td>\n",
              "      <td>5007</td>\n",
              "      <td>5404</td>\n",
              "      <td>7056</td>\n",
              "      <td>5499</td>\n",
              "      <td>6496</td>\n",
              "      <td>5866</td>\n",
              "      <td>5187</td>\n",
              "      <td>5098</td>\n",
              "      <td>4888</td>\n",
              "    </tr>\n",
              "    <tr>\n",
              "      <th>...</th>\n",
              "      <td>...</td>\n",
              "      <td>...</td>\n",
              "      <td>...</td>\n",
              "      <td>...</td>\n",
              "      <td>...</td>\n",
              "      <td>...</td>\n",
              "      <td>...</td>\n",
              "      <td>...</td>\n",
              "      <td>...</td>\n",
              "      <td>...</td>\n",
              "      <td>...</td>\n",
              "      <td>...</td>\n",
              "      <td>...</td>\n",
              "      <td>...</td>\n",
              "      <td>...</td>\n",
              "      <td>...</td>\n",
              "      <td>...</td>\n",
              "      <td>...</td>\n",
              "      <td>...</td>\n",
              "      <td>...</td>\n",
              "      <td>...</td>\n",
              "    </tr>\n",
              "    <tr>\n",
              "      <th>192</th>\n",
              "      <td>47</td>\n",
              "      <td>170446</td>\n",
              "      <td>120749</td>\n",
              "      <td>183005</td>\n",
              "      <td>182975</td>\n",
              "      <td>174435</td>\n",
              "      <td>198922</td>\n",
              "      <td>150724</td>\n",
              "      <td>167252</td>\n",
              "      <td>4134</td>\n",
              "      <td>...</td>\n",
              "      <td>119205</td>\n",
              "      <td>105580</td>\n",
              "      <td>4925</td>\n",
              "      <td>6023</td>\n",
              "      <td>6427</td>\n",
              "      <td>5190</td>\n",
              "      <td>5322</td>\n",
              "      <td>4562</td>\n",
              "      <td>4583</td>\n",
              "      <td>4565</td>\n",
              "    </tr>\n",
              "    <tr>\n",
              "      <th>193</th>\n",
              "      <td>47.25</td>\n",
              "      <td>169176</td>\n",
              "      <td>120477</td>\n",
              "      <td>182995</td>\n",
              "      <td>184018</td>\n",
              "      <td>174819</td>\n",
              "      <td>199979</td>\n",
              "      <td>151514</td>\n",
              "      <td>167945</td>\n",
              "      <td>4038</td>\n",
              "      <td>...</td>\n",
              "      <td>118795</td>\n",
              "      <td>105734</td>\n",
              "      <td>4905</td>\n",
              "      <td>6061</td>\n",
              "      <td>6360</td>\n",
              "      <td>5105</td>\n",
              "      <td>5272</td>\n",
              "      <td>4636</td>\n",
              "      <td>4582</td>\n",
              "      <td>4615</td>\n",
              "    </tr>\n",
              "    <tr>\n",
              "      <th>194</th>\n",
              "      <td>47.5</td>\n",
              "      <td>171596</td>\n",
              "      <td>121787</td>\n",
              "      <td>184918</td>\n",
              "      <td>184144</td>\n",
              "      <td>175485</td>\n",
              "      <td>200454</td>\n",
              "      <td>152026</td>\n",
              "      <td>168858</td>\n",
              "      <td>4081</td>\n",
              "      <td>...</td>\n",
              "      <td>118557</td>\n",
              "      <td>100716</td>\n",
              "      <td>4886</td>\n",
              "      <td>6049</td>\n",
              "      <td>6457</td>\n",
              "      <td>5165</td>\n",
              "      <td>5261</td>\n",
              "      <td>4596</td>\n",
              "      <td>4508</td>\n",
              "      <td>4555</td>\n",
              "    </tr>\n",
              "    <tr>\n",
              "      <th>195</th>\n",
              "      <td>47.75</td>\n",
              "      <td>171549</td>\n",
              "      <td>121422</td>\n",
              "      <td>184434</td>\n",
              "      <td>183356</td>\n",
              "      <td>175195</td>\n",
              "      <td>200677</td>\n",
              "      <td>151753</td>\n",
              "      <td>167842</td>\n",
              "      <td>4148</td>\n",
              "      <td>...</td>\n",
              "      <td>119565</td>\n",
              "      <td>101086</td>\n",
              "      <td>4916</td>\n",
              "      <td>6154</td>\n",
              "      <td>6551</td>\n",
              "      <td>5163</td>\n",
              "      <td>5314</td>\n",
              "      <td>4646</td>\n",
              "      <td>4600</td>\n",
              "      <td>4646</td>\n",
              "    </tr>\n",
              "    <tr>\n",
              "      <th>196</th>\n",
              "      <td>48</td>\n",
              "      <td>169873</td>\n",
              "      <td>120478</td>\n",
              "      <td>183685</td>\n",
              "      <td>182313</td>\n",
              "      <td>174506</td>\n",
              "      <td>199192</td>\n",
              "      <td>151914</td>\n",
              "      <td>168110</td>\n",
              "      <td>4095</td>\n",
              "      <td>...</td>\n",
              "      <td>119798</td>\n",
              "      <td>100779</td>\n",
              "      <td>4944</td>\n",
              "      <td>6087</td>\n",
              "      <td>6452</td>\n",
              "      <td>5113</td>\n",
              "      <td>5240</td>\n",
              "      <td>4615</td>\n",
              "      <td>4545</td>\n",
              "      <td>4690</td>\n",
              "    </tr>\n",
              "  </tbody>\n",
              "</table>\n",
              "<p>197 rows × 385 columns</p>\n",
              "</div>\n",
              "      <button class=\"colab-df-convert\" onclick=\"convertToInteractive('df-6248374b-2637-460f-abdf-b712cebd6bb3')\"\n",
              "              title=\"Convert this dataframe to an interactive table.\"\n",
              "              style=\"display:none;\">\n",
              "        \n",
              "  <svg xmlns=\"http://www.w3.org/2000/svg\" height=\"24px\"viewBox=\"0 0 24 24\"\n",
              "       width=\"24px\">\n",
              "    <path d=\"M0 0h24v24H0V0z\" fill=\"none\"/>\n",
              "    <path d=\"M18.56 5.44l.94 2.06.94-2.06 2.06-.94-2.06-.94-.94-2.06-.94 2.06-2.06.94zm-11 1L8.5 8.5l.94-2.06 2.06-.94-2.06-.94L8.5 2.5l-.94 2.06-2.06.94zm10 10l.94 2.06.94-2.06 2.06-.94-2.06-.94-.94-2.06-.94 2.06-2.06.94z\"/><path d=\"M17.41 7.96l-1.37-1.37c-.4-.4-.92-.59-1.43-.59-.52 0-1.04.2-1.43.59L10.3 9.45l-7.72 7.72c-.78.78-.78 2.05 0 2.83L4 21.41c.39.39.9.59 1.41.59.51 0 1.02-.2 1.41-.59l7.78-7.78 2.81-2.81c.8-.78.8-2.07 0-2.86zM5.41 20L4 18.59l7.72-7.72 1.47 1.35L5.41 20z\"/>\n",
              "  </svg>\n",
              "      </button>\n",
              "      \n",
              "  <style>\n",
              "    .colab-df-container {\n",
              "      display:flex;\n",
              "      flex-wrap:wrap;\n",
              "      gap: 12px;\n",
              "    }\n",
              "\n",
              "    .colab-df-convert {\n",
              "      background-color: #E8F0FE;\n",
              "      border: none;\n",
              "      border-radius: 50%;\n",
              "      cursor: pointer;\n",
              "      display: none;\n",
              "      fill: #1967D2;\n",
              "      height: 32px;\n",
              "      padding: 0 0 0 0;\n",
              "      width: 32px;\n",
              "    }\n",
              "\n",
              "    .colab-df-convert:hover {\n",
              "      background-color: #E2EBFA;\n",
              "      box-shadow: 0px 1px 2px rgba(60, 64, 67, 0.3), 0px 1px 3px 1px rgba(60, 64, 67, 0.15);\n",
              "      fill: #174EA6;\n",
              "    }\n",
              "\n",
              "    [theme=dark] .colab-df-convert {\n",
              "      background-color: #3B4455;\n",
              "      fill: #D2E3FC;\n",
              "    }\n",
              "\n",
              "    [theme=dark] .colab-df-convert:hover {\n",
              "      background-color: #434B5C;\n",
              "      box-shadow: 0px 1px 3px 1px rgba(0, 0, 0, 0.15);\n",
              "      filter: drop-shadow(0px 1px 2px rgba(0, 0, 0, 0.3));\n",
              "      fill: #FFFFFF;\n",
              "    }\n",
              "  </style>\n",
              "\n",
              "      <script>\n",
              "        const buttonEl =\n",
              "          document.querySelector('#df-6248374b-2637-460f-abdf-b712cebd6bb3 button.colab-df-convert');\n",
              "        buttonEl.style.display =\n",
              "          google.colab.kernel.accessAllowed ? 'block' : 'none';\n",
              "\n",
              "        async function convertToInteractive(key) {\n",
              "          const element = document.querySelector('#df-6248374b-2637-460f-abdf-b712cebd6bb3');\n",
              "          const dataTable =\n",
              "            await google.colab.kernel.invokeFunction('convertToInteractive',\n",
              "                                                     [key], {});\n",
              "          if (!dataTable) return;\n",
              "\n",
              "          const docLinkHtml = 'Like what you see? Visit the ' +\n",
              "            '<a target=\"_blank\" href=https://colab.research.google.com/notebooks/data_table.ipynb>data table notebook</a>'\n",
              "            + ' to learn more about interactive tables.';\n",
              "          element.innerHTML = '';\n",
              "          dataTable['output_type'] = 'display_data';\n",
              "          await google.colab.output.renderOutput(dataTable, element);\n",
              "          const docLink = document.createElement('div');\n",
              "          docLink.innerHTML = docLinkHtml;\n",
              "          element.appendChild(docLink);\n",
              "        }\n",
              "      </script>\n",
              "    </div>\n",
              "  </div>\n",
              "  "
            ],
            "text/plain": [
              "          0                 1                 2                 3    \\\n",
              "0      Status               Pos               Pos               Pos   \n",
              "1      Sample              Obex              Obex              Obex   \n",
              "2         NaN  A|stuart_TRno307  A|stuart_TRno307  A|stuart_TRno307   \n",
              "3    Time [h]         Sample X1         Sample X2         Sample X3   \n",
              "4           0              7742              9358              6732   \n",
              "..        ...               ...               ...               ...   \n",
              "192        47            170446            120749            183005   \n",
              "193     47.25            169176            120477            182995   \n",
              "194      47.5            171596            121787            184918   \n",
              "195     47.75            171549            121422            184434   \n",
              "196        48            169873            120478            183685   \n",
              "\n",
              "                  4                 5                 6                 7    \\\n",
              "0                 Pos               Pos               Pos               Pos   \n",
              "1                Obex              Obex              Obex              Obex   \n",
              "2    A|stuart_TRno307  A|stuart_TRno307  A|stuart_TRno307  A|stuart_TRno307   \n",
              "3           Sample X4         Sample X5         Sample X6         Sample X7   \n",
              "4                9292              8693              9115              9361   \n",
              "..                ...               ...               ...               ...   \n",
              "192            182975            174435            198922            150724   \n",
              "193            184018            174819            199979            151514   \n",
              "194            184144            175485            200454            152026   \n",
              "195            183356            175195            200677            151753   \n",
              "196            182313            174506            199192            151914   \n",
              "\n",
              "                  8                 9    ...                375  \\\n",
              "0                 Pos               Neg  ...                Neg   \n",
              "1                Obex              Soil  ...               Soil   \n",
              "2    A|stuart_TRno307  B|stuart_TRno307  ...  AU|stuart_TRno307   \n",
              "3           Sample X8         Sample X9  ...        Sample X375   \n",
              "4                8328              6369  ...               5875   \n",
              "..                ...               ...  ...                ...   \n",
              "192            167252              4134  ...             119205   \n",
              "193            167945              4038  ...             118795   \n",
              "194            168858              4081  ...             118557   \n",
              "195            167842              4148  ...             119565   \n",
              "196            168110              4095  ...             119798   \n",
              "\n",
              "                   376                377                378  \\\n",
              "0                  Neg                Neg                Neg   \n",
              "1                 Soil               Obex               Obex   \n",
              "2    AU|stuart_TRno307  AV|stuart_TRno307  AV|stuart_TRno307   \n",
              "3          Sample X376        Sample X377        Sample X378   \n",
              "4                 5007               5404               7056   \n",
              "..                 ...                ...                ...   \n",
              "192             105580               4925               6023   \n",
              "193             105734               4905               6061   \n",
              "194             100716               4886               6049   \n",
              "195             101086               4916               6154   \n",
              "196             100779               4944               6087   \n",
              "\n",
              "                   379                380                381  \\\n",
              "0                  Neg                Neg                Neg   \n",
              "1                 Obex               Obex               Obex   \n",
              "2    AV|stuart_TRno307  AV|stuart_TRno307  AV|stuart_TRno307   \n",
              "3          Sample X379        Sample X380        Sample X381   \n",
              "4                 5499               6496               5866   \n",
              "..                 ...                ...                ...   \n",
              "192               6427               5190               5322   \n",
              "193               6360               5105               5272   \n",
              "194               6457               5165               5261   \n",
              "195               6551               5163               5314   \n",
              "196               6452               5113               5240   \n",
              "\n",
              "                   382                383                384  \n",
              "0                  Neg                Neg                Neg  \n",
              "1                 Obex               Obex               Obex  \n",
              "2    AV|stuart_TRno307  AV|stuart_TRno307  AV|stuart_TRno307  \n",
              "3          Sample X382        Sample X383        Sample X384  \n",
              "4                 5187               5098               4888  \n",
              "..                 ...                ...                ...  \n",
              "192               4562               4583               4565  \n",
              "193               4636               4582               4615  \n",
              "194               4596               4508               4555  \n",
              "195               4646               4600               4646  \n",
              "196               4615               4545               4690  \n",
              "\n",
              "[197 rows x 385 columns]"
            ]
          },
          "execution_count": 9,
          "metadata": {},
          "output_type": "execute_result"
        }
      ],
      "source": [
        "data[\"stuart_TRno307.CSV\"]  # interactive"
      ]
    },
    {
      "cell_type": "code",
      "execution_count": null,
      "metadata": {
        "colab": {
          "base_uri": "https://localhost:8080/"
        },
        "id": "L2N2uFb0c48p",
        "outputId": "2ccda668-43de-4e7f-f5b3-d6b04d7ade1a"
      },
      "outputs": [
        {
          "name": "stdout",
          "output_type": "stream",
          "text": [
            "Compiled_Data.csv: \t(197, 2080)\n",
            "stuart_TRno307.CSV: \t(197, 385)\n",
            "stuart_TRno309.CSV: \t(115, 385)\n",
            "stuart_TRno310.CSV: \t(197, 385)\n"
          ]
        }
      ],
      "source": [
        "for filename,df in data.items():\n",
        "    print(filename + \": \\t\", end='')\n",
        "    print(df.shape)"
      ]
    },
    {
      "cell_type": "markdown",
      "metadata": {
        "id": "saOpk6p3robO"
      },
      "source": [
        "## Padding with empty strings to consistent time range"
      ]
    },
    {
      "cell_type": "markdown",
      "metadata": {
        "id": "jJi7ql6n9Dv9"
      },
      "source": [
        "### Validate left column up to just before initial time value"
      ]
    },
    {
      "cell_type": "code",
      "execution_count": null,
      "metadata": {
        "id": "aeWbL1XDwyTO"
      },
      "outputs": [],
      "source": [
        "# VALIDATION: Left column equal up to just before initial time value\n",
        "for filename,df in data.items():\n",
        "    assert(np.all(np.array(df.iloc[:4,0].tolist()) == np.array(data[files[0]].iloc[:4,0].tolist())))"
      ]
    },
    {
      "cell_type": "markdown",
      "metadata": {
        "id": "4rwsO16w9H_e"
      },
      "source": [
        "### Enforce file starts at 0"
      ]
    },
    {
      "cell_type": "code",
      "execution_count": null,
      "metadata": {
        "colab": {
          "base_uri": "https://localhost:8080/"
        },
        "id": "jnGZ3Z0bzXzh",
        "outputId": "0025ad5d-0e80-4a21-8235-adf85ee3a7d9"
      },
      "outputs": [
        {
          "name": "stdout",
          "output_type": "stream",
          "text": [
            "Compiled_Data.csv: \n",
            "['Status', 'Sample', nan, 'Time [h]', '0']\n",
            "initial_time=0\n",
            "\n",
            "stuart_TRno307.CSV: \n",
            "['Status', 'Sample', nan, 'Time [h]', '0']\n",
            "initial_time=0\n",
            "\n",
            "stuart_TRno309.CSV: \n",
            "['Status', 'Sample', nan, 'Time [h]', '3.25']\n",
            "initial_time=3.25\n",
            "\n",
            "stuart_TRno310.CSV: \n",
            "['Status', 'Sample', nan, 'Time [h]', '0']\n",
            "initial_time=0\n",
            "\n"
          ]
        }
      ],
      "source": [
        "# Extract minimum time for each file\n",
        "initial_times = []\n",
        "for filename,df in data.items():\n",
        "    print(filename + \": \")\n",
        "    print(df.iloc[:5,0].tolist())\n",
        "    print(\"initial_time=%s\\n\" % (str(df.iloc[4,0])))\n",
        "    initial_times.append(float(df.iloc[4,0]))"
      ]
    },
    {
      "cell_type": "code",
      "execution_count": null,
      "metadata": {
        "colab": {
          "base_uri": "https://localhost:8080/"
        },
        "id": "hzWgp533015S",
        "outputId": "5d178521-76cc-4909-c3e6-fa5136a11a32"
      },
      "outputs": [
        {
          "name": "stdout",
          "output_type": "stream",
          "text": [
            "Padding with empty strings to time 0 in stuart_TRno309.CSV\n"
          ]
        }
      ],
      "source": [
        "# Enforce each file starts at 0\n",
        "files_to_correct = []\n",
        "for i, initial_time in enumerate(initial_times):\n",
        "    if initial_time != 0:\n",
        "        files_to_correct.append(i)\n",
        "\n",
        "def stringify(t):\n",
        "    if int(t) == float(t):\n",
        "        return str(int(t))\n",
        "    else:\n",
        "        return str(t)\n",
        "\n",
        "for i in files_to_correct:\n",
        "    filename = files[i]\n",
        "    print(\"Padding with empty strings to time 0 in %s\" % (filename,))\n",
        "    initial_time = initial_times[i]\n",
        "    df = data[filename]\n",
        "    # Compute times to fill in\n",
        "    times = [stringify(i) for i in np.arange(0,initial_time, TIME_INCREMENT)]\n",
        "    # Generate block of new rows to fill in\n",
        "    data_to_insert = np.full([len(times), df.shape[1]-1], '', dtype='<U16')\n",
        "    data_to_insert[:,0] = times\n",
        "    # Insert block of new rows\n",
        "    df = pd.concat([df.iloc[:4,:], pd.DataFrame(data_to_insert), df.iloc[4:,:]]).reset_index(drop=True)\n",
        "    data[filename] = df\n"
      ]
    },
    {
      "cell_type": "code",
      "execution_count": null,
      "metadata": {
        "id": "H8zZ_oIjyUAP"
      },
      "outputs": [],
      "source": [
        "lengths = []\n",
        "for filename in files:\n",
        "    lengths.append(len(data[filename]))"
      ]
    },
    {
      "cell_type": "code",
      "execution_count": null,
      "metadata": {
        "id": "Hba3Fobz9qAN"
      },
      "outputs": [],
      "source": [
        "min_length = min(lengths)"
      ]
    },
    {
      "cell_type": "code",
      "execution_count": null,
      "metadata": {
        "id": "Sh9naUKUxME_"
      },
      "outputs": [],
      "source": [
        "# VALIDATION: Left column equal up to minimum length\n",
        "for filename,df in data.items():\n",
        "    assert(np.all(np.array(df.iloc[:min_length,0].tolist()) == np.array(data[files[0]].iloc[:min_length,0].tolist())))"
      ]
    },
    {
      "cell_type": "markdown",
      "metadata": {
        "id": "CrlSo7Cu9OEm"
      },
      "source": [
        "### Enforce time goes to latest final time\n"
      ]
    },
    {
      "cell_type": "code",
      "execution_count": null,
      "metadata": {
        "colab": {
          "base_uri": "https://localhost:8080/"
        },
        "id": "c2bBSG-U-Kh1",
        "outputId": "870b9062-cb52-425a-92b6-47bda4429029"
      },
      "outputs": [
        {
          "name": "stdout",
          "output_type": "stream",
          "text": [
            "Compiled_Data.csv: \n",
            "...['47.25', '47.5', '47.75', '48']\n",
            "final_time=48\n",
            "\n",
            "stuart_TRno307.CSV: \n",
            "...['47.25', '47.5', '47.75', '48']\n",
            "final_time=48\n",
            "\n",
            "stuart_TRno309.CSV: \n",
            "...['30', '30.25', '30.5', '30.75']\n",
            "final_time=30.75\n",
            "\n",
            "stuart_TRno310.CSV: \n",
            "...['47.25', '47.5', '47.75', '48']\n",
            "final_time=48\n",
            "\n"
          ]
        }
      ],
      "source": [
        "# Extract max time for each file\n",
        "final_times = []\n",
        "for i in range(len(files)):\n",
        "    filename = files[i]\n",
        "    df = data[filename]\n",
        "\n",
        "    print(filename + \": \\n...\", end=\"\")\n",
        "    print(df.iloc[len(df)-4:len(df),0].tolist())\n",
        "    print(\"final_time=%s\\n\" % (str(df.iloc[len(df)-1,0])))\n",
        "    final_times.append(float(df.iloc[len(df)-1,0]))"
      ]
    },
    {
      "cell_type": "code",
      "execution_count": null,
      "metadata": {
        "id": "DsvJ1NJL_BuA"
      },
      "outputs": [],
      "source": [
        "# Determine latest final time\n",
        "latest_time = max(final_times)"
      ]
    },
    {
      "cell_type": "code",
      "execution_count": null,
      "metadata": {
        "colab": {
          "base_uri": "https://localhost:8080/"
        },
        "id": "W6nnYDpq98ua",
        "outputId": "1d6d247b-0e1b-48eb-f7dc-14f003c951b8"
      },
      "outputs": [
        {
          "name": "stdout",
          "output_type": "stream",
          "text": [
            "Padding with empty strings to 48.0 hours in stuart_TRno309.CSV\n"
          ]
        }
      ],
      "source": [
        "# Enforce each file goes to final time\n",
        "files_to_correct = []\n",
        "for i, final_time in enumerate(final_times):\n",
        "    if final_time != latest_time:\n",
        "        files_to_correct.append(i)\n",
        "\n",
        "def stringify(t):\n",
        "    if int(t) == float(t):\n",
        "        return str(int(t))\n",
        "    else:\n",
        "        return str(t)\n",
        "\n",
        "for i in files_to_correct:\n",
        "    filename = files[i]\n",
        "    print(\"Padding with empty strings to %s hours in %s\" % (str(latest_time), filename))\n",
        "    final_time = final_times[i]\n",
        "    df = data[filename]\n",
        "    # Compute times to fill in\n",
        "    times = [stringify(i) for i in np.arange(final_time + TIME_INCREMENT, latest_time + TIME_INCREMENT, TIME_INCREMENT)]\n",
        "    # Generate block of new rows to fill in\n",
        "    data_to_insert = np.full([len(times), df.shape[1]-1], '', dtype='<U16')\n",
        "    data_to_insert[:,0] = times\n",
        "    # Insert block of new rows\n",
        "    df = pd.concat([df.iloc[:len(df),:], pd.DataFrame(data_to_insert)]).reset_index(drop=True)\n",
        "    data[filename] = df"
      ]
    },
    {
      "cell_type": "code",
      "execution_count": null,
      "metadata": {
        "id": "K6MDiI2LAf-G"
      },
      "outputs": [],
      "source": [
        "#data[\"stuart_TRno309.CSV\"].to_csv(\"309_corrected.csv\", index=False)"
      ]
    },
    {
      "cell_type": "markdown",
      "metadata": {
        "id": "Ob-zbiLXB35e"
      },
      "source": [
        "### Validate left columns all equal"
      ]
    },
    {
      "cell_type": "code",
      "execution_count": null,
      "metadata": {
        "id": "Vo9ACglVBCZv"
      },
      "outputs": [],
      "source": [
        "# FINAL VALIDATION: Left column equal for all files\n",
        "for filename,df in data.items():\n",
        "    assert(np.all(np.array(df.iloc[:,0].tolist()) == np.array(data[files[0]].iloc[:,0].tolist())))"
      ]
    },
    {
      "cell_type": "markdown",
      "metadata": {
        "id": "Ut81fziLB9av"
      },
      "source": [
        "## Combine files"
      ]
    },
    {
      "cell_type": "code",
      "execution_count": null,
      "metadata": {
        "colab": {
          "base_uri": "https://localhost:8080/"
        },
        "id": "a80-K3AUDmug",
        "outputId": "d446ba04-0464-468b-ee20-688dbc391983"
      },
      "outputs": [
        {
          "name": "stdout",
          "output_type": "stream",
          "text": [
            "Compiled_Data.csv: \t(197, 2080)\n",
            "stuart_TRno307.CSV: \t(197, 385)\n",
            "stuart_TRno309.CSV: \t(197, 385)\n",
            "stuart_TRno310.CSV: \t(197, 385)\n"
          ]
        }
      ],
      "source": [
        "for filename,df in data.items():\n",
        "    print(filename + \": \\t\", end='')\n",
        "    print(df.shape)"
      ]
    },
    {
      "cell_type": "code",
      "execution_count": null,
      "metadata": {
        "id": "2f-aP9mTB_2v"
      },
      "outputs": [],
      "source": [
        "dfs_to_combine = []\n",
        "for filename,df in data.items():\n",
        "    if filename == files[0]:\n",
        "        dfs_to_combine.append(df)\n",
        "    else:\n",
        "        dfs_to_combine.append(df.iloc[:, 1:])  # Remove first column from subsequent dfs when combining\n",
        "\n",
        "combined_data = pd.concat(dfs_to_combine, axis=1, ignore_index=True).reset_index(drop=True)"
      ]
    },
    {
      "cell_type": "code",
      "execution_count": null,
      "metadata": {
        "colab": {
          "base_uri": "https://localhost:8080/"
        },
        "id": "kI_f5ikuDv8-",
        "outputId": "b990402b-f583-4e24-da5b-8a73372b49aa"
      },
      "outputs": [
        {
          "name": "stdout",
          "output_type": "stream",
          "text": [
            "Shape of combined data: (197, 3232)\n"
          ]
        }
      ],
      "source": [
        "print(\"Shape of combined data: \", end=\"\")\n",
        "print(combined_data.shape)"
      ]
    },
    {
      "cell_type": "code",
      "execution_count": null,
      "metadata": {
        "id": "eftvxQ0FFVVR"
      },
      "outputs": [],
      "source": [
        "#combined_data.to_csv(\"combined_data.csv\", index=False)"
      ]
    },
    {
      "cell_type": "markdown",
      "metadata": {
        "id": "fgkvddvIrwp3"
      },
      "source": [
        "## Processing"
      ]
    },
    {
      "cell_type": "code",
      "execution_count": null,
      "metadata": {
        "id": "V4DtOO10c6-6"
      },
      "outputs": [],
      "source": [
        "nrows, ncols = combined_data.shape\n"
      ]
    },
    {
      "cell_type": "code",
      "execution_count": null,
      "metadata": {
        "id": "ibNqLX4WdEeG"
      },
      "outputs": [],
      "source": [
        "# Collect timepoints from first column\n",
        "timepoints_h = combined_data.iloc[4:, 0].astype(float).tolist()\n"
      ]
    },
    {
      "cell_type": "code",
      "execution_count": null,
      "metadata": {
        "colab": {
          "base_uri": "https://localhost:8080/"
        },
        "id": "K8GPYU9PdPR4",
        "outputId": "b31484a2-fcf2-4584-c8b0-09d6ce60cb81"
      },
      "outputs": [
        {
          "data": {
            "text/plain": [
              "['Pos',\n",
              " 'Obex',\n",
              " 'A|Compiled_Data',\n",
              " 'Sample X1',\n",
              " '26094',\n",
              " '9188',\n",
              " '7988',\n",
              " '7897',\n",
              " '7642',\n",
              " '7609']"
            ]
          },
          "execution_count": 28,
          "metadata": {},
          "output_type": "execute_result"
        }
      ],
      "source": [
        "combined_data.iloc[:, 1].tolist()[:10]"
      ]
    },
    {
      "cell_type": "code",
      "execution_count": null,
      "metadata": {
        "id": "4YfQcf0ZdMet"
      },
      "outputs": [],
      "source": [
        "# Pull data instances from each column\n",
        "X = []\n",
        "y = []\n",
        "sample = []\n",
        "sample_id = []\n",
        "well_name = []\n",
        "col_idx = []\n",
        "\n",
        "for j in range(1, ncols):\n",
        "    # Parse out column\n",
        "    column = combined_data.iloc[:, j].tolist()\n",
        "    # Extract label\n",
        "    if column[0] == 'Pos':\n",
        "        y.append(1)\n",
        "    elif column[0] == 'Neg':\n",
        "        y.append(0)\n",
        "    else:\n",
        "        raise ValueError(\"Label was not 'Pos' or 'Neg'\")\n",
        "    # Extract sample note\n",
        "    sample.append(column[1])\n",
        "    # Extract sample identifier\n",
        "    sample_id.append(column[2])\n",
        "    # Extract well name\n",
        "    well_name.append(column[3])\n",
        "    # Extract RT-QuIC curve\n",
        "    curve = column[4:]\n",
        "    curve = list(pd.to_numeric(curve, errors='coerce'))\n",
        "    X.append(curve)\n",
        "    # Extract column index\n",
        "    col_idx.append(j)\n",
        "\n",
        "# Convert data to numpy\n",
        "X = np.array(X)\n",
        "y = np.array(y)\n"
      ]
    },
    {
      "cell_type": "code",
      "execution_count": null,
      "metadata": {
        "colab": {
          "base_uri": "https://localhost:8080/"
        },
        "id": "bGMb-690dkja",
        "outputId": "592f42bd-55ce-4ce5-99c1-ae15d4f78d2b"
      },
      "outputs": [
        {
          "data": {
            "text/plain": [
              "(3231, 193)"
            ]
          },
          "execution_count": 30,
          "metadata": {},
          "output_type": "execute_result"
        }
      ],
      "source": [
        "X.shape  # interactive"
      ]
    },
    {
      "cell_type": "code",
      "execution_count": null,
      "metadata": {
        "colab": {
          "base_uri": "https://localhost:8080/"
        },
        "id": "2AugFRRteBRK",
        "outputId": "4f516ec5-2aa7-448d-ec7c-af80d22857c5"
      },
      "outputs": [
        {
          "data": {
            "text/plain": [
              "3231"
            ]
          },
          "execution_count": 31,
          "metadata": {},
          "output_type": "execute_result"
        }
      ],
      "source": [
        "len(y)  # interactive"
      ]
    },
    {
      "cell_type": "code",
      "execution_count": null,
      "metadata": {
        "colab": {
          "base_uri": "https://localhost:8080/"
        },
        "id": "B5_knFJ9eCq6",
        "outputId": "ddf74152-267f-45db-c842-703a17c57d2a"
      },
      "outputs": [
        {
          "data": {
            "text/plain": [
              "0.26245744351593936"
            ]
          },
          "execution_count": 32,
          "metadata": {},
          "output_type": "execute_result"
        }
      ],
      "source": [
        "np.mean(y)  # interactive"
      ]
    },
    {
      "cell_type": "code",
      "execution_count": null,
      "metadata": {
        "colab": {
          "base_uri": "https://localhost:8080/"
        },
        "id": "4ePLC1vmeF-e",
        "outputId": "4d13f990-9413-4463-d1f0-1a3d2a4abc09"
      },
      "outputs": [
        {
          "data": {
            "text/plain": [
              "array([  nan,   nan,   nan,   nan,   nan,   nan,   nan,   nan,   nan,\n",
              "         nan,   nan,   nan,   nan, 3898., 3808., 3758., 3757., 3882.,\n",
              "       3878., 3830., 3847., 3799., 3832., 3751., 3861., 3923., 3809.,\n",
              "       3891., 3868., 3857., 3925., 3861., 3861., 3893., 3922., 3903.,\n",
              "       3969., 3933., 3942., 3967., 3801., 3966., 3953., 3992., 3895.,\n",
              "       3946., 3926., 3929., 4012., 3918., 3932., 3820., 3914., 3919.,\n",
              "       3867., 3918., 3928., 3903., 3961., 3878., 3960., 3933., 3902.,\n",
              "       3912., 4031., 3935., 3880., 3948., 3983., 3970., 3962., 3898.,\n",
              "       3884., 3842., 3890., 3856., 3887., 3955., 3974., 3846., 3883.,\n",
              "       3939., 3879., 3924., 3887., 3947., 3913., 3884., 3954., 3869.,\n",
              "       3941., 3887., 3896., 3892., 3951., 3967., 3893., 3867., 3898.,\n",
              "       3814., 3862., 3896., 3931., 3917., 3926., 3939., 3962., 3897.,\n",
              "       3995., 3936., 4042., 3996., 3911., 3917., 4024., 3950., 4094.,\n",
              "       3956., 4068., 4077., 4029., 4030., 4058., 4012.,   nan,   nan,\n",
              "         nan,   nan,   nan,   nan,   nan,   nan,   nan,   nan,   nan,\n",
              "         nan,   nan,   nan,   nan,   nan,   nan,   nan,   nan,   nan,\n",
              "         nan,   nan,   nan,   nan,   nan,   nan,   nan,   nan,   nan,\n",
              "         nan,   nan,   nan,   nan,   nan,   nan,   nan,   nan,   nan,\n",
              "         nan,   nan,   nan,   nan,   nan,   nan,   nan,   nan,   nan,\n",
              "         nan,   nan,   nan,   nan,   nan,   nan,   nan,   nan,   nan,\n",
              "         nan,   nan,   nan,   nan,   nan,   nan,   nan,   nan,   nan,\n",
              "         nan,   nan,   nan,   nan])"
            ]
          },
          "execution_count": 33,
          "metadata": {},
          "output_type": "execute_result"
        }
      ],
      "source": [
        "X[2500]  # interactive"
      ]
    },
    {
      "cell_type": "code",
      "execution_count": null,
      "metadata": {
        "colab": {
          "base_uri": "https://localhost:8080/"
        },
        "id": "8Xn4fnLeeJ32",
        "outputId": "5fe1df8c-cfc4-4405-b293-233719a5d165"
      },
      "outputs": [
        {
          "data": {
            "text/plain": [
              "1"
            ]
          },
          "execution_count": 34,
          "metadata": {},
          "output_type": "execute_result"
        }
      ],
      "source": [
        "y[2500]  # interactive"
      ]
    },
    {
      "cell_type": "markdown",
      "metadata": {
        "id": "Xp4YHVnxeRxP"
      },
      "source": [
        "## Visualize data"
      ]
    },
    {
      "cell_type": "code",
      "execution_count": null,
      "metadata": {
        "id": "IvPVF_sAeVM9"
      },
      "outputs": [],
      "source": [
        "def view_curve(curve, timepoints_h, y=None, sample=None, well_name=None, pred=None, save=False):\n",
        "    plt.clf()\n",
        "    plt.plot(timepoints_h, curve)\n",
        "    plt.xlabel(\"Time [h]\")\n",
        "    plt.ylabel(\"Fluorescence\")\n",
        "\n",
        "    title = 'RT-QuIC'\n",
        "    if sample is not None:\n",
        "        title += ' from %s sample' % (sample,)\n",
        "    if y is not None:\n",
        "        title += ' (label: %i)' % (y,)\n",
        "    # if well_name is not None:\n",
        "    #     title += ' (well: %s)' % (well_name,)\n",
        "    if pred is not None:\n",
        "        title += ' (pred: %.2f)' % (pred,)\n",
        "\n",
        "    plt.title(title)\n",
        "    if save:\n",
        "        filename = ''.join(random.choices(string.ascii_uppercase + string.digits, k=6))\n",
        "        plt.savefig(filename + \".png\", bbox_inches='tight', dpi=400)\n"
      ]
    },
    {
      "cell_type": "code",
      "execution_count": null,
      "metadata": {
        "colab": {
          "base_uri": "https://localhost:8080/",
          "height": 295
        },
        "id": "LvSN2rHgeqrG",
        "outputId": "821a04ae-7989-4cbe-e521-b4d5124ed61e"
      },
      "outputs": [
        {
          "data": {
            "image/png": "[encoded data removed]",
            "text/plain": [
              "<Figure size 432x288 with 1 Axes>"
            ]
          },
          "metadata": {
            "needs_background": "light"
          },
          "output_type": "display_data"
        }
      ],
      "source": [
        "idx = 0\n",
        "view_curve(X[idx], timepoints_h, y[idx], sample[idx])"
      ]
    },
    {
      "cell_type": "markdown",
      "metadata": {
        "id": "aYFV2B_oevpg"
      },
      "source": [
        "## Group columns by sample"
      ]
    },
    {
      "cell_type": "code",
      "execution_count": null,
      "metadata": {
        "id": "AP1WTS70wEeH"
      },
      "outputs": [],
      "source": [
        "assert(len(X) == len(y))\n",
        "assert(len(y) == len(sample))\n",
        "assert(len(sample) == len(sample_id))\n",
        "assert(len(sample_id) == len(well_name))\n",
        "assert(len(well_name) == len(col_idx))\n"
      ]
    },
    {
      "cell_type": "code",
      "execution_count": null,
      "metadata": {
        "id": "Bs4cYU6ZwaPx"
      },
      "outputs": [],
      "source": [
        "# Pass 1: create samples dictionary\n",
        "samples = {}\n",
        "\n",
        "for i in range(len(y)):\n",
        "    key = sample_id[i]\n",
        "    if key not in samples:\n",
        "        samples[key] = {}\n",
        "        samples[key]['X'] = []\n",
        "        samples[key]['y_list'] = []\n",
        "        samples[key]['sample_list'] = []\n",
        "        samples[key]['well_name_list'] = []\n",
        "        samples[key]['col_idx_list'] = []\n",
        "    \n",
        "    samples[key]['X'].append(X[i].copy())\n",
        "    samples[key]['y_list'].append(y[i].copy())\n",
        "    samples[key]['sample_list'].append(sample[i])\n",
        "    samples[key]['well_name_list'].append(well_name[i])\n",
        "    samples[key]['col_idx_list'].append(col_idx[i])\n"
      ]
    },
    {
      "cell_type": "code",
      "execution_count": null,
      "metadata": {
        "colab": {
          "base_uri": "https://localhost:8080/"
        },
        "id": "wbwwTZzAxdTS",
        "outputId": "b164114d-93d9-4e15-c6f6-9dd71ac12ab8"
      },
      "outputs": [
        {
          "name": "stdout",
          "output_type": "stream",
          "text": [
            "[1, 1, 1, 1, 1, 1, 1, 1, 0, 0, 0, 0, 0, 0, 0]\n",
            "['Obex' 'Obex' 'Obex' 'Obex' 'Obex' 'Obex' 'Obex' 'Obex' 'Soil' 'Soil'\n",
            " 'Soil' 'Soil' 'Soil' 'Soil' 'Soil']\n",
            "Deleted 1 sample(s) due to label inconsistency\n"
          ]
        }
      ],
      "source": [
        "# Pass 2: integrity check on samples\n",
        "keys_to_delete = set()\n",
        "\n",
        "for key,val in samples.items():\n",
        "    # Extract data for sample\n",
        "    X_sample = samples[key]['X']\n",
        "    y_list = samples[key]['y_list']\n",
        "    sample_list = samples[key]['sample_list']\n",
        "    well_name_list = samples[key]['well_name_list']\n",
        "    col_idx_list = samples[key]['col_idx_list']\n",
        "\n",
        "    # Integrity check - all lists need to be the same length\n",
        "    assert(len(X_sample) == len(y_list))\n",
        "    assert(len(y_list) == len(sample_list))\n",
        "    assert(len(sample_list) == len(well_name_list))\n",
        "    assert(len(well_name_list) == len(col_idx_list))\n",
        "\n",
        "    # Add count\n",
        "    samples[key]['well_count'] = len(y_list)\n",
        "\n",
        "    # Check all labels are the same\n",
        "    if sum(y_list)!=0 and sum(y_list)!=len(y_list):\n",
        "        print(y_list)\n",
        "        keys_to_delete.add(key)\n",
        "    else:\n",
        "        samples[key]['y'] = y_list[0]\n",
        "    \n",
        "    # Convert grouped sample data to array\n",
        "    samples[key]['X'] = np.array(X_sample)\n",
        "\n",
        "    # Check if all samples are the same\n",
        "    sample_list = np.array(sample_list)\n",
        "    if not np.all(sample_list == sample_list[0]):\n",
        "        print(sample_list)\n",
        "        keys_to_delete.add(key)\n",
        "    else:\n",
        "        samples[key]['sample'] = sample_list[0]\n",
        "\n",
        "# Delete samples that failed integrity check\n",
        "for key in keys_to_delete:\n",
        "    samples.pop(key)\n",
        "\n",
        "print(\"Deleted %i sample(s) due to label inconsistency\" % (len(keys_to_delete),))\n"
      ]
    },
    {
      "cell_type": "code",
      "execution_count": null,
      "metadata": {
        "colab": {
          "base_uri": "https://localhost:8080/",
          "height": 279
        },
        "id": "gcHCTfs62y2G",
        "outputId": "a445d162-856f-46f2-f04a-be4e912288e1"
      },
      "outputs": [
        {
          "data": {
            "image/png": "[encoded data removed]",
            "text/plain": [
              "<Figure size 432x288 with 1 Axes>"
            ]
          },
          "metadata": {
            "needs_background": "light"
          },
          "output_type": "display_data"
        }
      ],
      "source": [
        "# Summarize data\n",
        "replicate_sizes = []\n",
        "labels = []\n",
        "\n",
        "for key,val in samples.items():\n",
        "    replicate_sizes.append(val['well_count'])\n",
        "    labels.append(val['y'])\n",
        "\n",
        "# Show sample sizes\n",
        "replicate_sizes = np.array(replicate_sizes)\n",
        "\n",
        "plt.hist(replicate_sizes, bins=np.arange(1,10,1)-0.5)\n",
        "plt.ylabel('Count')\n",
        "plt.xlabel('Replicates per sample');\n",
        "plt.show()"
      ]
    },
    {
      "cell_type": "code",
      "execution_count": null,
      "metadata": {
        "colab": {
          "base_uri": "https://localhost:8080/"
        },
        "id": "SdurZJXh31t6",
        "outputId": "a57ac520-c1a6-49cc-dfa0-87dad090053b"
      },
      "outputs": [
        {
          "data": {
            "text/plain": [
              "402"
            ]
          },
          "execution_count": 41,
          "metadata": {},
          "output_type": "execute_result"
        }
      ],
      "source": [
        "len(labels)"
      ]
    },
    {
      "cell_type": "code",
      "execution_count": null,
      "metadata": {
        "id": "t5lvRUjf5Yhk"
      },
      "outputs": [],
      "source": [
        "# Get grouped data - only take samples consisting of 8 replicates\n",
        "X_grouped = []\n",
        "y_grouped = []\n",
        "sample_type = []\n",
        "keys = []\n",
        "\n",
        "for key,val in samples.items():\n",
        "    x = val['X']\n",
        "    replicate_size = val['well_count']\n",
        "    if replicate_size == 8:\n",
        "        X_grouped.append(x)\n",
        "        y_grouped.append(val['y'])\n",
        "        sample_type.append(val['sample'])\n",
        "        keys.append(key)\n",
        "    else:\n",
        "        print(\"only %i replicates in %s\" % (replicate_size, key))\n",
        "\n",
        "X_grouped = np.array(X_grouped)\n",
        "y_grouped = np.array(y_grouped)\n",
        "sample_type = np.array(sample_type)\n",
        "keys = np.array(keys)\n"
      ]
    },
    {
      "cell_type": "code",
      "execution_count": null,
      "metadata": {
        "colab": {
          "base_uri": "https://localhost:8080/"
        },
        "id": "gODVRu-h58-v",
        "outputId": "15f733f1-be08-499d-85e9-ce5cafbdf58f"
      },
      "outputs": [
        {
          "data": {
            "text/plain": [
              "(402, 8, 193)"
            ]
          },
          "execution_count": 43,
          "metadata": {},
          "output_type": "execute_result"
        }
      ],
      "source": [
        "X_grouped.shape"
      ]
    },
    {
      "cell_type": "markdown",
      "metadata": {
        "id": "JX6jAWw99BYT"
      },
      "source": [
        "## Pad wells with fluorescence values (remove nans)"
      ]
    },
    {
      "cell_type": "markdown",
      "metadata": {
        "id": "4yUDGPc8U7A6"
      },
      "source": [
        "### Padding toy example"
      ]
    },
    {
      "cell_type": "code",
      "execution_count": null,
      "metadata": {
        "id": "jhhTWsGtRbsa"
      },
      "outputs": [],
      "source": [
        "x = [np.nan]*3 + [1,2,3,4] + [np.nan]*5"
      ]
    },
    {
      "cell_type": "code",
      "execution_count": null,
      "metadata": {
        "colab": {
          "base_uri": "https://localhost:8080/"
        },
        "id": "VvZhwXg-SR-f",
        "outputId": "7d9c0722-e795-4f2a-fbe6-65d3f25f51a0"
      },
      "outputs": [
        {
          "data": {
            "text/plain": [
              "[nan, nan, nan, 1, 2, 3, 4, nan, nan, nan, nan, nan]"
            ]
          },
          "execution_count": 45,
          "metadata": {},
          "output_type": "execute_result"
        }
      ],
      "source": [
        "x"
      ]
    },
    {
      "cell_type": "code",
      "execution_count": null,
      "metadata": {
        "id": "Gp1trZtQSnao"
      },
      "outputs": [],
      "source": [
        "# Find first nonnan index\n",
        "first_valid_index = np.where(np.isfinite(x) == True)[0][0]"
      ]
    },
    {
      "cell_type": "code",
      "execution_count": null,
      "metadata": {
        "colab": {
          "base_uri": "https://localhost:8080/"
        },
        "id": "0VRaOQRqSrj4",
        "outputId": "a1a46826-8b9f-41dc-80b2-5b766ad73bc6"
      },
      "outputs": [
        {
          "data": {
            "text/plain": [
              "3"
            ]
          },
          "execution_count": 47,
          "metadata": {},
          "output_type": "execute_result"
        }
      ],
      "source": [
        "first_valid_index"
      ]
    },
    {
      "cell_type": "code",
      "execution_count": null,
      "metadata": {
        "id": "1GzZuqcMTuoY"
      },
      "outputs": [],
      "source": [
        "# Find last nonnan index\n",
        "last_valid_index = (~np.isnan(x)).cumsum(0).argmax(0)"
      ]
    },
    {
      "cell_type": "code",
      "execution_count": null,
      "metadata": {
        "colab": {
          "base_uri": "https://localhost:8080/"
        },
        "id": "AQBxrB1yTvQQ",
        "outputId": "c869738f-a867-446e-8903-d20c0af372e3"
      },
      "outputs": [
        {
          "data": {
            "text/plain": [
              "6"
            ]
          },
          "execution_count": 49,
          "metadata": {},
          "output_type": "execute_result"
        }
      ],
      "source": [
        "last_valid_index"
      ]
    },
    {
      "cell_type": "code",
      "execution_count": null,
      "metadata": {
        "id": "_gMx_NGhT4_5"
      },
      "outputs": [],
      "source": [
        "# Num starting nans\n",
        "starting_nans = first_valid_index"
      ]
    },
    {
      "cell_type": "code",
      "execution_count": null,
      "metadata": {
        "id": "b-gFSUbUULHB"
      },
      "outputs": [],
      "source": [
        "# Num ending nans\n",
        "ending_nans = len(x) - last_valid_index - 1"
      ]
    },
    {
      "cell_type": "code",
      "execution_count": null,
      "metadata": {
        "colab": {
          "base_uri": "https://localhost:8080/"
        },
        "id": "c1KqwUIJUTz6",
        "outputId": "b785e02a-b819-4097-d076-4e5fc054746e"
      },
      "outputs": [
        {
          "data": {
            "text/plain": [
              "5"
            ]
          },
          "execution_count": 52,
          "metadata": {},
          "output_type": "execute_result"
        }
      ],
      "source": [
        "ending_nans"
      ]
    },
    {
      "cell_type": "code",
      "execution_count": null,
      "metadata": {
        "id": "GtmyZ30DT0Mh"
      },
      "outputs": [],
      "source": [
        "# Truncate to valid indices\n",
        "x = x[first_valid_index:last_valid_index+1]"
      ]
    },
    {
      "cell_type": "code",
      "execution_count": null,
      "metadata": {
        "colab": {
          "base_uri": "https://localhost:8080/"
        },
        "id": "FhaJfC5KUnow",
        "outputId": "91c6c03d-148a-419a-8ba2-fadbd39038d8"
      },
      "outputs": [
        {
          "data": {
            "text/plain": [
              "[1, 2, 3, 4]"
            ]
          },
          "execution_count": 54,
          "metadata": {},
          "output_type": "execute_result"
        }
      ],
      "source": [
        "x"
      ]
    },
    {
      "cell_type": "code",
      "execution_count": null,
      "metadata": {
        "id": "-kTugIClUpu5"
      },
      "outputs": [],
      "source": [
        "# Pad with edge values\n",
        "x = np.pad(x, (starting_nans, ending_nans), 'edge')"
      ]
    },
    {
      "cell_type": "code",
      "execution_count": null,
      "metadata": {
        "colab": {
          "base_uri": "https://localhost:8080/"
        },
        "id": "98nfUCBtUy1J",
        "outputId": "fdaed345-4354-4e5f-bdcc-b733b2a9fde1"
      },
      "outputs": [
        {
          "data": {
            "text/plain": [
              "array([1, 1, 1, 1, 2, 3, 4, 4, 4, 4, 4, 4])"
            ]
          },
          "execution_count": 55,
          "metadata": {},
          "output_type": "execute_result"
        }
      ],
      "source": [
        "x"
      ]
    },
    {
      "cell_type": "markdown",
      "metadata": {
        "id": "LW8yQFw_U9gx"
      },
      "source": [
        "### Real code"
      ]
    },
    {
      "cell_type": "code",
      "execution_count": null,
      "metadata": {
        "id": "rBATd9gh9CkM"
      },
      "outputs": [],
      "source": [
        "# Pad ends\n",
        "for i in range(X_grouped.shape[0]):\n",
        "    # Pull item\n",
        "    x_group = X_grouped[i].copy()\n",
        "    for j in range(x_group.shape[0]):\n",
        "        x = x_group[j].copy()\n",
        "        # Find first nonnan index\n",
        "        first_valid_index = np.where(np.isfinite(x) == True)[0][0]\n",
        "        # Find last nonnan index\n",
        "        last_valid_index = (~np.isnan(x)).cumsum(0).argmax(0)\n",
        "        # Num starting nans\n",
        "        starting_nans = first_valid_index\n",
        "        # Num ending nans\n",
        "        ending_nans = len(x) - last_valid_index - 1\n",
        "        # Truncate to valid indices\n",
        "        x = x[first_valid_index:last_valid_index+1]\n",
        "        # Pad if needed with last value\n",
        "        if len(x) < len(timepoints_h):\n",
        "            X_grouped[i][j] = np.pad(x, (starting_nans, ending_nans), 'edge')\n",
        "        # Enforce correct length\n",
        "        assert(len(X_grouped[i][j]) == len(timepoints_h))\n"
      ]
    },
    {
      "cell_type": "code",
      "execution_count": null,
      "metadata": {
        "id": "4e2-qd4dViJ0"
      },
      "outputs": [],
      "source": [
        "# Check for nans\n",
        "assert(not np.any(np.isnan(X_grouped)))"
      ]
    },
    {
      "cell_type": "markdown",
      "metadata": {
        "id": "pByVEsBJPMhH"
      },
      "source": [
        "# One-split approach"
      ]
    },
    {
      "cell_type": "markdown",
      "metadata": {
        "id": "M3rhUnmV7NKw"
      },
      "source": [
        "## Split data"
      ]
    },
    {
      "cell_type": "code",
      "execution_count": null,
      "metadata": {
        "id": "qQPzTqKOWQae"
      },
      "outputs": [],
      "source": [
        "X_grouped = np.swapaxes(X_grouped,1,2)"
      ]
    },
    {
      "cell_type": "code",
      "execution_count": null,
      "metadata": {
        "id": "dkVXTF0Z7Oo0"
      },
      "outputs": [],
      "source": [
        "X_train, X_test, y_train, y_test, sample_train, sample_test, keys_train, keys_test = train_test_split(X_grouped, y_grouped, sample_type, keys, test_size=0.25, stratify=y_grouped, random_state=42)\n"
      ]
    },
    {
      "cell_type": "code",
      "execution_count": null,
      "metadata": {
        "colab": {
          "base_uri": "https://localhost:8080/"
        },
        "id": "udA4j09N0xEM",
        "outputId": "8e8b7a86-cf13-49de-a2c1-d0e705fb6ac3"
      },
      "outputs": [
        {
          "data": {
            "text/plain": [
              "0.26245847176079734"
            ]
          },
          "execution_count": 60,
          "metadata": {},
          "output_type": "execute_result"
        }
      ],
      "source": [
        "np.mean(y_train)"
      ]
    },
    {
      "cell_type": "code",
      "execution_count": null,
      "metadata": {
        "colab": {
          "base_uri": "https://localhost:8080/"
        },
        "id": "pbhlXo_b0z_-",
        "outputId": "d8e9d5b2-3950-4ae7-a4ff-d723f084e48b"
      },
      "outputs": [
        {
          "data": {
            "text/plain": [
              "0.25742574257425743"
            ]
          },
          "execution_count": 61,
          "metadata": {},
          "output_type": "execute_result"
        }
      ],
      "source": [
        "np.mean(y_test)"
      ]
    },
    {
      "cell_type": "code",
      "execution_count": null,
      "metadata": {
        "colab": {
          "base_uri": "https://localhost:8080/"
        },
        "id": "XZR3QQ1Y02Vf",
        "outputId": "fab6a907-236d-43e3-a98a-a55fcff53c10"
      },
      "outputs": [
        {
          "data": {
            "text/plain": [
              "101"
            ]
          },
          "execution_count": 62,
          "metadata": {},
          "output_type": "execute_result"
        }
      ],
      "source": [
        "len(y_test)"
      ]
    },
    {
      "cell_type": "markdown",
      "metadata": {
        "id": "Vo1Yzjgx9kwC"
      },
      "source": [
        "## Train model"
      ]
    },
    {
      "cell_type": "code",
      "execution_count": null,
      "metadata": {
        "colab": {
          "base_uri": "https://localhost:8080/"
        },
        "id": "o_XKwVXA8-V2",
        "outputId": "edcaa034-d904-4787-c5be-58b9096d3aa2"
      },
      "outputs": [
        {
          "name": "stdout",
          "output_type": "stream",
          "text": [
            "Model: \"model\"\n",
            "_________________________________________________________________\n",
            " Layer (type)                Output Shape              Param #   \n",
            "=================================================================\n",
            " input_1 (InputLayer)        [(None, 193, 8)]          0         \n",
            "                                                                 \n",
            " conv1d (Conv1D)             (None, 193, 64)           1600      \n",
            "                                                                 \n",
            " batch_normalization (BatchN  (None, 193, 64)          256       \n",
            " ormalization)                                                   \n",
            "                                                                 \n",
            " re_lu (ReLU)                (None, 193, 64)           0         \n",
            "                                                                 \n",
            " conv1d_1 (Conv1D)           (None, 193, 64)           12352     \n",
            "                                                                 \n",
            " batch_normalization_1 (Batc  (None, 193, 64)          256       \n",
            " hNormalization)                                                 \n",
            "                                                                 \n",
            " re_lu_1 (ReLU)              (None, 193, 64)           0         \n",
            "                                                                 \n",
            " conv1d_2 (Conv1D)           (None, 193, 64)           12352     \n",
            "                                                                 \n",
            " batch_normalization_2 (Batc  (None, 193, 64)          256       \n",
            " hNormalization)                                                 \n",
            "                                                                 \n",
            " re_lu_2 (ReLU)              (None, 193, 64)           0         \n",
            "                                                                 \n",
            " global_average_pooling1d (G  (None, 64)               0         \n",
            " lobalAveragePooling1D)                                          \n",
            "                                                                 \n",
            " dense (Dense)               (None, 1)                 65        \n",
            "                                                                 \n",
            "=================================================================\n",
            "Total params: 27,137\n",
            "Trainable params: 26,753\n",
            "Non-trainable params: 384\n",
            "_________________________________________________________________\n"
          ]
        }
      ],
      "source": [
        "def make_model(input_shape):\n",
        "    input_layer = tf.keras.layers.Input(input_shape)\n",
        "\n",
        "    conv1 = tf.keras.layers.Conv1D(filters=64, kernel_size=3, padding=\"same\")(input_layer)\n",
        "    conv1 = tf.keras.layers.BatchNormalization()(conv1)\n",
        "    conv1 = tf.keras.layers.ReLU()(conv1)\n",
        "\n",
        "    conv2 = tf.keras.layers.Conv1D(filters=64, kernel_size=3, padding=\"same\")(conv1)\n",
        "    conv2 = tf.keras.layers.BatchNormalization()(conv2)\n",
        "    conv2 = tf.keras.layers.ReLU()(conv2)\n",
        "\n",
        "    dense1 = tf.keras.layers.Dense(64, activation = 'relu')(conv2)\n",
        "\n",
        "    conv3 = tf.keras.layers.Conv1D(filters=64, kernel_size=3, padding=\"same\")(dense1)\n",
        "    conv3 = tf.keras.layers.BatchNormalization()(conv3)\n",
        "    conv3 = tf.keras.layers.ReLU()(conv3)\n",
        "\n",
        "    gap = tf.keras.layers.GlobalAveragePooling1D()(conv3)\n",
        "\n",
        "    output_layer = tf.keras.layers.Dense(1, activation=\"sigmoid\")(gap)\n",
        "\n",
        "    return tf.keras.models.Model(inputs=input_layer, outputs=output_layer)\n",
        "\n",
        "\n",
        "model = make_model(input_shape=X_train[0].shape)\n",
        "#tf.keras.utils.plot_model(model, show_shapes=True)\n",
        "model.summary()"
      ]
    },
    {
      "cell_type": "code",
      "execution_count": null,
      "metadata": {
        "colab": {
          "base_uri": "https://localhost:8080/"
        },
        "id": "lrOV8UqJ-C8L",
        "outputId": "2c01adb7-e372-4c0b-fc41-5c5f183183a4"
      },
      "outputs": [
        {
          "name": "stdout",
          "output_type": "stream",
          "text": [
            "Epoch 1/500\n",
            "10/10 [==============================] - 12s 49ms/step - loss: 0.5191 - accuracy: 0.7874\n",
            "Epoch 2/500\n",
            "10/10 [==============================] - 0s 8ms/step - loss: 0.3060 - accuracy: 0.9402\n",
            "Epoch 3/500\n",
            "10/10 [==============================] - 0s 7ms/step - loss: 0.2418 - accuracy: 0.9302\n",
            "Epoch 4/500\n",
            "10/10 [==============================] - 0s 8ms/step - loss: 0.1732 - accuracy: 0.9635\n",
            "Epoch 5/500\n",
            "10/10 [==============================] - 0s 8ms/step - loss: 0.1585 - accuracy: 0.9568\n",
            "Epoch 6/500\n",
            "10/10 [==============================] - 0s 8ms/step - loss: 0.1192 - accuracy: 0.9900\n",
            "Epoch 7/500\n",
            "10/10 [==============================] - 0s 7ms/step - loss: 0.1128 - accuracy: 0.9734\n",
            "Epoch 8/500\n",
            "10/10 [==============================] - 0s 8ms/step - loss: 0.1083 - accuracy: 0.9767\n",
            "Epoch 9/500\n",
            "10/10 [==============================] - 0s 7ms/step - loss: 0.1121 - accuracy: 0.9701\n",
            "Epoch 10/500\n",
            "10/10 [==============================] - 0s 8ms/step - loss: 0.0923 - accuracy: 0.9734\n",
            "Epoch 11/500\n",
            "10/10 [==============================] - 0s 8ms/step - loss: 0.1409 - accuracy: 0.9535\n",
            "Epoch 12/500\n",
            "10/10 [==============================] - 0s 7ms/step - loss: 0.0939 - accuracy: 0.9701\n",
            "Epoch 13/500\n",
            "10/10 [==============================] - 0s 7ms/step - loss: 0.0961 - accuracy: 0.9701\n",
            "Epoch 14/500\n",
            "10/10 [==============================] - 0s 8ms/step - loss: 0.0824 - accuracy: 0.9834\n",
            "Epoch 15/500\n",
            "10/10 [==============================] - 0s 7ms/step - loss: 0.0642 - accuracy: 0.9967\n",
            "Epoch 16/500\n",
            "10/10 [==============================] - 0s 8ms/step - loss: 0.0740 - accuracy: 0.9801\n",
            "Epoch 17/500\n",
            "10/10 [==============================] - 0s 7ms/step - loss: 0.0733 - accuracy: 0.9834\n",
            "Epoch 18/500\n",
            "10/10 [==============================] - 0s 8ms/step - loss: 0.0616 - accuracy: 0.9900\n",
            "Epoch 19/500\n",
            "10/10 [==============================] - 0s 8ms/step - loss: 0.0740 - accuracy: 0.9801\n",
            "Epoch 20/500\n",
            "10/10 [==============================] - 0s 8ms/step - loss: 0.0753 - accuracy: 0.9934\n",
            "Epoch 21/500\n",
            "10/10 [==============================] - 0s 8ms/step - loss: 0.0596 - accuracy: 0.9900\n",
            "Epoch 22/500\n",
            "10/10 [==============================] - 0s 7ms/step - loss: 0.0632 - accuracy: 0.9734\n",
            "Epoch 23/500\n",
            "10/10 [==============================] - 0s 7ms/step - loss: 0.0456 - accuracy: 0.9967\n",
            "Epoch 24/500\n",
            "10/10 [==============================] - 0s 8ms/step - loss: 0.0618 - accuracy: 0.9867\n",
            "Epoch 25/500\n",
            "10/10 [==============================] - 0s 11ms/step - loss: 0.0454 - accuracy: 0.9934\n",
            "Epoch 26/500\n",
            "10/10 [==============================] - 0s 11ms/step - loss: 0.0389 - accuracy: 0.9900\n",
            "Epoch 27/500\n",
            "10/10 [==============================] - 0s 10ms/step - loss: 0.0534 - accuracy: 0.9801\n",
            "Epoch 28/500\n",
            "10/10 [==============================] - 0s 10ms/step - loss: 0.0604 - accuracy: 0.9834\n",
            "Epoch 29/500\n",
            "10/10 [==============================] - 0s 10ms/step - loss: 0.0440 - accuracy: 0.9967\n",
            "Epoch 30/500\n",
            "10/10 [==============================] - 0s 10ms/step - loss: 0.0452 - accuracy: 0.9900\n",
            "Epoch 31/500\n",
            "10/10 [==============================] - 0s 11ms/step - loss: 0.0462 - accuracy: 0.9867\n",
            "Epoch 32/500\n",
            "10/10 [==============================] - 0s 10ms/step - loss: 0.0397 - accuracy: 0.9967\n",
            "Epoch 33/500\n",
            "10/10 [==============================] - 0s 10ms/step - loss: 0.0334 - accuracy: 0.9967\n",
            "Epoch 34/500\n",
            "10/10 [==============================] - 0s 11ms/step - loss: 0.0599 - accuracy: 0.9834\n",
            "Epoch 35/500\n",
            "10/10 [==============================] - 0s 11ms/step - loss: 0.0311 - accuracy: 0.9967\n",
            "Epoch 36/500\n",
            "10/10 [==============================] - 0s 10ms/step - loss: 0.0382 - accuracy: 0.9967\n",
            "Epoch 37/500\n",
            "10/10 [==============================] - 0s 11ms/step - loss: 0.0350 - accuracy: 1.0000\n",
            "Epoch 38/500\n",
            "10/10 [==============================] - 0s 10ms/step - loss: 0.0396 - accuracy: 0.9900\n",
            "Epoch 39/500\n",
            "10/10 [==============================] - 0s 11ms/step - loss: 0.0428 - accuracy: 0.9900\n",
            "Epoch 40/500\n",
            "10/10 [==============================] - 0s 11ms/step - loss: 0.0297 - accuracy: 0.9934\n",
            "Epoch 41/500\n",
            "10/10 [==============================] - 0s 10ms/step - loss: 0.0444 - accuracy: 0.9867\n",
            "Epoch 42/500\n",
            "10/10 [==============================] - 0s 11ms/step - loss: 0.0281 - accuracy: 0.9934\n",
            "Epoch 43/500\n",
            "10/10 [==============================] - 0s 11ms/step - loss: 0.0345 - accuracy: 0.9934\n",
            "Epoch 44/500\n",
            "10/10 [==============================] - 0s 13ms/step - loss: 0.0356 - accuracy: 0.9934\n",
            "Epoch 45/500\n",
            "10/10 [==============================] - 0s 12ms/step - loss: 0.0413 - accuracy: 0.9934\n",
            "Epoch 46/500\n",
            "10/10 [==============================] - 0s 11ms/step - loss: 0.0404 - accuracy: 0.9967\n",
            "Epoch 47/500\n",
            "10/10 [==============================] - 0s 11ms/step - loss: 0.0240 - accuracy: 0.9967\n",
            "Epoch 48/500\n",
            "10/10 [==============================] - 0s 11ms/step - loss: 0.0348 - accuracy: 0.9934\n",
            "Epoch 49/500\n",
            "10/10 [==============================] - 0s 10ms/step - loss: 0.0279 - accuracy: 0.9900\n",
            "Epoch 50/500\n",
            "10/10 [==============================] - 0s 11ms/step - loss: 0.0195 - accuracy: 1.0000\n",
            "Epoch 51/500\n",
            "10/10 [==============================] - 0s 8ms/step - loss: 0.0368 - accuracy: 0.9867\n",
            "Epoch 52/500\n",
            "10/10 [==============================] - 0s 8ms/step - loss: 0.0314 - accuracy: 0.9900\n",
            "Epoch 53/500\n",
            "10/10 [==============================] - 0s 7ms/step - loss: 0.0424 - accuracy: 0.9834\n",
            "Epoch 54/500\n",
            "10/10 [==============================] - 0s 7ms/step - loss: 0.0208 - accuracy: 1.0000\n",
            "Epoch 55/500\n",
            "10/10 [==============================] - 0s 7ms/step - loss: 0.0485 - accuracy: 0.9767\n",
            "Epoch 56/500\n",
            "10/10 [==============================] - 0s 8ms/step - loss: 0.0200 - accuracy: 0.9967\n",
            "Epoch 57/500\n",
            "10/10 [==============================] - 0s 7ms/step - loss: 0.0188 - accuracy: 1.0000\n",
            "Epoch 58/500\n",
            "10/10 [==============================] - 0s 7ms/step - loss: 0.0174 - accuracy: 1.0000\n",
            "Epoch 59/500\n",
            "10/10 [==============================] - 0s 7ms/step - loss: 0.0120 - accuracy: 1.0000\n",
            "Epoch 60/500\n",
            "10/10 [==============================] - 0s 8ms/step - loss: 0.0127 - accuracy: 1.0000\n",
            "Epoch 61/500\n",
            "10/10 [==============================] - 0s 7ms/step - loss: 0.0204 - accuracy: 0.9967\n",
            "Epoch 62/500\n",
            "10/10 [==============================] - 0s 7ms/step - loss: 0.0179 - accuracy: 0.9967\n",
            "Epoch 63/500\n",
            "10/10 [==============================] - 0s 7ms/step - loss: 0.0106 - accuracy: 1.0000\n",
            "Epoch 64/500\n",
            "10/10 [==============================] - 0s 8ms/step - loss: 0.0105 - accuracy: 1.0000\n",
            "Epoch 65/500\n",
            "10/10 [==============================] - 0s 7ms/step - loss: 0.0237 - accuracy: 0.9967\n",
            "Epoch 66/500\n",
            "10/10 [==============================] - 0s 7ms/step - loss: 0.0192 - accuracy: 0.9967\n",
            "Epoch 67/500\n",
            "10/10 [==============================] - 0s 7ms/step - loss: 0.0341 - accuracy: 0.9934\n",
            "Epoch 68/500\n",
            "10/10 [==============================] - 0s 7ms/step - loss: 0.0269 - accuracy: 0.9934\n",
            "Epoch 69/500\n",
            "10/10 [==============================] - 0s 7ms/step - loss: 0.0201 - accuracy: 0.9934\n",
            "Epoch 70/500\n",
            "10/10 [==============================] - 0s 8ms/step - loss: 0.0229 - accuracy: 0.9934\n",
            "Epoch 71/500\n",
            "10/10 [==============================] - 0s 7ms/step - loss: 0.0232 - accuracy: 0.9967\n",
            "Epoch 72/500\n",
            "10/10 [==============================] - 0s 9ms/step - loss: 0.0212 - accuracy: 0.9934\n",
            "Epoch 73/500\n",
            "10/10 [==============================] - 0s 7ms/step - loss: 0.0169 - accuracy: 0.9967\n",
            "Epoch 74/500\n",
            "10/10 [==============================] - 0s 7ms/step - loss: 0.0156 - accuracy: 1.0000\n",
            "Epoch 75/500\n",
            "10/10 [==============================] - 0s 8ms/step - loss: 0.0119 - accuracy: 1.0000\n",
            "Epoch 76/500\n",
            "10/10 [==============================] - 0s 7ms/step - loss: 0.0220 - accuracy: 0.9934\n",
            "Epoch 77/500\n",
            "10/10 [==============================] - 0s 9ms/step - loss: 0.0172 - accuracy: 1.0000\n",
            "Epoch 78/500\n",
            "10/10 [==============================] - 0s 7ms/step - loss: 0.0105 - accuracy: 1.0000\n",
            "Epoch 79/500\n",
            "10/10 [==============================] - 0s 7ms/step - loss: 0.0182 - accuracy: 0.9967\n",
            "Epoch 80/500\n",
            "10/10 [==============================] - 0s 7ms/step - loss: 0.0264 - accuracy: 0.9900\n",
            "Epoch 81/500\n",
            "10/10 [==============================] - 0s 8ms/step - loss: 0.0171 - accuracy: 0.9934\n",
            "Epoch 82/500\n",
            "10/10 [==============================] - 0s 8ms/step - loss: 0.0211 - accuracy: 0.9967\n",
            "Epoch 83/500\n",
            "10/10 [==============================] - 0s 7ms/step - loss: 0.0221 - accuracy: 0.9900\n",
            "Epoch 84/500\n",
            "10/10 [==============================] - 0s 8ms/step - loss: 0.0258 - accuracy: 0.9934\n",
            "Epoch 85/500\n",
            "10/10 [==============================] - 0s 9ms/step - loss: 0.0233 - accuracy: 0.9934\n",
            "Epoch 86/500\n",
            "10/10 [==============================] - 0s 7ms/step - loss: 0.0311 - accuracy: 0.9934\n",
            "Epoch 87/500\n",
            "10/10 [==============================] - 0s 7ms/step - loss: 0.0399 - accuracy: 0.9900\n",
            "Epoch 88/500\n",
            "10/10 [==============================] - 0s 7ms/step - loss: 0.0206 - accuracy: 0.9934\n",
            "Epoch 89/500\n",
            "10/10 [==============================] - 0s 7ms/step - loss: 0.0131 - accuracy: 0.9967\n",
            "Epoch 90/500\n",
            "10/10 [==============================] - 0s 7ms/step - loss: 0.0066 - accuracy: 1.0000\n",
            "Epoch 91/500\n",
            "10/10 [==============================] - 0s 7ms/step - loss: 0.0202 - accuracy: 0.9900\n",
            "Epoch 92/500\n",
            "10/10 [==============================] - 0s 7ms/step - loss: 0.0249 - accuracy: 0.9900\n",
            "Epoch 93/500\n",
            "10/10 [==============================] - 0s 7ms/step - loss: 0.0229 - accuracy: 0.9934\n",
            "Epoch 94/500\n",
            "10/10 [==============================] - 0s 7ms/step - loss: 0.0172 - accuracy: 0.9967\n",
            "Epoch 95/500\n",
            "10/10 [==============================] - 0s 7ms/step - loss: 0.0397 - accuracy: 0.9867\n",
            "Epoch 96/500\n",
            "10/10 [==============================] - 0s 8ms/step - loss: 0.0187 - accuracy: 0.9967\n",
            "Epoch 97/500\n",
            "10/10 [==============================] - 0s 8ms/step - loss: 0.0130 - accuracy: 0.9967\n",
            "Epoch 98/500\n",
            "10/10 [==============================] - 0s 8ms/step - loss: 0.0286 - accuracy: 0.9967\n",
            "Epoch 99/500\n",
            "10/10 [==============================] - 0s 7ms/step - loss: 0.0341 - accuracy: 0.9934\n",
            "Epoch 100/500\n",
            "10/10 [==============================] - 0s 7ms/step - loss: 0.0108 - accuracy: 1.0000\n",
            "Epoch 101/500\n",
            "10/10 [==============================] - 0s 7ms/step - loss: 0.0191 - accuracy: 0.9934\n",
            "Epoch 102/500\n",
            "10/10 [==============================] - 0s 8ms/step - loss: 0.0234 - accuracy: 0.9934\n",
            "Epoch 103/500\n",
            "10/10 [==============================] - 0s 7ms/step - loss: 0.0163 - accuracy: 0.9934\n",
            "Epoch 104/500\n",
            "10/10 [==============================] - 0s 7ms/step - loss: 0.0201 - accuracy: 0.9967\n",
            "Epoch 105/500\n",
            "10/10 [==============================] - 0s 7ms/step - loss: 0.0278 - accuracy: 0.9934\n",
            "Epoch 106/500\n",
            "10/10 [==============================] - 0s 7ms/step - loss: 0.0111 - accuracy: 0.9967\n",
            "Epoch 107/500\n",
            "10/10 [==============================] - 0s 7ms/step - loss: 0.0108 - accuracy: 1.0000\n",
            "Epoch 108/500\n",
            "10/10 [==============================] - 0s 10ms/step - loss: 0.0076 - accuracy: 1.0000\n",
            "Epoch 109/500\n",
            "10/10 [==============================] - 0s 8ms/step - loss: 0.0066 - accuracy: 1.0000\n",
            "Epoch 110/500\n",
            "10/10 [==============================] - 0s 8ms/step - loss: 0.0064 - accuracy: 1.0000\n",
            "Epoch 111/500\n",
            "10/10 [==============================] - 0s 7ms/step - loss: 0.0097 - accuracy: 1.0000\n",
            "Epoch 112/500\n",
            "10/10 [==============================] - 0s 8ms/step - loss: 0.0045 - accuracy: 1.0000\n",
            "Epoch 113/500\n",
            "10/10 [==============================] - 0s 7ms/step - loss: 0.0062 - accuracy: 1.0000\n",
            "Epoch 114/500\n",
            "10/10 [==============================] - 0s 7ms/step - loss: 0.0077 - accuracy: 1.0000\n",
            "Epoch 115/500\n",
            "10/10 [==============================] - 0s 7ms/step - loss: 0.0060 - accuracy: 1.0000\n",
            "Epoch 116/500\n",
            "10/10 [==============================] - 0s 7ms/step - loss: 0.0057 - accuracy: 1.0000\n",
            "Epoch 117/500\n",
            "10/10 [==============================] - 0s 7ms/step - loss: 0.0070 - accuracy: 1.0000\n",
            "Epoch 118/500\n",
            "10/10 [==============================] - 0s 8ms/step - loss: 0.0035 - accuracy: 1.0000\n",
            "Epoch 119/500\n",
            "10/10 [==============================] - 0s 7ms/step - loss: 0.0049 - accuracy: 1.0000\n",
            "Epoch 120/500\n",
            "10/10 [==============================] - 0s 8ms/step - loss: 0.0042 - accuracy: 1.0000\n",
            "Epoch 121/500\n",
            "10/10 [==============================] - 0s 8ms/step - loss: 0.0034 - accuracy: 1.0000\n",
            "Epoch 122/500\n",
            "10/10 [==============================] - 0s 8ms/step - loss: 0.0053 - accuracy: 1.0000\n",
            "Epoch 123/500\n",
            "10/10 [==============================] - 0s 7ms/step - loss: 0.0193 - accuracy: 0.9967\n",
            "Epoch 124/500\n",
            "10/10 [==============================] - 0s 7ms/step - loss: 0.0050 - accuracy: 1.0000\n",
            "Epoch 125/500\n",
            "10/10 [==============================] - 0s 8ms/step - loss: 0.0111 - accuracy: 0.9967\n",
            "Epoch 126/500\n",
            "10/10 [==============================] - 0s 7ms/step - loss: 0.0104 - accuracy: 0.9967\n",
            "Epoch 127/500\n",
            "10/10 [==============================] - 0s 8ms/step - loss: 0.0041 - accuracy: 1.0000\n",
            "Epoch 128/500\n",
            "10/10 [==============================] - 0s 7ms/step - loss: 0.0194 - accuracy: 0.9900\n",
            "Epoch 129/500\n",
            "10/10 [==============================] - 0s 8ms/step - loss: 0.0361 - accuracy: 0.9867\n",
            "Epoch 130/500\n",
            "10/10 [==============================] - 0s 7ms/step - loss: 0.0603 - accuracy: 0.9767\n",
            "Epoch 131/500\n",
            "10/10 [==============================] - 0s 8ms/step - loss: 0.0275 - accuracy: 0.9900\n",
            "Epoch 132/500\n",
            "10/10 [==============================] - 0s 7ms/step - loss: 0.0298 - accuracy: 0.9900\n",
            "Epoch 133/500\n",
            "10/10 [==============================] - 0s 9ms/step - loss: 0.0518 - accuracy: 0.9934\n",
            "Epoch 134/500\n",
            "10/10 [==============================] - 0s 7ms/step - loss: 0.0356 - accuracy: 0.9867\n",
            "Epoch 135/500\n",
            "10/10 [==============================] - 0s 7ms/step - loss: 0.0157 - accuracy: 0.9967\n",
            "Epoch 136/500\n",
            "10/10 [==============================] - 0s 8ms/step - loss: 0.0228 - accuracy: 0.9867\n",
            "Epoch 137/500\n",
            "10/10 [==============================] - 0s 7ms/step - loss: 0.0249 - accuracy: 0.9934\n",
            "Epoch 138/500\n",
            "10/10 [==============================] - 0s 7ms/step - loss: 0.0368 - accuracy: 0.9934\n",
            "Epoch 139/500\n",
            "10/10 [==============================] - 0s 8ms/step - loss: 0.0325 - accuracy: 0.9867\n",
            "Epoch 140/500\n",
            "10/10 [==============================] - 0s 7ms/step - loss: 0.0228 - accuracy: 0.9900\n",
            "Epoch 141/500\n",
            "10/10 [==============================] - 0s 7ms/step - loss: 0.0148 - accuracy: 0.9967\n",
            "Epoch 142/500\n",
            "10/10 [==============================] - 0s 7ms/step - loss: 0.0373 - accuracy: 0.9934\n",
            "Epoch 143/500\n",
            "10/10 [==============================] - 0s 7ms/step - loss: 0.0078 - accuracy: 1.0000\n",
            "Epoch 144/500\n",
            "10/10 [==============================] - 0s 8ms/step - loss: 0.0136 - accuracy: 0.9967\n",
            "Epoch 145/500\n",
            "10/10 [==============================] - 0s 9ms/step - loss: 0.0060 - accuracy: 1.0000\n",
            "Epoch 146/500\n",
            "10/10 [==============================] - 0s 7ms/step - loss: 0.0069 - accuracy: 1.0000\n"
          ]
        }
      ],
      "source": [
        "epochs = 500\n",
        "batch_size = 32\n",
        "\n",
        "callback = tf.keras.callbacks.EarlyStopping(monitor='loss', patience=25)\n",
        "\n",
        "\n",
        "model.compile(\n",
        "    optimizer=\"adam\",\n",
        "    loss=\"binary_crossentropy\",\n",
        "    metrics=[\"accuracy\"],\n",
        ")\n",
        "history = model.fit(\n",
        "    X_train,\n",
        "    y_train,\n",
        "    batch_size=batch_size,\n",
        "    epochs=epochs,\n",
        "    verbose=1,\n",
        "    callbacks=[callback]\n",
        ")"
      ]
    },
    {
      "cell_type": "markdown",
      "metadata": {
        "id": "Jyb0mFp1-duL"
      },
      "source": [
        "## Test evaluation"
      ]
    },
    {
      "cell_type": "code",
      "execution_count": null,
      "metadata": {
        "colab": {
          "base_uri": "https://localhost:8080/"
        },
        "id": "uejkSMX8-fBN",
        "outputId": "8b3d8a6d-7f95-4d73-d543-9bd0fe72c34d"
      },
      "outputs": [
        {
          "name": "stdout",
          "output_type": "stream",
          "text": [
            "4/4 [==============================] - 0s 56ms/step\n"
          ]
        }
      ],
      "source": [
        "y_pred = model.predict(X_test)"
      ]
    },
    {
      "cell_type": "code",
      "execution_count": null,
      "metadata": {
        "id": "ZLw758yLwiJ8"
      },
      "outputs": [],
      "source": [
        "y_pred = np.array([arr.item() for arr in y_pred])"
      ]
    },
    {
      "cell_type": "code",
      "execution_count": null,
      "metadata": {
        "colab": {
          "base_uri": "https://localhost:8080/"
        },
        "id": "AlazOSkX-iw9",
        "outputId": "6cd768fc-4c94-426c-cc6c-e0746fbe2586"
      },
      "outputs": [
        {
          "data": {
            "text/plain": [
              "101"
            ]
          },
          "execution_count": 69,
          "metadata": {},
          "output_type": "execute_result"
        }
      ],
      "source": [
        "len(y_pred)"
      ]
    },
    {
      "cell_type": "code",
      "execution_count": null,
      "metadata": {
        "colab": {
          "base_uri": "https://localhost:8080/",
          "height": 295
        },
        "id": "uULatG2r-khO",
        "outputId": "f27a73c6-d5f6-406f-a3d2-0b520d2b08fb"
      },
      "outputs": [
        {
          "data": {
            "image/png": "[encoded data removed]",
            "text/plain": [
              "<Figure size 432x288 with 1 Axes>"
            ]
          },
          "metadata": {
            "needs_background": "light"
          },
          "output_type": "display_data"
        }
      ],
      "source": [
        "display = PrecisionRecallDisplay.from_predictions(y_test, y_pred, name=\"CNN\")\n",
        "_ = display.ax_.set_title(\"2-class Precision-Recall curve\")"
      ]
    },
    {
      "cell_type": "code",
      "execution_count": null,
      "metadata": {
        "id": "7QI9NAU_cUqd"
      },
      "outputs": [],
      "source": [
        "preds_neg = []\n",
        "preds_pos = []\n",
        "\n",
        "for i in range(len(y_test)):\n",
        "    y_predicted = y_pred[i]\n",
        "    y_real = y_test[i]\n",
        "    if y_real == 1:\n",
        "        preds_pos.append(y_predicted)\n",
        "    else:\n",
        "        preds_neg.append(y_predicted)"
      ]
    },
    {
      "cell_type": "code",
      "execution_count": null,
      "metadata": {
        "colab": {
          "base_uri": "https://localhost:8080/",
          "height": 282
        },
        "id": "SE4AzN1hde00",
        "outputId": "3b2fb4fa-8078-48d4-f821-64f67718454e"
      },
      "outputs": [
        {
          "data": {
            "text/plain": [
              "<Axes: >"
            ]
          },
          "execution_count": 72,
          "metadata": {},
          "output_type": "execute_result"
        },
        {
          "data": {
            "image/png": "[encoded data removed]",
            "text/plain": [
              "<Figure size 432x288 with 1 Axes>"
            ]
          },
          "metadata": {
            "needs_background": "light"
          },
          "output_type": "display_data"
        }
      ],
      "source": [
        "sns.violinplot(data=[preds_neg, preds_pos], orient='h', inner='stick', cut=0)"
      ]
    },
    {
      "cell_type": "code",
      "execution_count": null,
      "metadata": {
        "colab": {
          "base_uri": "https://localhost:8080/",
          "height": 279
        },
        "id": "sjKd43D0fNV3",
        "outputId": "c4923723-3dcb-47af-d519-ffa686e74c4c"
      },
      "outputs": [
        {
          "data": {
            "image/png": "[encoded data removed]",
            "text/plain": [
              "<Figure size 432x288 with 1 Axes>"
            ]
          },
          "metadata": {
            "needs_background": "light"
          },
          "output_type": "display_data"
        }
      ],
      "source": [
        "plt.clf()\n",
        "plt.hist([preds_neg, preds_pos], range=(0,1), bins=20, label=['Neg samples', 'Pos samples'])\n",
        "plt.xlabel(\"Model prediction\")\n",
        "plt.ylabel(\"Count\")\n",
        "plt.legend(loc='upper right')\n",
        "plt.show()"
      ]
    },
    {
      "cell_type": "markdown",
      "metadata": {
        "id": "SeOTd5GMcRNS"
      },
      "source": [
        "Results based on binarized output"
      ]
    },
    {
      "cell_type": "code",
      "execution_count": null,
      "metadata": {
        "id": "8YvwGxZy-nm_"
      },
      "outputs": [],
      "source": [
        "y_pred_binarized = (y_pred >= 0.5)"
      ]
    },
    {
      "cell_type": "code",
      "execution_count": null,
      "metadata": {
        "colab": {
          "base_uri": "https://localhost:8080/"
        },
        "id": "89pjKmn8-qOv",
        "outputId": "f8127e71-f613-43fe-ca06-ba4b50125b20"
      },
      "outputs": [
        {
          "name": "stdout",
          "output_type": "stream",
          "text": [
            "              precision    recall  f1-score   support\n",
            "\n",
            "         neg       0.95      0.96      0.95        75\n",
            "         pos       0.88      0.85      0.86        26\n",
            "\n",
            "    accuracy                           0.93       101\n",
            "   macro avg       0.91      0.90      0.91       101\n",
            "weighted avg       0.93      0.93      0.93       101\n",
            "\n"
          ]
        }
      ],
      "source": [
        "print(classification_report(y_test, y_pred_binarized, target_names=[\"neg\", \"pos\"]))"
      ]
    },
    {
      "cell_type": "code",
      "execution_count": null,
      "metadata": {
        "colab": {
          "base_uri": "https://localhost:8080/"
        },
        "id": "8pe7qjzw-vi7",
        "outputId": "0466912d-6885-4d29-e061-42249f1a3649"
      },
      "outputs": [
        {
          "data": {
            "text/plain": [
              "0.8627450980392156"
            ]
          },
          "execution_count": 76,
          "metadata": {},
          "output_type": "execute_result"
        }
      ],
      "source": [
        "f1_score(y_test, y_pred_binarized)"
      ]
    },
    {
      "cell_type": "markdown",
      "metadata": {
        "id": "XeKOs1GI_rhs"
      },
      "source": [
        "## Error analysis"
      ]
    },
    {
      "cell_type": "markdown",
      "metadata": {
        "id": "t80vWsxZ_tqT"
      },
      "source": [
        "### Sample types of errors vs. correct predictions"
      ]
    },
    {
      "cell_type": "code",
      "execution_count": null,
      "metadata": {
        "colab": {
          "base_uri": "https://localhost:8080/"
        },
        "id": "ucgA0CXT_waA",
        "outputId": "0a5de184-2753-477a-b90e-0e4f1dd04c83"
      },
      "outputs": [
        {
          "name": "stdout",
          "output_type": "stream",
          "text": [
            "Sample type distribution for errors\n"
          ]
        },
        {
          "data": {
            "text/plain": [
              "{'Soil': 0.8571428571428571, 'RPLN': 0.14285714285714285}"
            ]
          },
          "execution_count": 77,
          "metadata": {},
          "output_type": "execute_result"
        }
      ],
      "source": [
        "# Collect indices of errors\n",
        "error_idx = []\n",
        "for i in range(len(y_pred_binarized)):\n",
        "    if y_pred_binarized[i] != y_test[i]:\n",
        "        error_idx.append(i)\n",
        "\n",
        "error_samples = np.array(sample_test)[error_idx]\n",
        "d_error = dict(Counter(error_samples))\n",
        "for key, val in d_error.items():\n",
        "    d_error[key] = val / len(error_samples)\n",
        "print(\"Sample type distribution for errors\")\n",
        "d_error"
      ]
    },
    {
      "cell_type": "code",
      "execution_count": null,
      "metadata": {
        "colab": {
          "base_uri": "https://localhost:8080/"
        },
        "id": "J5nN4b37AM72",
        "outputId": "99c87ce2-aa91-454a-83a7-8ffad21cc71c"
      },
      "outputs": [
        {
          "data": {
            "text/plain": [
              "[21, 32, 40, 53, 55, 59, 60]"
            ]
          },
          "execution_count": 78,
          "metadata": {},
          "output_type": "execute_result"
        }
      ],
      "source": [
        "error_idx"
      ]
    },
    {
      "cell_type": "code",
      "execution_count": null,
      "metadata": {
        "colab": {
          "base_uri": "https://localhost:8080/"
        },
        "id": "S16JNqRg_2ci",
        "outputId": "ac63c816-fe51-4fa0-bd50-a5ea0c6e12d6"
      },
      "outputs": [
        {
          "name": "stdout",
          "output_type": "stream",
          "text": [
            "Sample type distribution for correct predictions\n"
          ]
        },
        {
          "data": {
            "text/plain": [
              "{'Soil': 0.7142857142857143,\n",
              " 'Ear': 0.14285714285714285,\n",
              " 'RPLN': 0.14285714285714285}"
            ]
          },
          "execution_count": 79,
          "metadata": {},
          "output_type": "execute_result"
        }
      ],
      "source": [
        "correct_samples = np.array(sample_test)[~np.array(error_idx)]\n",
        "d_correct = dict(Counter(correct_samples))\n",
        "for key, val in d_correct.items():\n",
        "    d_correct[key] = val / len(correct_samples)\n",
        "print(\"Sample type distribution for correct predictions\")\n",
        "d_correct"
      ]
    },
    {
      "cell_type": "code",
      "execution_count": null,
      "metadata": {
        "id": "b0rHgk1m_4iZ"
      },
      "outputs": [],
      "source": [
        "assert(list(d_correct.keys()).sort() == list(d_error.keys()).sort())"
      ]
    },
    {
      "cell_type": "code",
      "execution_count": null,
      "metadata": {
        "id": "t3AAbffn_6Da"
      },
      "outputs": [],
      "source": [
        "# plt.clf()\n",
        "\n",
        "# keys = list(d_correct.keys())\n",
        "# correct = list(d_correct.values())\n",
        "# error = list(d_error.values())\n",
        "\n",
        "# output = {}\n",
        "# for i, key in enumerate(keys):\n",
        "#     output[key] = [correct[i], error[i]]\n",
        "\n",
        "# df = pd.DataFrame(output, index=['Correct', 'Error'])\n",
        "\n",
        "# df.plot(kind='bar', stacked=True)\n",
        "# plt.ylabel('Fraction')\n",
        "# plt.title('Sample type distributions')\n",
        "\n",
        "# ax = plt.gca()\n",
        "# handles, labels = ax.get_legend_handles_labels()\n",
        "# ax.legend(handles[::-1], labels[::-1], loc='upper left', bbox_to_anchor=(1, 0.5))\n",
        "# plt.savefig(\"sample_types.png\", bbox_inches='tight', dpi=400)"
      ]
    },
    {
      "cell_type": "markdown",
      "metadata": {
        "id": "QfRw-N9-HO1I"
      },
      "source": [
        "### Model introspection"
      ]
    },
    {
      "cell_type": "code",
      "execution_count": null,
      "metadata": {
        "id": "vyRqDUb0ifYd"
      },
      "outputs": [],
      "source": [
        "# Get false negative item\n",
        "idx = error_idx[0]\n",
        "x = np.array([X_test[idx]])[0]\n"
      ]
    },
    {
      "cell_type": "code",
      "execution_count": null,
      "metadata": {
        "colab": {
          "base_uri": "https://localhost:8080/"
        },
        "id": "aAimV0LRigF6",
        "outputId": "b6a8972d-d2ab-4840-a90f-b9cc76306986"
      },
      "outputs": [
        {
          "data": {
            "text/plain": [
              "(193, 8)"
            ]
          },
          "execution_count": 82,
          "metadata": {},
          "output_type": "execute_result"
        }
      ],
      "source": [
        "x.shape"
      ]
    },
    {
      "cell_type": "code",
      "execution_count": null,
      "metadata": {
        "id": "fYnEA4uxilGa"
      },
      "outputs": [],
      "source": [
        "def get_grads(x):\n",
        "    # Shape input\n",
        "    x = x.reshape(1, -1, 8)\n",
        "\n",
        "    # Cast as tf variable\n",
        "    var = tf.Variable(x, dtype=float)\n",
        "\n",
        "    # Compute gradients\n",
        "    with tf.GradientTape() as tape:\n",
        "        pred = model(var, training=False)\n",
        "        class_idxs_sorted = np.argsort(pred.numpy().flatten())[::-1]\n",
        "        loss = pred[0][class_idxs_sorted[0]]\n",
        "    grads = tape.gradient(loss, var)\n",
        "\n",
        "    # Absolute value\n",
        "    dgrad_abs = tf.math.abs(grads)\n",
        "    dgrad_max_ = np.max(dgrad_abs)\n",
        "\n",
        "    # Normalize to range between 0 and 1\n",
        "    arr_min, arr_max  = np.min(dgrad_abs), np.max(dgrad_abs)\n",
        "    grad_eval = (dgrad_abs - arr_min) / (arr_max - arr_min + 1e-18)\n",
        "\n",
        "    # Extract as array\n",
        "    grad_eval = grad_eval.numpy()\n",
        "\n",
        "    return grad_eval"
      ]
    },
    {
      "cell_type": "code",
      "execution_count": null,
      "metadata": {
        "colab": {
          "base_uri": "https://localhost:8080/"
        },
        "id": "CMIU82evnrR3",
        "outputId": "b0ce7300-f35b-4d7e-cabc-75b613ffaf48"
      },
      "outputs": [
        {
          "data": {
            "text/plain": [
              "(193, 8)"
            ]
          },
          "execution_count": 84,
          "metadata": {},
          "output_type": "execute_result"
        }
      ],
      "source": [
        "get_grads(x)[0].shape"
      ]
    },
    {
      "cell_type": "code",
      "execution_count": null,
      "metadata": {
        "id": "KIiTaNWGimhE"
      },
      "outputs": [],
      "source": [
        "def view_curve_grouped_imp(x, timepoints_h, y=None, sample=None, well_name=None, pred=None, save=False):\n",
        "    plt.clf()\n",
        "    x = x.reshape(1, -1, 8)\n",
        "    grads = get_grads(x)[0]\n",
        "\n",
        "    perc = np.percentile(grads, 90) \n",
        "\n",
        "    for i in range(8):\n",
        "        plt.plot(timepoints_h, x[0,:,i], color='grey')\n",
        "\n",
        "        gr = grads[:,i]\n",
        "        mask = gr > perc\n",
        "        plt.scatter(np.array(timepoints_h)[mask], x[0,:,i][mask], s=40, facecolors='none', edgecolors='b', alpha=0.7)\n",
        "    \n",
        "    plt.xlabel(\"Time [h]\")\n",
        "    plt.ylabel(\"Fluorescence\")\n",
        "\n",
        "    title = 'RT-QuIC'\n",
        "    if sample is not None:\n",
        "        title += ' from %s sample' % (sample,)\n",
        "    if y is not None:\n",
        "        title += ' (label: %i)' % (y,)\n",
        "    # if well_name is not None:\n",
        "    #     title += ' (well: %s)' % (well_name,)\n",
        "    if pred is not None:\n",
        "        title += ' (pred: %.2f)' % (pred,)\n",
        "\n",
        "    plt.title(title)\n",
        "\n",
        "    if save:\n",
        "        filename = ''.join(random.choices(string.ascii_uppercase + string.digits, k=6))\n",
        "        plt.savefig(filename + \".png\", bbox_inches='tight', dpi=400)\n",
        "\n"
      ]
    },
    {
      "cell_type": "code",
      "execution_count": null,
      "metadata": {
        "colab": {
          "base_uri": "https://localhost:8080/",
          "height": 295
        },
        "id": "9lgNJLSokEGk",
        "outputId": "1c972ea4-2051-4634-8ab4-3d4693b0d3e8"
      },
      "outputs": [
        {
          "data": {
            "image/png": "[encoded data removed]",
            "text/plain": [
              "<Figure size 432x288 with 1 Axes>"
            ]
          },
          "metadata": {
            "needs_background": "light"
          },
          "output_type": "display_data"
        }
      ],
      "source": [
        "# Random idx\n",
        "correct_idx = np.delete(range(len(y_test)), error_idx)\n",
        "idx = np.random.randint(len(correct_idx),size=1)[0]\n",
        "\n",
        "view_curve_grouped_imp(X_test[idx], timepoints_h, y_test[idx], sample_test[idx], pred=y_pred[idx])"
      ]
    },
    {
      "cell_type": "code",
      "execution_count": null,
      "metadata": {
        "id": "NU8F39UgqlZm"
      },
      "outputs": [],
      "source": [
        "# for idx in error_idx:\n",
        "#     view_curve_grouped_imp(X_test[idx], timepoints_h, y_test[idx], sample_test[idx], pred=y_pred[idx], save=True)"
      ]
    },
    {
      "cell_type": "markdown",
      "metadata": {
        "id": "7YNviC-TV2Ro"
      },
      "source": [
        "## More model introspection"
      ]
    },
    {
      "cell_type": "code",
      "execution_count": null,
      "metadata": {
        "id": "cc5PioD3YlMn"
      },
      "outputs": [],
      "source": [
        "def view_replicates(x, timepoints_h, y=None, sample=None, well_name=None, pred=None, importance=False, save=False):\n",
        "\n",
        "    plt.clf()\n",
        "\n",
        "    fig, axs = plt.subplots(ncols=8)\n",
        "\n",
        "    for i,ax1 in enumerate(axs):\n",
        "        curve = x[:,i]\n",
        "\n",
        "        # Plot curve\n",
        "        ax1.plot(timepoints_h, curve)\n",
        "        ax1.set_ylim(0,np.max(x)+10000)\n",
        "        ax1.tick_params(axis='x', which='major', labelsize=6)\n",
        "        if i>0:\n",
        "            ax1.set_yticks([])\n",
        "\n",
        "        # Plot importance\n",
        "        if importance:\n",
        "            ax2 = ax1.twinx()\n",
        "            ax2.plot(timepoints_h, get_grads(x)[0,:,i], alpha=0.6, color='green', linewidth=0.5)\n",
        "            ax2.set_ylim(0,1)\n",
        "            if i != 7:\n",
        "                ax2.set_yticks([])\n",
        "\n",
        "        title = 'RT-QuIC'\n",
        "        if sample is not None:\n",
        "            title += ' from %s sample' % (sample,)\n",
        "        if y is not None:\n",
        "            title += ' (label: %i)' % (y,)\n",
        "        # if well_name is not None:\n",
        "        #     title += ' (well: %s)' % (well_name,)\n",
        "        if pred is not None:\n",
        "            title += ' (pred: %.2f)' % (pred,)\n",
        "\n",
        "    plt.suptitle(title)\n",
        "\n",
        "    fig.text(0.5, 0.01, 'Time [h]', ha='center')\n",
        "    fig.text(0.06, 0.5, 'Fluorescence', va='center', rotation='vertical')\n",
        "    \n",
        "    if importance:\n",
        "        fig.text(0.94, 0.5, 'Feature importance', va='center', rotation='vertical', color='green')\n",
        "\n",
        "    fig.set_size_inches(16, 2.5)\n",
        "    if save:\n",
        "        filename = ''.join(random.choices(string.ascii_uppercase + string.digits, k=6))\n",
        "        plt.savefig(filename + \".png\", bbox_inches='tight', dpi=600)\n",
        "\n"
      ]
    },
    {
      "cell_type": "code",
      "execution_count": null,
      "metadata": {
        "colab": {
          "base_uri": "https://localhost:8080/",
          "height": 243
        },
        "id": "0gMEiLhGhyHn",
        "outputId": "03824b98-6b28-4326-d586-451bc671d356"
      },
      "outputs": [
        {
          "name": "stdout",
          "output_type": "stream",
          "text": [
            "31\n"
          ]
        },
        {
          "data": {
            "text/plain": [
              "<Figure size 432x288 with 0 Axes>"
            ]
          },
          "metadata": {},
          "output_type": "display_data"
        },
        {
          "data": {
            "image/png": "[encoded data removed]",
            "text/plain": [
              "<Figure size 1152x180 with 16 Axes>"
            ]
          },
          "metadata": {
            "needs_background": "light"
          },
          "output_type": "display_data"
        }
      ],
      "source": [
        "# Random idx\n",
        "correct_idx = np.delete(range(len(y_test)), error_idx)\n",
        "idx = np.random.randint(len(correct_idx),size=1)[0]\n",
        "print(idx)\n",
        "\n",
        "view_replicates(X_test[idx], timepoints_h, y_test[idx], sample_test[idx], pred=y_pred[idx], importance=True)"
      ]
    },
    {
      "cell_type": "code",
      "execution_count": null,
      "metadata": {
        "colab": {
          "base_uri": "https://localhost:8080/",
          "height": 364
        },
        "id": "kEQK0qGm8CXr",
        "outputId": "8722f7fa-9efc-40f2-89ff-bb918529211f"
      },
      "outputs": [
        {
          "data": {
            "text/plain": [
              "<Figure size 432x288 with 0 Axes>"
            ]
          },
          "metadata": {},
          "output_type": "display_data"
        },
        {
          "data": {
            "text/plain": [
              "<Figure size 1152x180 with 0 Axes>"
            ]
          },
          "metadata": {},
          "output_type": "display_data"
        },
        {
          "data": {
            "text/plain": [
              "<Figure size 1152x180 with 0 Axes>"
            ]
          },
          "metadata": {},
          "output_type": "display_data"
        },
        {
          "data": {
            "text/plain": [
              "<Figure size 1152x180 with 0 Axes>"
            ]
          },
          "metadata": {},
          "output_type": "display_data"
        },
        {
          "data": {
            "text/plain": [
              "<Figure size 1152x180 with 0 Axes>"
            ]
          },
          "metadata": {},
          "output_type": "display_data"
        },
        {
          "data": {
            "text/plain": [
              "<Figure size 1152x180 with 0 Axes>"
            ]
          },
          "metadata": {},
          "output_type": "display_data"
        },
        {
          "data": {
            "text/plain": [
              "<Figure size 1152x180 with 0 Axes>"
            ]
          },
          "metadata": {},
          "output_type": "display_data"
        },
        {
          "data": {
            "text/plain": [
              "<Figure size 1152x180 with 0 Axes>"
            ]
          },
          "metadata": {},
          "output_type": "display_data"
        },
        {
          "data": {
            "text/plain": [
              "<Figure size 1152x180 with 0 Axes>"
            ]
          },
          "metadata": {},
          "output_type": "display_data"
        },
        {
          "data": {
            "image/png": "[encoded data removed]",
            "text/plain": [
              "<Figure size 1152x180 with 16 Axes>"
            ]
          },
          "metadata": {
            "needs_background": "light"
          },
          "output_type": "display_data"
        }
      ],
      "source": [
        "for idx in error_idx:\n",
        "    view_replicates(X_test[idx], timepoints_h, y_test[idx], sample_test[idx], pred=y_pred[idx], save=True, importance=True)"
      ]
    },
    {
      "cell_type": "markdown",
      "metadata": {
        "id": "a1Kj_BZ-eWA_"
      },
      "source": [
        "# Learning curves & Cross-validation approach"
      ]
    },
    {
      "cell_type": "code",
      "execution_count": null,
      "metadata": {
        "id": "No34R5gZzZjr"
      },
      "outputs": [],
      "source": [
        "X_temp, y_temp = shuffle(X_grouped, y_grouped, random_state=random.getrandbits(32))"
      ]
    },
    {
      "cell_type": "code",
      "execution_count": null,
      "metadata": {
        "colab": {
          "base_uri": "https://localhost:8080/"
        },
        "id": "zOTQR8JzbnzY",
        "outputId": "8e90abe6-ebab-448e-810b-d3ad3c45847e"
      },
      "outputs": [
        {
          "data": {
            "text/plain": [
              "(402, 193, 8)"
            ]
          },
          "execution_count": 142,
          "metadata": {},
          "output_type": "execute_result"
        }
      ],
      "source": [
        "X_temp.shape"
      ]
    },
    {
      "cell_type": "code",
      "execution_count": null,
      "metadata": {
        "id": "cMsorM9hPnaW"
      },
      "outputs": [],
      "source": [
        "def make_model2(input_shape):\n",
        "    input_layer = tf.keras.layers.Input(input_shape)\n",
        "\n",
        "    conv1 = tf.keras.layers.Conv1D(filters=64, kernel_size=20)(input_layer)\n",
        "    conv1 = tf.keras.layers.BatchNormalization()(conv1)\n",
        "    conv1 = tf.keras.layers.ReLU()(conv1)\n",
        "    conv1 = tf.keras.layers.MaxPooling1D()(conv1)\n",
        "\n",
        "    conv2 = tf.keras.layers.Conv1D(filters=48, kernel_size=10)(conv1)\n",
        "    conv2 = tf.keras.layers.BatchNormalization()(conv2)\n",
        "    conv2 = tf.keras.layers.ReLU()(conv2)\n",
        "    conv2 = tf.keras.layers.MaxPooling1D()(conv2)\n",
        "    \n",
        "    conv3 = tf.keras.layers.Conv1D(filters=32, kernel_size=5)(conv2)\n",
        "    conv3 = tf.keras.layers.BatchNormalization()(conv3)\n",
        "    conv3 = tf.keras.layers.ReLU()(conv3)\n",
        "    conv3 = tf.keras.layers.MaxPooling1D()(conv3)\n",
        "\n",
        "    head = tf.keras.layers.Flatten()(conv3)\n",
        "    head = tf.keras.layers.Dense(64, activation=None)(head)\n",
        "    head = tf.keras.layers.BatchNormalization()(head)\n",
        "    head = tf.keras.layers.ReLU()(head)\n",
        "    # head = tf.keras.layers.Dropout(0.2)(head)\n",
        "\n",
        "    head = tf.keras.layers.Dense(32, activation=None)(head)\n",
        "    head = tf.keras.layers.BatchNormalization()(head)\n",
        "    head = tf.keras.layers.ReLU()(head)\n",
        "    # head = tf.keras.layers.Dropout(0.2)(head)\n",
        "\n",
        "    output_layer = tf.keras.layers.Dense(1, activation=\"sigmoid\")(head)\n",
        "\n",
        "    return tf.keras.models.Model(inputs=input_layer, outputs=output_layer)"
      ]
    },
    {
      "cell_type": "code",
      "execution_count": null,
      "metadata": {
        "colab": {
          "base_uri": "https://localhost:8080/"
        },
        "id": "yNmF9O4_7c_t",
        "outputId": "fa4619d4-d5a6-48b6-9c31-40d2da05bcd4"
      },
      "outputs": [
        {
          "name": "stdout",
          "output_type": "stream",
          "text": [
            "Model: \"model_1\"\n",
            "_________________________________________________________________\n",
            " Layer (type)                Output Shape              Param #   \n",
            "=================================================================\n",
            " input_2 (InputLayer)        [(None, 193, 8)]          0         \n",
            "                                                                 \n",
            " conv1d_3 (Conv1D)           (None, 174, 64)           10304     \n",
            "                                                                 \n",
            " batch_normalization_5 (Batc  (None, 174, 64)          256       \n",
            " hNormalization)                                                 \n",
            "                                                                 \n",
            " re_lu_5 (ReLU)              (None, 174, 64)           0         \n",
            "                                                                 \n",
            " max_pooling1d_3 (MaxPooling  (None, 87, 64)           0         \n",
            " 1D)                                                             \n",
            "                                                                 \n",
            " conv1d_4 (Conv1D)           (None, 78, 48)            30768     \n",
            "                                                                 \n",
            " batch_normalization_6 (Batc  (None, 78, 48)           192       \n",
            " hNormalization)                                                 \n",
            "                                                                 \n",
            " re_lu_6 (ReLU)              (None, 78, 48)            0         \n",
            "                                                                 \n",
            " max_pooling1d_4 (MaxPooling  (None, 39, 48)           0         \n",
            " 1D)                                                             \n",
            "                                                                 \n",
            " conv1d_5 (Conv1D)           (None, 35, 32)            7712      \n",
            "                                                                 \n",
            " batch_normalization_7 (Batc  (None, 35, 32)           128       \n",
            " hNormalization)                                                 \n",
            "                                                                 \n",
            " re_lu_7 (ReLU)              (None, 35, 32)            0         \n",
            "                                                                 \n",
            " max_pooling1d_5 (MaxPooling  (None, 17, 32)           0         \n",
            " 1D)                                                             \n",
            "                                                                 \n",
            " flatten_1 (Flatten)         (None, 544)               0         \n",
            "                                                                 \n",
            " dense_3 (Dense)             (None, 64)                34880     \n",
            "                                                                 \n",
            " batch_normalization_8 (Batc  (None, 64)               256       \n",
            " hNormalization)                                                 \n",
            "                                                                 \n",
            " re_lu_8 (ReLU)              (None, 64)                0         \n",
            "                                                                 \n",
            " dense_4 (Dense)             (None, 32)                2080      \n",
            "                                                                 \n",
            " batch_normalization_9 (Batc  (None, 32)               128       \n",
            " hNormalization)                                                 \n",
            "                                                                 \n",
            " re_lu_9 (ReLU)              (None, 32)                0         \n",
            "                                                                 \n",
            " dense_5 (Dense)             (None, 1)                 33        \n",
            "                                                                 \n",
            "=================================================================\n",
            "Total params: 86,737\n",
            "Trainable params: 86,257\n",
            "Non-trainable params: 480\n",
            "_________________________________________________________________\n"
          ]
        }
      ],
      "source": [
        "model = make_model2(input_shape=X_temp[0].shape)\n",
        "#tf.keras.utils.plot_model(model, show_shapes=True)\n",
        "model.summary()"
      ]
    },
    {
      "cell_type": "code",
      "execution_count": null,
      "metadata": {
        "id": "PFEMrvPmeX4Q"
      },
      "outputs": [],
      "source": [
        "def get_scores(fraction):\n",
        "    # Set random state\n",
        "    r = random.getrandbits(32)\n",
        "\n",
        "    # Shuffle data\n",
        "    # Not sure if we want this - simulating more data is achieved by retaining order\n",
        "    #X_temp, y_temp = shuffle(X_grouped, y_grouped, random_state=r)\n",
        "\n",
        "    # Limit data based on fraction\n",
        "    X_partial = X_temp[:int(len(y_temp)*fraction)]\n",
        "    y_partial = y_temp[:int(len(y_temp)*fraction)]\n",
        "  \n",
        "    # Stratified 10-fold CV\n",
        "    skf = StratifiedKFold(n_splits=10, shuffle=True, random_state=r)\n",
        "    count = 0\n",
        "    results = []\n",
        "\n",
        "    for train, test in skf.split(X_partial, y_partial):\n",
        "        # Get data from indices\n",
        "        X_train = X_partial[train]\n",
        "        X_test = X_partial[test]\n",
        "        y_train = y_partial[train]\n",
        "        y_test = y_partial[test]\n",
        "\n",
        "        # Re-make model\n",
        "        tf.keras.backend.clear_session()\n",
        "        model = make_model2(input_shape=X_train[0].shape)\n",
        "        \n",
        "        epochs = 500\n",
        "        batch_size = 32\n",
        "\n",
        "        callback = tf.keras.callbacks.EarlyStopping(monitor='loss', patience=25)\n",
        "\n",
        "        model.compile(\n",
        "            optimizer=\"adam\",\n",
        "            loss=\"binary_crossentropy\",\n",
        "            metrics=[\"accuracy\"],\n",
        "        )\n",
        "\n",
        "        # Train\n",
        "        history = model.fit(\n",
        "            X_train,\n",
        "            y_train,\n",
        "            batch_size=batch_size,\n",
        "            epochs=epochs,\n",
        "            verbose=0,\n",
        "            callbacks=[callback]\n",
        "        )\n",
        "\n",
        "        # Test score (F1 or AP)\n",
        "        y_pred = model.predict(X_test, verbose=0)\n",
        "        y_pred = np.array([arr.item() for arr in y_pred])\n",
        "        #y_pred_binarized = (y_pred >= 0.5)\n",
        "        score_test = average_precision_score(y_test, y_pred)\n",
        "        n_test = len(y_pred)\n",
        "\n",
        "        # Train score\n",
        "        y_pred_train = model.predict(X_train, verbose=0)\n",
        "        y_pred_train = np.array([arr.item() for arr in y_pred_train])\n",
        "        #y_pred_train_binarized = (y_pred_train >= 0.5)\n",
        "        score_train = average_precision_score(y_train, y_pred_train)\n",
        "        n_train = len(y_pred_train)\n",
        "\n",
        "        # Save final models\n",
        "        if fraction == 1.0:\n",
        "            model.save(\"model_fold_%i.tf\" % (count,))\n",
        "\n",
        "        # Prep for next iteration\n",
        "        print(\"Fold %i/10 - Train score (n=%i), Test score (n=%i): %.3f, %.3f\" % (count+1, n_train, n_test, score_train, score_test))\n",
        "        results.append((fraction, count, score_train, score_test, (n_train, n_test), (y_train, y_pred_train, y_test, y_pred, X_test)))\n",
        "        count += 1\n",
        "\n",
        "    return results\n"
      ]
    },
    {
      "cell_type": "code",
      "execution_count": null,
      "metadata": {
        "colab": {
          "base_uri": "https://localhost:8080/"
        },
        "id": "xgrbGqG1nijD",
        "outputId": "8503726b-e17e-43f7-9702-c74d2f29faf0"
      },
      "outputs": [
        {
          "name": "stdout",
          "output_type": "stream",
          "text": [
            "10%\n",
            "Fold 1/10 - Train score (n=36), Test score (n=4): 1.000, 1.000\n",
            "Fold 2/10 - Train score (n=36), Test score (n=4): 1.000, 1.000\n",
            "Fold 3/10 - Train score (n=36), Test score (n=4): 1.000, 1.000\n",
            "Fold 4/10 - Train score (n=36), Test score (n=4): 1.000, 1.000\n",
            "Fold 5/10 - Train score (n=36), Test score (n=4): 1.000, 0.333\n",
            "Fold 6/10 - Train score (n=36), Test score (n=4): 1.000, 1.000\n",
            "Fold 7/10 - Train score (n=36), Test score (n=4): 1.000, 0.500\n",
            "Fold 8/10 - Train score (n=36), Test score (n=4): 1.000, 0.833\n",
            "Fold 9/10 - Train score (n=36), Test score (n=4): 1.000, 1.000\n",
            "Fold 10/10 - Train score (n=36), Test score (n=4): 1.000, 1.000\n",
            "20%\n",
            "Fold 1/10 - Train score (n=72), Test score (n=8): 1.000, 0.667\n",
            "Fold 2/10 - Train score (n=72), Test score (n=8): 0.907, 0.643\n",
            "Fold 3/10 - Train score (n=72), Test score (n=8): 1.000, 0.583\n",
            "Fold 4/10 - Train score (n=72), Test score (n=8): 1.000, 0.500\n",
            "Fold 5/10 - Train score (n=72), Test score (n=8): 1.000, 0.750\n",
            "Fold 6/10 - Train score (n=72), Test score (n=8): 1.000, 1.000\n",
            "Fold 7/10 - Train score (n=72), Test score (n=8): 1.000, 0.917\n",
            "Fold 8/10 - Train score (n=72), Test score (n=8): 1.000, 1.000\n",
            "Fold 9/10 - Train score (n=72), Test score (n=8): 1.000, 1.000\n",
            "Fold 10/10 - Train score (n=72), Test score (n=8): 1.000, 1.000\n",
            "30%\n",
            "Fold 1/10 - Train score (n=108), Test score (n=12): 1.000, 1.000\n",
            "Fold 2/10 - Train score (n=108), Test score (n=12): 1.000, 1.000\n",
            "Fold 3/10 - Train score (n=108), Test score (n=12): 1.000, 1.000\n",
            "Fold 4/10 - Train score (n=108), Test score (n=12): 1.000, 0.867\n",
            "Fold 5/10 - Train score (n=108), Test score (n=12): 1.000, 1.000\n",
            "Fold 6/10 - Train score (n=108), Test score (n=12): 1.000, 0.950\n",
            "Fold 7/10 - Train score (n=108), Test score (n=12): 1.000, 1.000\n",
            "Fold 8/10 - Train score (n=108), Test score (n=12): 1.000, 0.887\n",
            "Fold 9/10 - Train score (n=108), Test score (n=12): 1.000, 1.000\n",
            "Fold 10/10 - Train score (n=108), Test score (n=12): 1.000, 0.854\n",
            "40%\n",
            "Fold 1/10 - Train score (n=144), Test score (n=16): 1.000, 1.000\n",
            "Fold 2/10 - Train score (n=144), Test score (n=16): 0.983, 0.620\n",
            "Fold 3/10 - Train score (n=144), Test score (n=16): 1.000, 0.887\n",
            "Fold 4/10 - Train score (n=144), Test score (n=16): 1.000, 0.950\n",
            "Fold 5/10 - Train score (n=144), Test score (n=16): 1.000, 1.000\n",
            "Fold 6/10 - Train score (n=144), Test score (n=16): 0.949, 0.887\n",
            "Fold 7/10 - Train score (n=144), Test score (n=16): 1.000, 0.887\n",
            "Fold 8/10 - Train score (n=144), Test score (n=16): 1.000, 1.000\n",
            "Fold 9/10 - Train score (n=144), Test score (n=16): 1.000, 1.000\n",
            "Fold 10/10 - Train score (n=144), Test score (n=16): 1.000, 1.000\n",
            "50%\n",
            "Fold 1/10 - Train score (n=180), Test score (n=21): 1.000, 0.841\n",
            "Fold 2/10 - Train score (n=181), Test score (n=20): 1.000, 0.967\n",
            "Fold 3/10 - Train score (n=181), Test score (n=20): 1.000, 1.000\n",
            "Fold 4/10 - Train score (n=181), Test score (n=20): 1.000, 0.943\n",
            "Fold 5/10 - Train score (n=181), Test score (n=20): 1.000, 1.000\n",
            "Fold 6/10 - Train score (n=181), Test score (n=20): 1.000, 1.000\n",
            "Fold 7/10 - Train score (n=181), Test score (n=20): 0.999, 0.741\n",
            "Fold 8/10 - Train score (n=181), Test score (n=20): 1.000, 0.976\n",
            "Fold 9/10 - Train score (n=181), Test score (n=20): 1.000, 1.000\n",
            "Fold 10/10 - Train score (n=181), Test score (n=20): 0.997, 0.758\n",
            "60%\n",
            "Fold 1/10 - Train score (n=216), Test score (n=25): 1.000, 1.000\n",
            "Fold 2/10 - Train score (n=217), Test score (n=24): 0.997, 0.944\n",
            "Fold 3/10 - Train score (n=217), Test score (n=24): 1.000, 1.000\n",
            "Fold 4/10 - Train score (n=217), Test score (n=24): 1.000, 0.789\n",
            "Fold 5/10 - Train score (n=217), Test score (n=24): 1.000, 1.000\n",
            "Fold 6/10 - Train score (n=217), Test score (n=24): 1.000, 0.740\n",
            "Fold 7/10 - Train score (n=217), Test score (n=24): 1.000, 0.901\n",
            "Fold 8/10 - Train score (n=217), Test score (n=24): 1.000, 1.000\n",
            "Fold 9/10 - Train score (n=217), Test score (n=24): 1.000, 1.000\n",
            "Fold 10/10 - Train score (n=217), Test score (n=24): 1.000, 0.982\n",
            "70%\n",
            "Fold 1/10 - Train score (n=252), Test score (n=29): 1.000, 1.000\n",
            "Fold 2/10 - Train score (n=253), Test score (n=28): 1.000, 1.000\n",
            "Fold 3/10 - Train score (n=253), Test score (n=28): 1.000, 1.000\n",
            "Fold 4/10 - Train score (n=253), Test score (n=28): 1.000, 0.755\n",
            "Fold 5/10 - Train score (n=253), Test score (n=28): 1.000, 0.929\n",
            "Fold 6/10 - Train score (n=253), Test score (n=28): 1.000, 1.000\n",
            "Fold 7/10 - Train score (n=253), Test score (n=28): 1.000, 1.000\n",
            "Fold 8/10 - Train score (n=253), Test score (n=28): 1.000, 0.982\n",
            "Fold 9/10 - Train score (n=253), Test score (n=28): 1.000, 0.852\n",
            "Fold 10/10 - Train score (n=253), Test score (n=28): 1.000, 0.912\n",
            "80%\n",
            "Fold 1/10 - Train score (n=288), Test score (n=33): 1.000, 1.000\n",
            "Fold 2/10 - Train score (n=289), Test score (n=32): 1.000, 0.913\n",
            "Fold 3/10 - Train score (n=289), Test score (n=32): 1.000, 0.932\n",
            "Fold 4/10 - Train score (n=289), Test score (n=32): 1.000, 0.946\n",
            "Fold 5/10 - Train score (n=289), Test score (n=32): 1.000, 0.975\n",
            "Fold 6/10 - Train score (n=289), Test score (n=32): 1.000, 1.000\n",
            "Fold 7/10 - Train score (n=289), Test score (n=32): 1.000, 0.896\n",
            "Fold 8/10 - Train score (n=289), Test score (n=32): 1.000, 0.970\n",
            "Fold 9/10 - Train score (n=289), Test score (n=32): 1.000, 0.950\n",
            "Fold 10/10 - Train score (n=289), Test score (n=32): 1.000, 0.929\n",
            "85%\n",
            "Fold 1/10 - Train score (n=306), Test score (n=35): 1.000, 0.977\n",
            "Fold 2/10 - Train score (n=307), Test score (n=34): 1.000, 1.000\n",
            "Fold 3/10 - Train score (n=307), Test score (n=34): 1.000, 0.918\n",
            "Fold 4/10 - Train score (n=307), Test score (n=34): 1.000, 0.975\n",
            "Fold 5/10 - Train score (n=307), Test score (n=34): 1.000, 1.000\n",
            "Fold 6/10 - Train score (n=307), Test score (n=34): 1.000, 1.000\n",
            "Fold 7/10 - Train score (n=307), Test score (n=34): 1.000, 0.890\n",
            "Fold 8/10 - Train score (n=307), Test score (n=34): 1.000, 0.963\n",
            "Fold 9/10 - Train score (n=307), Test score (n=34): 1.000, 0.947\n",
            "Fold 10/10 - Train score (n=307), Test score (n=34): 1.000, 0.745\n",
            "90%\n",
            "Fold 1/10 - Train score (n=324), Test score (n=37): 1.000, 0.935\n",
            "Fold 2/10 - Train score (n=325), Test score (n=36): 0.999, 0.825\n",
            "Fold 3/10 - Train score (n=325), Test score (n=36): 1.000, 0.822\n",
            "Fold 4/10 - Train score (n=325), Test score (n=36): 1.000, 0.989\n",
            "Fold 5/10 - Train score (n=325), Test score (n=36): 1.000, 0.989\n",
            "Fold 6/10 - Train score (n=325), Test score (n=36): 1.000, 0.960\n",
            "Fold 7/10 - Train score (n=325), Test score (n=36): 1.000, 0.989\n",
            "Fold 8/10 - Train score (n=325), Test score (n=36): 1.000, 0.944\n",
            "Fold 9/10 - Train score (n=325), Test score (n=36): 1.000, 1.000\n",
            "Fold 10/10 - Train score (n=325), Test score (n=36): 1.000, 0.980\n",
            "95%\n",
            "Fold 1/10 - Train score (n=342), Test score (n=39): 1.000, 0.991\n",
            "Fold 2/10 - Train score (n=343), Test score (n=38): 1.000, 0.918\n",
            "Fold 3/10 - Train score (n=343), Test score (n=38): 1.000, 0.991\n",
            "Fold 4/10 - Train score (n=343), Test score (n=38): 1.000, 1.000\n",
            "Fold 5/10 - Train score (n=343), Test score (n=38): 0.996, 0.981\n",
            "Fold 6/10 - Train score (n=343), Test score (n=38): 1.000, 1.000\n",
            "Fold 7/10 - Train score (n=343), Test score (n=38): 1.000, 0.991\n",
            "Fold 8/10 - Train score (n=343), Test score (n=38): 1.000, 0.991\n",
            "Fold 9/10 - Train score (n=343), Test score (n=38): 1.000, 0.991\n",
            "Fold 10/10 - Train score (n=343), Test score (n=38): 1.000, 1.000\n",
            "100%\n"
          ]
        },
        {
          "name": "stderr",
          "output_type": "stream",
          "text": [
            "WARNING:absl:Found untraced functions such as _jit_compiled_convolution_op, _jit_compiled_convolution_op, _jit_compiled_convolution_op while saving (showing 3 of 3). These functions will not be directly callable after loading.\n"
          ]
        },
        {
          "name": "stdout",
          "output_type": "stream",
          "text": [
            "Fold 1/10 - Train score (n=361), Test score (n=41): 1.000, 0.965\n"
          ]
        },
        {
          "name": "stderr",
          "output_type": "stream",
          "text": [
            "WARNING:absl:Found untraced functions such as _jit_compiled_convolution_op, _jit_compiled_convolution_op, _jit_compiled_convolution_op while saving (showing 3 of 3). These functions will not be directly callable after loading.\n"
          ]
        },
        {
          "name": "stdout",
          "output_type": "stream",
          "text": [
            "Fold 2/10 - Train score (n=361), Test score (n=41): 1.000, 0.975\n"
          ]
        },
        {
          "name": "stderr",
          "output_type": "stream",
          "text": [
            "WARNING:absl:Found untraced functions such as _jit_compiled_convolution_op, _jit_compiled_convolution_op, _jit_compiled_convolution_op while saving (showing 3 of 3). These functions will not be directly callable after loading.\n"
          ]
        },
        {
          "name": "stdout",
          "output_type": "stream",
          "text": [
            "Fold 3/10 - Train score (n=362), Test score (n=40): 1.000, 0.916\n"
          ]
        },
        {
          "name": "stderr",
          "output_type": "stream",
          "text": [
            "WARNING:absl:Found untraced functions such as _jit_compiled_convolution_op, _jit_compiled_convolution_op, _jit_compiled_convolution_op while saving (showing 3 of 3). These functions will not be directly callable after loading.\n"
          ]
        },
        {
          "name": "stdout",
          "output_type": "stream",
          "text": [
            "Fold 4/10 - Train score (n=362), Test score (n=40): 1.000, 0.881\n"
          ]
        },
        {
          "name": "stderr",
          "output_type": "stream",
          "text": [
            "WARNING:absl:Found untraced functions such as _jit_compiled_convolution_op, _jit_compiled_convolution_op, _jit_compiled_convolution_op while saving (showing 3 of 3). These functions will not be directly callable after loading.\n"
          ]
        },
        {
          "name": "stdout",
          "output_type": "stream",
          "text": [
            "Fold 5/10 - Train score (n=362), Test score (n=40): 1.000, 0.917\n"
          ]
        },
        {
          "name": "stderr",
          "output_type": "stream",
          "text": [
            "WARNING:absl:Found untraced functions such as _jit_compiled_convolution_op, _jit_compiled_convolution_op, _jit_compiled_convolution_op while saving (showing 3 of 3). These functions will not be directly callable after loading.\n"
          ]
        },
        {
          "name": "stdout",
          "output_type": "stream",
          "text": [
            "Fold 6/10 - Train score (n=362), Test score (n=40): 1.000, 0.935\n"
          ]
        },
        {
          "name": "stderr",
          "output_type": "stream",
          "text": [
            "WARNING:absl:Found untraced functions such as _jit_compiled_convolution_op, _jit_compiled_convolution_op, _jit_compiled_convolution_op while saving (showing 3 of 3). These functions will not be directly callable after loading.\n"
          ]
        },
        {
          "name": "stdout",
          "output_type": "stream",
          "text": [
            "Fold 7/10 - Train score (n=362), Test score (n=40): 1.000, 1.000\n"
          ]
        },
        {
          "name": "stderr",
          "output_type": "stream",
          "text": [
            "WARNING:absl:Found untraced functions such as _jit_compiled_convolution_op, _jit_compiled_convolution_op, _jit_compiled_convolution_op while saving (showing 3 of 3). These functions will not be directly callable after loading.\n"
          ]
        },
        {
          "name": "stdout",
          "output_type": "stream",
          "text": [
            "Fold 8/10 - Train score (n=362), Test score (n=40): 1.000, 1.000\n"
          ]
        },
        {
          "name": "stderr",
          "output_type": "stream",
          "text": [
            "WARNING:absl:Found untraced functions such as _jit_compiled_convolution_op, _jit_compiled_convolution_op, _jit_compiled_convolution_op while saving (showing 3 of 3). These functions will not be directly callable after loading.\n"
          ]
        },
        {
          "name": "stdout",
          "output_type": "stream",
          "text": [
            "Fold 9/10 - Train score (n=362), Test score (n=40): 1.000, 0.984\n"
          ]
        },
        {
          "name": "stderr",
          "output_type": "stream",
          "text": [
            "WARNING:absl:Found untraced functions such as _jit_compiled_convolution_op, _jit_compiled_convolution_op, _jit_compiled_convolution_op while saving (showing 3 of 3). These functions will not be directly callable after loading.\n"
          ]
        },
        {
          "name": "stdout",
          "output_type": "stream",
          "text": [
            "Fold 10/10 - Train score (n=362), Test score (n=40): 1.000, 0.856\n"
          ]
        }
      ],
      "source": [
        "fractions = [0.1, 0.2, 0.3, 0.4, 0.5, 0.6, 0.7, 0.8, 0.85, 0.9, 0.95, 1]\n",
        "#fractions = [1]\n",
        "outputs = []\n",
        "\n",
        "# Run 10-fold CV at each fraction level\n",
        "for fraction in fractions:\n",
        "    print(\"%i%%\" % (fraction*100,))\n",
        "    outputs.extend(get_scores(fraction))\n",
        "\n",
        "with open(\"CV_outputs.pkl\", 'wb') as pfile:\n",
        "    pickle.dump(outputs, pfile, protocol=pickle.HIGHEST_PROTOCOL)"
      ]
    },
    {
      "cell_type": "markdown",
      "metadata": {
        "id": "Q_5Yr--lQPlF"
      },
      "source": [
        "## Final performance"
      ]
    },
    {
      "cell_type": "code",
      "execution_count": null,
      "metadata": {
        "id": "groBvkP2QWWM"
      },
      "outputs": [],
      "source": [
        "X_cv = []\n",
        "y_actual_cv = []\n",
        "y_pred_cv = []\n",
        "\n",
        "# Aggregate predictions\n",
        "for fold_results in outputs:\n",
        "    # Unpack tuple\n",
        "    fraction, count, score_train, score_test, n_tup, data_tup = fold_results\n",
        "    n_train, n_test = n_tup\n",
        "    y_train, y_pred_train, y_test, y_pred, X_test = data_tup\n",
        "    \n",
        "    # Only use final model folds\n",
        "    if fraction != 1.0:\n",
        "        continue\n",
        "    \n",
        "    # Collect test fold results\n",
        "    X_cv.extend(X_test)\n",
        "    y_actual_cv.extend(y_test)\n",
        "    y_pred_cv.extend(y_pred)\n",
        "\n",
        "# Convert aggregated predictions to arrays\n",
        "X_cv = np.array(X_cv)\n",
        "y_actual_cv = np.array(y_actual_cv)\n",
        "y_pred_cv = np.array(y_pred_cv)\n",
        "\n",
        "# Check aggregated predictions\n",
        "assert(X_grouped.shape == X_cv.shape)\n",
        "assert(len(y_grouped) == len(y_actual_cv))\n",
        "assert(len(y_grouped) == len(y_pred_cv))\n",
        "\n"
      ]
    },
    {
      "cell_type": "code",
      "execution_count": null,
      "metadata": {
        "colab": {
          "base_uri": "https://localhost:8080/",
          "height": 295
        },
        "id": "gHLQLArFTL8x",
        "outputId": "a3c2f817-9b27-496c-da0d-90e0cf19ec00"
      },
      "outputs": [
        {
          "data": {
            "image/png": "[encoded data removed]",
            "text/plain": [
              "<Figure size 432x288 with 1 Axes>"
            ]
          },
          "metadata": {
            "needs_background": "light"
          },
          "output_type": "display_data"
        }
      ],
      "source": [
        "display = PrecisionRecallDisplay.from_predictions(y_actual_cv, y_pred_cv, name=\"CNN\")\n",
        "_ = display.ax_.set_title(\"2-class Precision-Recall curve\")"
      ]
    },
    {
      "cell_type": "code",
      "execution_count": null,
      "metadata": {
        "id": "fJXm9afjTkPY"
      },
      "outputs": [],
      "source": [
        "preds_neg = []\n",
        "preds_pos = []\n",
        "\n",
        "for i in range(len(y_actual_cv)):\n",
        "    y_predicted = y_pred_cv[i]\n",
        "    y_real = y_actual_cv[i]\n",
        "    if y_real == 1:\n",
        "        preds_pos.append(y_predicted)\n",
        "    else:\n",
        "        preds_neg.append(y_predicted)"
      ]
    },
    {
      "cell_type": "code",
      "execution_count": null,
      "metadata": {
        "colab": {
          "base_uri": "https://localhost:8080/",
          "height": 282
        },
        "id": "H9Q4vNkrTrrA",
        "outputId": "0ef04578-5570-4bc0-ea38-57b330d07992"
      },
      "outputs": [
        {
          "data": {
            "text/plain": [
              "<Axes: >"
            ]
          },
          "execution_count": 220,
          "metadata": {},
          "output_type": "execute_result"
        },
        {
          "data": {
            "image/png": "[encoded data removed]",
            "text/plain": [
              "<Figure size 432x288 with 1 Axes>"
            ]
          },
          "metadata": {
            "needs_background": "light"
          },
          "output_type": "display_data"
        }
      ],
      "source": [
        "sns.violinplot(data=[preds_neg, preds_pos], orient='h', inner='stick', cut=0)"
      ]
    },
    {
      "cell_type": "code",
      "execution_count": null,
      "metadata": {
        "colab": {
          "base_uri": "https://localhost:8080/",
          "height": 279
        },
        "id": "O0kPwAVpTt1M",
        "outputId": "9317a3fd-602e-406e-b815-471f442e32bf"
      },
      "outputs": [
        {
          "data": {
            "image/png": "[encoded data removed]",
            "text/plain": [
              "<Figure size 432x288 with 1 Axes>"
            ]
          },
          "metadata": {
            "needs_background": "light"
          },
          "output_type": "display_data"
        }
      ],
      "source": [
        "plt.clf()\n",
        "plt.hist([preds_neg, preds_pos], range=(0,1), bins=20, label=['Neg samples', 'Pos samples'])\n",
        "plt.xlabel(\"Model prediction\")\n",
        "plt.ylabel(\"Count\")\n",
        "plt.legend(loc='upper right')\n",
        "plt.show()"
      ]
    },
    {
      "cell_type": "code",
      "execution_count": null,
      "metadata": {
        "colab": {
          "base_uri": "https://localhost:8080/"
        },
        "id": "UQeFUqMqTwgZ",
        "outputId": "1140f749-758e-44a1-e5a7-cdbcf0d14c0d"
      },
      "outputs": [
        {
          "name": "stdout",
          "output_type": "stream",
          "text": [
            "              precision    recall  f1-score   support\n",
            "\n",
            "         neg       0.97      0.93      0.95       297\n",
            "         pos       0.83      0.90      0.86       105\n",
            "\n",
            "    accuracy                           0.93       402\n",
            "   macro avg       0.90      0.92      0.91       402\n",
            "weighted avg       0.93      0.93      0.93       402\n",
            "\n"
          ]
        }
      ],
      "source": [
        "y_pred_binarized = (y_pred_cv >= 0.2)\n",
        "\n",
        "print(classification_report(y_actual_cv, y_pred_binarized, target_names=[\"neg\", \"pos\"]))"
      ]
    },
    {
      "cell_type": "code",
      "execution_count": null,
      "metadata": {
        "colab": {
          "base_uri": "https://localhost:8080/"
        },
        "id": "NWPqEreATzKv",
        "outputId": "eb3833e7-1d5f-464e-d738-f5aec6ebbda9"
      },
      "outputs": [
        {
          "data": {
            "text/plain": [
              "0.8636363636363636"
            ]
          },
          "execution_count": 223,
          "metadata": {},
          "output_type": "execute_result"
        }
      ],
      "source": [
        "f1_score(y_actual_cv, y_pred_binarized)"
      ]
    },
    {
      "cell_type": "markdown",
      "metadata": {
        "id": "Ak31dckaQM_d"
      },
      "source": [
        "## Plot learning curves"
      ]
    },
    {
      "cell_type": "code",
      "execution_count": null,
      "metadata": {
        "id": "pj5to-surkHY"
      },
      "outputs": [],
      "source": [
        "lc_train_data = {}\n",
        "lc_test_data = {}\n",
        "\n",
        "for output in outputs:\n",
        "    fraction, count, score_train, score_test, _, _ = output\n",
        "\n",
        "    if fraction not in lc_train_data:\n",
        "        lc_train_data[fraction] = []\n",
        "        lc_test_data[fraction] = []\n",
        "    \n",
        "    # Add actual scores\n",
        "    lc_train_data[fraction].append(score_train)\n",
        "    lc_test_data[fraction].append(score_test)\n",
        "  \n",
        "\n",
        "    # TODO: add bootstrapped scores\n",
        "    \n",
        "\n",
        "x = []\n",
        "score_train_min = []\n",
        "score_train_mean = []\n",
        "score_train_max = []\n",
        "score_test_min = []\n",
        "score_test_mean = []\n",
        "score_test_max = []\n",
        "\n",
        "for fraction in lc_train_data.keys():\n",
        "    x.append(fraction)\n",
        "    score_train_data = lc_train_data[fraction]\n",
        "    score_test_data = lc_test_data[fraction]\n",
        "    score_train_min.append(np.min(score_train_data))\n",
        "    score_train_mean.append(np.mean(score_train_data))\n",
        "    score_train_max.append(np.max(score_train_data))\n",
        "    score_test_min.append(np.min(score_test_data))\n",
        "    score_test_mean.append(np.mean(score_test_data))\n",
        "    score_test_max.append(np.max(score_test_data))\n"
      ]
    },
    {
      "cell_type": "code",
      "execution_count": null,
      "metadata": {
        "colab": {
          "base_uri": "https://localhost:8080/",
          "height": 279
        },
        "id": "773muby7tmHf",
        "outputId": "9eb5c1e0-6350-437c-ecf3-f4de7393e442"
      },
      "outputs": [
        {
          "data": {
            "image/png": "[encoded data removed]",
            "text/plain": [
              "<Figure size 432x288 with 1 Axes>"
            ]
          },
          "metadata": {
            "needs_background": "light"
          },
          "output_type": "display_data"
        }
      ],
      "source": [
        "plt.clf()\n",
        "plt.plot(x, score_train_mean, label=\"Train\", c=\"yellow\")\n",
        "plt.fill_between(x, score_train_min, score_train_max ,alpha=0.3, facecolor=\"yellow\")\n",
        "plt.plot(x, score_test_mean, label=\"Test\", c=\"blue\")\n",
        "plt.fill_between(x, score_test_min, score_test_max ,alpha=0.3, facecolor=\"blue\")\n",
        "plt.legend(loc='upper center', bbox_to_anchor=(1.15, 1.0))\n",
        "plt.ylim((0,1.1))\n",
        "plt.xlabel(\"Fraction of total available samples\")\n",
        "plt.ylabel(\"Average Precision\")\n",
        "plt.savefig(\"LC.png\", bbox_inches='tight', dpi=600)"
      ]
    },
    {
      "cell_type": "code",
      "execution_count": null,
      "metadata": {
        "id": "1MU4kvyC9fHF"
      },
      "outputs": [],
      "source": [
        "# move files into new directory and zip"
      ]
    },
    {
      "cell_type": "code",
      "execution_count": null,
      "metadata": {
        "colab": {
          "base_uri": "https://localhost:8080/"
        },
        "id": "9tzk-yS29DRs",
        "outputId": "f8e03fb3-cb0d-496b-85af-c83488fd4baa"
      },
      "outputs": [
        {
          "name": "stdout",
          "output_type": "stream",
          "text": [
            "/content\n"
          ]
        }
      ],
      "source": [
        "#%cd .."
      ]
    },
    {
      "cell_type": "code",
      "execution_count": null,
      "metadata": {
        "colab": {
          "base_uri": "https://localhost:8080/"
        },
        "id": "Z1IkYbX-8_qX",
        "outputId": "5f7dfca1-c495-4f3a-9c3c-e49020f9affd"
      },
      "outputs": [
        {
          "name": "stdout",
          "output_type": "stream",
          "text": [
            "model2/\n",
            "model2/model_fold_7.tf/\n",
            "model2/model_fold_7.tf/keras_metadata.pb\n",
            "model2/model_fold_7.tf/assets/\n",
            "model2/model_fold_7.tf/saved_model.pb\n",
            "model2/model_fold_7.tf/variables/\n",
            "model2/model_fold_7.tf/variables/variables.data-00000-of-00001\n",
            "model2/model_fold_7.tf/variables/variables.index\n",
            "model2/model_fold_7.tf/fingerprint.pb\n",
            "model2/CV_outputs.pkl\n",
            "model2/model_fold_0.tf/\n",
            "model2/model_fold_0.tf/keras_metadata.pb\n",
            "model2/model_fold_0.tf/assets/\n",
            "model2/model_fold_0.tf/saved_model.pb\n",
            "model2/model_fold_0.tf/variables/\n",
            "model2/model_fold_0.tf/variables/variables.data-00000-of-00001\n",
            "model2/model_fold_0.tf/variables/variables.index\n",
            "model2/model_fold_0.tf/fingerprint.pb\n",
            "model2/model_fold_9.tf/\n",
            "model2/model_fold_9.tf/keras_metadata.pb\n",
            "model2/model_fold_9.tf/assets/\n",
            "model2/model_fold_9.tf/saved_model.pb\n",
            "model2/model_fold_9.tf/variables/\n",
            "model2/model_fold_9.tf/variables/variables.data-00000-of-00001\n",
            "model2/model_fold_9.tf/variables/variables.index\n",
            "model2/model_fold_9.tf/fingerprint.pb\n",
            "model2/model_fold_8.tf/\n",
            "model2/model_fold_8.tf/keras_metadata.pb\n",
            "model2/model_fold_8.tf/assets/\n",
            "model2/model_fold_8.tf/saved_model.pb\n",
            "model2/model_fold_8.tf/variables/\n",
            "model2/model_fold_8.tf/variables/variables.data-00000-of-00001\n",
            "model2/model_fold_8.tf/variables/variables.index\n",
            "model2/model_fold_8.tf/fingerprint.pb\n",
            "model2/model_fold_4.tf/\n",
            "model2/model_fold_4.tf/keras_metadata.pb\n",
            "model2/model_fold_4.tf/assets/\n",
            "model2/model_fold_4.tf/saved_model.pb\n",
            "model2/model_fold_4.tf/variables/\n",
            "model2/model_fold_4.tf/variables/variables.data-00000-of-00001\n",
            "model2/model_fold_4.tf/variables/variables.index\n",
            "model2/model_fold_4.tf/fingerprint.pb\n",
            "model2/LC.png\n",
            "model2/model_fold_2.tf/\n",
            "model2/model_fold_2.tf/keras_metadata.pb\n",
            "model2/model_fold_2.tf/assets/\n",
            "model2/model_fold_2.tf/saved_model.pb\n",
            "model2/model_fold_2.tf/variables/\n",
            "model2/model_fold_2.tf/variables/variables.data-00000-of-00001\n",
            "model2/model_fold_2.tf/variables/variables.index\n",
            "model2/model_fold_2.tf/fingerprint.pb\n",
            "model2/model_fold_6.tf/\n",
            "model2/model_fold_6.tf/keras_metadata.pb\n",
            "model2/model_fold_6.tf/assets/\n",
            "model2/model_fold_6.tf/saved_model.pb\n",
            "model2/model_fold_6.tf/variables/\n",
            "model2/model_fold_6.tf/variables/variables.data-00000-of-00001\n",
            "model2/model_fold_6.tf/variables/variables.index\n",
            "model2/model_fold_6.tf/fingerprint.pb\n",
            "model2/model_fold_3.tf/\n",
            "model2/model_fold_3.tf/keras_metadata.pb\n",
            "model2/model_fold_3.tf/assets/\n",
            "model2/model_fold_3.tf/saved_model.pb\n",
            "model2/model_fold_3.tf/variables/\n",
            "model2/model_fold_3.tf/variables/variables.data-00000-of-00001\n",
            "model2/model_fold_3.tf/variables/variables.index\n",
            "model2/model_fold_3.tf/fingerprint.pb\n",
            "model2/model_fold_1.tf/\n",
            "model2/model_fold_1.tf/keras_metadata.pb\n",
            "model2/model_fold_1.tf/assets/\n",
            "model2/model_fold_1.tf/saved_model.pb\n",
            "model2/model_fold_1.tf/variables/\n",
            "model2/model_fold_1.tf/variables/variables.data-00000-of-00001\n",
            "model2/model_fold_1.tf/variables/variables.index\n",
            "model2/model_fold_1.tf/fingerprint.pb\n",
            "model2/model_fold_5.tf/\n",
            "model2/model_fold_5.tf/keras_metadata.pb\n",
            "model2/model_fold_5.tf/assets/\n",
            "model2/model_fold_5.tf/saved_model.pb\n",
            "model2/model_fold_5.tf/variables/\n",
            "model2/model_fold_5.tf/variables/variables.data-00000-of-00001\n",
            "model2/model_fold_5.tf/variables/variables.index\n",
            "model2/model_fold_5.tf/fingerprint.pb\n"
          ]
        }
      ],
      "source": [
        "#!tar -zcvf model2.tar.gz model2/ "
      ]
    }
  ],
  "metadata": {
    "accelerator": "GPU",
    "colab": {
      "provenance": []
    },
    "gpuClass": "standard",
    "kernelspec": {
      "display_name": "Python 3",
      "name": "python3"
    },
    "language_info": {
      "codemirror_mode": {
        "name": "ipython",
        "version": 3
      },
      "file_extension": ".py",
      "mimetype": "text/x-python",
      "name": "python",
      "nbconvert_exporter": "python",
      "pygments_lexer": "ipython3",
      "version": "3.9.12"
    }
  },
  "nbformat": 4,
  "nbformat_minor": 0
}
