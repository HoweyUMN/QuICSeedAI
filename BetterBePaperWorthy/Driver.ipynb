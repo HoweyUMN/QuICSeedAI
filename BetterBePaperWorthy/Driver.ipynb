{
 "cells": [
  {
   "cell_type": "markdown",
   "metadata": {},
   "source": [
    "# ML-QuIC Demonstration Notebook"
   ]
  },
  {
   "cell_type": "markdown",
   "metadata": {},
   "source": [
    "### Metrics Quick Reference\n",
    "Accuracy = % correct\n",
    "Precision = % identified positive which actually were\n",
    "Recall = % of positive samples identified"
   ]
  },
  {
   "cell_type": "markdown",
   "metadata": {},
   "source": [
    "## Universal Import of Data and Packages"
   ]
  },
  {
   "cell_type": "code",
   "execution_count": 81,
   "metadata": {},
   "outputs": [],
   "source": [
    "### Import Packages\n",
    "import imp\n",
    "import ML_QuIC\n",
    "imp.reload(ML_QuIC)\n",
    "import copy\n",
    "import numpy as np"
   ]
  },
  {
   "cell_type": "code",
   "execution_count": 82,
   "metadata": {},
   "outputs": [
    {
     "name": "stdout",
     "output_type": "stream",
     "text": [
      "Loading Data from ./Data/\n"
     ]
    }
   ],
   "source": [
    "### Import Data and Create Objects to Analyze\n",
    "DATA_DIR = './Data/'\n",
    "RANDOM_SEED = 7\n",
    "\n",
    "# Load data\n",
    "ml_quic = ML_QuIC.ML_QuIC()\n",
    "ml_quic.import_dataset(data_dir=DATA_DIR);"
   ]
  },
  {
   "cell_type": "markdown",
   "metadata": {},
   "source": [
    "## Train Unsupervised Models"
   ]
  },
  {
   "cell_type": "markdown",
   "metadata": {},
   "source": [
    "### KMeans"
   ]
  },
  {
   "cell_type": "code",
   "execution_count": 83,
   "metadata": {},
   "outputs": [
    {
     "data": {
      "text/plain": [
       "[{'KMeans': array([8249, 3295, 4855, ..., 8821, 5018,  510])},\n",
       " {'KMeans': array([7385, 5666, 9181, ..., 2731, 8885, 5770])}]"
      ]
     },
     "execution_count": 83,
     "metadata": {},
     "output_type": "execute_result"
    }
   ],
   "source": [
    "### Unsupervised Learning - Raw\n",
    "from Models import KMeansModel\n",
    "\n",
    "# K-Means\n",
    "ml_quic.add_model(KMeansModel.KMeansModel(n_clusters = 2), model_name='KMeans', tag='Unsupervised')\n",
    "ml_quic.separate_train_test(model_names=['KMeans'], train_type=3)"
   ]
  },
  {
   "cell_type": "markdown",
   "metadata": {},
   "source": [
    "### Autoencoder"
   ]
  },
  {
   "cell_type": "code",
   "execution_count": 84,
   "metadata": {},
   "outputs": [],
   "source": [
    "# Autoencoder \n",
    "from sklearn.model_selection import train_test_split\n",
    "from Models import AutoEncoder\n",
    "imp.reload(AutoEncoder)\n",
    "\n",
    "# Add model and prep data\n",
    "ml_quic.add_model(AutoEncoder.AutoEncoder(NDIM=ml_quic.get_num_timesteps_raw()), model_name='AE', tag='Unsupervised')\n",
    "ml_quic.separate_train_test(model_names=['AE'], train_type=1);"
   ]
  },
  {
   "cell_type": "markdown",
   "metadata": {},
   "source": [
    "### Train and Compare Unsupervised Models"
   ]
  },
  {
   "cell_type": "code",
   "execution_count": 85,
   "metadata": {},
   "outputs": [
    {
     "name": "stdout",
     "output_type": "stream",
     "text": [
      "Model: \"model_18\"\n",
      "_________________________________________________________________\n",
      "Layer (type)                 Output Shape              Param #   \n",
      "=================================================================\n",
      "input_19 (InputLayer)        [(None, 65)]              0         \n",
      "_________________________________________________________________\n",
      "dense_140 (Dense)            (None, 32)                2112      \n",
      "_________________________________________________________________\n",
      "dense_141 (Dense)            (None, 16)                528       \n",
      "_________________________________________________________________\n",
      "dense_142 (Dense)            (None, 8)                 136       \n",
      "_________________________________________________________________\n",
      "dense_143 (Dense)            (None, 4)                 36        \n",
      "_________________________________________________________________\n",
      "dense_144 (Dense)            (None, 8)                 40        \n",
      "_________________________________________________________________\n",
      "dense_145 (Dense)            (None, 16)                144       \n",
      "_________________________________________________________________\n",
      "dense_146 (Dense)            (None, 32)                544       \n",
      "_________________________________________________________________\n",
      "dense_147 (Dense)            (None, 65)                2145      \n",
      "=================================================================\n",
      "Total params: 5,685\n",
      "Trainable params: 5,685\n",
      "Non-trainable params: 0\n",
      "_________________________________________________________________\n"
     ]
    }
   ],
   "source": [
    "ml_quic.train_models(tags=['Unsupervised'])\n"
   ]
  },
  {
   "cell_type": "markdown",
   "metadata": {},
   "source": [
    "## Supervised"
   ]
  },
  {
   "cell_type": "markdown",
   "metadata": {},
   "source": [
    "### Multilayer Perceptron"
   ]
  },
  {
   "cell_type": "code",
   "execution_count": null,
   "metadata": {},
   "outputs": [],
   "source": [
    "from Models import MLP\n",
    "imp.reload(MLP)\n",
    "\n",
    "# Get positive samples to train on \n",
    "x_train, x_test, y_train, y_test = train_test_split(x, y, test_size=0.2)\n",
    "ml_quic.add_model(MLP.MLP(NDIM = x_test.shape[1]), 'mlp', tag='Supervised')"
   ]
  }
 ],
 "metadata": {
  "kernelspec": {
   "display_name": "tf-keras-gpu",
   "language": "python",
   "name": "python3"
  },
  "language_info": {
   "codemirror_mode": {
    "name": "ipython",
    "version": 3
   },
   "file_extension": ".py",
   "mimetype": "text/x-python",
   "name": "python",
   "nbconvert_exporter": "python",
   "pygments_lexer": "ipython3",
   "version": "3.9.12"
  }
 },
 "nbformat": 4,
 "nbformat_minor": 2
}
